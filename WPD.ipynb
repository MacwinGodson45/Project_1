{
  "nbformat": 4,
  "nbformat_minor": 0,
  "metadata": {
    "colab": {
      "provenance": []
    },
    "kernelspec": {
      "name": "python3",
      "display_name": "Python 3"
    },
    "language_info": {
      "name": "python"
    }
  },
  "cells": [
    {
      "cell_type": "code",
      "execution_count": null,
      "metadata": {
        "id": "22KygYwGwg9K"
      },
      "outputs": [],
      "source": [
        "import pandas as pd\n",
        "import numpy as np\n",
        "import matplotlib.pyplot as plt\n",
        "import seaborn as sns"
      ]
    },
    {
      "cell_type": "code",
      "source": [
        "df = pd.read_csv('/content/drive/MyDrive/Final Year Project/Sub1_Sub2_WP.csv')\n",
        "df.head()"
      ],
      "metadata": {
        "colab": {
          "base_uri": "https://localhost:8080/",
          "height": 273
        },
        "id": "HL4umS1Ow1Hf",
        "outputId": "528cd209-f848-4b6d-ae5e-0412b89e556e"
      },
      "execution_count": null,
      "outputs": [
        {
          "output_type": "execute_result",
          "data": {
            "text/plain": [
              "   2.15E+00  -1.01E-02  -4.20E-02  1.95E-01  1.93E-01  1.11E-01  3.24E-03  \\\n",
              "0      2.12    -0.0467   -0.16800 -0.115000    0.1920   0.26300    0.0440   \n",
              "1      2.13    -0.2120    0.06170  0.062800   -0.1630  -0.05670    0.3750   \n",
              "2      2.16    -0.1140   -0.00139 -0.147000    0.0263   0.24500    0.0833   \n",
              "3      2.02    -0.0279    0.14800  0.153000    0.3420   0.18600    0.4630   \n",
              "4      2.54     0.2250    0.28700 -0.000901   -0.2420   0.00405   -0.1320   \n",
              "\n",
              "   2.62E-01  -1.74E-01  1.65E-01  ...  8.09E-03  4.04E-02  -2.91E-02  \\\n",
              "0     0.175     0.0461   0.54300  ...    0.2100    0.2990    -0.1250   \n",
              "1     0.416    -0.1750   0.00195  ...   -0.0792   -0.2040    -0.2490   \n",
              "2     0.184     0.0458   0.14000  ...    0.1290    0.1790    -0.0788   \n",
              "3     0.418    -0.1610  -0.45900  ...    0.1730    0.1480    -0.0440   \n",
              "4    -0.361     0.0831  -0.50600  ...   -0.2480   -0.0277     0.1240   \n",
              "\n",
              "   -1.17E-02  -6.27E-01  3.82E-01  -3.08E-02  -1.11E-02  3.43E-01  Target  \n",
              "0   -0.03740    -0.2890   -0.0448    -0.0272    -0.0389     0.327       0  \n",
              "1    0.00656    -0.0369    0.0238     0.2750     0.0179     0.358       0  \n",
              "2   -0.05240    -0.1610   -0.0883     0.0409    -0.0704     0.323       0  \n",
              "3   -0.05390    -0.4260    0.1700     0.2580     0.2200     0.386       0  \n",
              "4    0.22200    -0.8880    0.5640     0.0126    -0.1330     0.155       0  \n",
              "\n",
              "[5 rows x 33 columns]"
            ],
            "text/html": [
              "\n",
              "  <div id=\"df-b20c11e6-f2eb-424a-ad30-eae85dee3ed0\" class=\"colab-df-container\">\n",
              "    <div>\n",
              "<style scoped>\n",
              "    .dataframe tbody tr th:only-of-type {\n",
              "        vertical-align: middle;\n",
              "    }\n",
              "\n",
              "    .dataframe tbody tr th {\n",
              "        vertical-align: top;\n",
              "    }\n",
              "\n",
              "    .dataframe thead th {\n",
              "        text-align: right;\n",
              "    }\n",
              "</style>\n",
              "<table border=\"1\" class=\"dataframe\">\n",
              "  <thead>\n",
              "    <tr style=\"text-align: right;\">\n",
              "      <th></th>\n",
              "      <th>2.15E+00</th>\n",
              "      <th>-1.01E-02</th>\n",
              "      <th>-4.20E-02</th>\n",
              "      <th>1.95E-01</th>\n",
              "      <th>1.93E-01</th>\n",
              "      <th>1.11E-01</th>\n",
              "      <th>3.24E-03</th>\n",
              "      <th>2.62E-01</th>\n",
              "      <th>-1.74E-01</th>\n",
              "      <th>1.65E-01</th>\n",
              "      <th>...</th>\n",
              "      <th>8.09E-03</th>\n",
              "      <th>4.04E-02</th>\n",
              "      <th>-2.91E-02</th>\n",
              "      <th>-1.17E-02</th>\n",
              "      <th>-6.27E-01</th>\n",
              "      <th>3.82E-01</th>\n",
              "      <th>-3.08E-02</th>\n",
              "      <th>-1.11E-02</th>\n",
              "      <th>3.43E-01</th>\n",
              "      <th>Target</th>\n",
              "    </tr>\n",
              "  </thead>\n",
              "  <tbody>\n",
              "    <tr>\n",
              "      <th>0</th>\n",
              "      <td>2.12</td>\n",
              "      <td>-0.0467</td>\n",
              "      <td>-0.16800</td>\n",
              "      <td>-0.115000</td>\n",
              "      <td>0.1920</td>\n",
              "      <td>0.26300</td>\n",
              "      <td>0.0440</td>\n",
              "      <td>0.175</td>\n",
              "      <td>0.0461</td>\n",
              "      <td>0.54300</td>\n",
              "      <td>...</td>\n",
              "      <td>0.2100</td>\n",
              "      <td>0.2990</td>\n",
              "      <td>-0.1250</td>\n",
              "      <td>-0.03740</td>\n",
              "      <td>-0.2890</td>\n",
              "      <td>-0.0448</td>\n",
              "      <td>-0.0272</td>\n",
              "      <td>-0.0389</td>\n",
              "      <td>0.327</td>\n",
              "      <td>0</td>\n",
              "    </tr>\n",
              "    <tr>\n",
              "      <th>1</th>\n",
              "      <td>2.13</td>\n",
              "      <td>-0.2120</td>\n",
              "      <td>0.06170</td>\n",
              "      <td>0.062800</td>\n",
              "      <td>-0.1630</td>\n",
              "      <td>-0.05670</td>\n",
              "      <td>0.3750</td>\n",
              "      <td>0.416</td>\n",
              "      <td>-0.1750</td>\n",
              "      <td>0.00195</td>\n",
              "      <td>...</td>\n",
              "      <td>-0.0792</td>\n",
              "      <td>-0.2040</td>\n",
              "      <td>-0.2490</td>\n",
              "      <td>0.00656</td>\n",
              "      <td>-0.0369</td>\n",
              "      <td>0.0238</td>\n",
              "      <td>0.2750</td>\n",
              "      <td>0.0179</td>\n",
              "      <td>0.358</td>\n",
              "      <td>0</td>\n",
              "    </tr>\n",
              "    <tr>\n",
              "      <th>2</th>\n",
              "      <td>2.16</td>\n",
              "      <td>-0.1140</td>\n",
              "      <td>-0.00139</td>\n",
              "      <td>-0.147000</td>\n",
              "      <td>0.0263</td>\n",
              "      <td>0.24500</td>\n",
              "      <td>0.0833</td>\n",
              "      <td>0.184</td>\n",
              "      <td>0.0458</td>\n",
              "      <td>0.14000</td>\n",
              "      <td>...</td>\n",
              "      <td>0.1290</td>\n",
              "      <td>0.1790</td>\n",
              "      <td>-0.0788</td>\n",
              "      <td>-0.05240</td>\n",
              "      <td>-0.1610</td>\n",
              "      <td>-0.0883</td>\n",
              "      <td>0.0409</td>\n",
              "      <td>-0.0704</td>\n",
              "      <td>0.323</td>\n",
              "      <td>0</td>\n",
              "    </tr>\n",
              "    <tr>\n",
              "      <th>3</th>\n",
              "      <td>2.02</td>\n",
              "      <td>-0.0279</td>\n",
              "      <td>0.14800</td>\n",
              "      <td>0.153000</td>\n",
              "      <td>0.3420</td>\n",
              "      <td>0.18600</td>\n",
              "      <td>0.4630</td>\n",
              "      <td>0.418</td>\n",
              "      <td>-0.1610</td>\n",
              "      <td>-0.45900</td>\n",
              "      <td>...</td>\n",
              "      <td>0.1730</td>\n",
              "      <td>0.1480</td>\n",
              "      <td>-0.0440</td>\n",
              "      <td>-0.05390</td>\n",
              "      <td>-0.4260</td>\n",
              "      <td>0.1700</td>\n",
              "      <td>0.2580</td>\n",
              "      <td>0.2200</td>\n",
              "      <td>0.386</td>\n",
              "      <td>0</td>\n",
              "    </tr>\n",
              "    <tr>\n",
              "      <th>4</th>\n",
              "      <td>2.54</td>\n",
              "      <td>0.2250</td>\n",
              "      <td>0.28700</td>\n",
              "      <td>-0.000901</td>\n",
              "      <td>-0.2420</td>\n",
              "      <td>0.00405</td>\n",
              "      <td>-0.1320</td>\n",
              "      <td>-0.361</td>\n",
              "      <td>0.0831</td>\n",
              "      <td>-0.50600</td>\n",
              "      <td>...</td>\n",
              "      <td>-0.2480</td>\n",
              "      <td>-0.0277</td>\n",
              "      <td>0.1240</td>\n",
              "      <td>0.22200</td>\n",
              "      <td>-0.8880</td>\n",
              "      <td>0.5640</td>\n",
              "      <td>0.0126</td>\n",
              "      <td>-0.1330</td>\n",
              "      <td>0.155</td>\n",
              "      <td>0</td>\n",
              "    </tr>\n",
              "  </tbody>\n",
              "</table>\n",
              "<p>5 rows × 33 columns</p>\n",
              "</div>\n",
              "    <div class=\"colab-df-buttons\">\n",
              "\n",
              "  <div class=\"colab-df-container\">\n",
              "    <button class=\"colab-df-convert\" onclick=\"convertToInteractive('df-b20c11e6-f2eb-424a-ad30-eae85dee3ed0')\"\n",
              "            title=\"Convert this dataframe to an interactive table.\"\n",
              "            style=\"display:none;\">\n",
              "\n",
              "  <svg xmlns=\"http://www.w3.org/2000/svg\" height=\"24px\" viewBox=\"0 -960 960 960\">\n",
              "    <path d=\"M120-120v-720h720v720H120Zm60-500h600v-160H180v160Zm220 220h160v-160H400v160Zm0 220h160v-160H400v160ZM180-400h160v-160H180v160Zm440 0h160v-160H620v160ZM180-180h160v-160H180v160Zm440 0h160v-160H620v160Z\"/>\n",
              "  </svg>\n",
              "    </button>\n",
              "\n",
              "  <style>\n",
              "    .colab-df-container {\n",
              "      display:flex;\n",
              "      gap: 12px;\n",
              "    }\n",
              "\n",
              "    .colab-df-convert {\n",
              "      background-color: #E8F0FE;\n",
              "      border: none;\n",
              "      border-radius: 50%;\n",
              "      cursor: pointer;\n",
              "      display: none;\n",
              "      fill: #1967D2;\n",
              "      height: 32px;\n",
              "      padding: 0 0 0 0;\n",
              "      width: 32px;\n",
              "    }\n",
              "\n",
              "    .colab-df-convert:hover {\n",
              "      background-color: #E2EBFA;\n",
              "      box-shadow: 0px 1px 2px rgba(60, 64, 67, 0.3), 0px 1px 3px 1px rgba(60, 64, 67, 0.15);\n",
              "      fill: #174EA6;\n",
              "    }\n",
              "\n",
              "    .colab-df-buttons div {\n",
              "      margin-bottom: 4px;\n",
              "    }\n",
              "\n",
              "    [theme=dark] .colab-df-convert {\n",
              "      background-color: #3B4455;\n",
              "      fill: #D2E3FC;\n",
              "    }\n",
              "\n",
              "    [theme=dark] .colab-df-convert:hover {\n",
              "      background-color: #434B5C;\n",
              "      box-shadow: 0px 1px 3px 1px rgba(0, 0, 0, 0.15);\n",
              "      filter: drop-shadow(0px 1px 2px rgba(0, 0, 0, 0.3));\n",
              "      fill: #FFFFFF;\n",
              "    }\n",
              "  </style>\n",
              "\n",
              "    <script>\n",
              "      const buttonEl =\n",
              "        document.querySelector('#df-b20c11e6-f2eb-424a-ad30-eae85dee3ed0 button.colab-df-convert');\n",
              "      buttonEl.style.display =\n",
              "        google.colab.kernel.accessAllowed ? 'block' : 'none';\n",
              "\n",
              "      async function convertToInteractive(key) {\n",
              "        const element = document.querySelector('#df-b20c11e6-f2eb-424a-ad30-eae85dee3ed0');\n",
              "        const dataTable =\n",
              "          await google.colab.kernel.invokeFunction('convertToInteractive',\n",
              "                                                    [key], {});\n",
              "        if (!dataTable) return;\n",
              "\n",
              "        const docLinkHtml = 'Like what you see? Visit the ' +\n",
              "          '<a target=\"_blank\" href=https://colab.research.google.com/notebooks/data_table.ipynb>data table notebook</a>'\n",
              "          + ' to learn more about interactive tables.';\n",
              "        element.innerHTML = '';\n",
              "        dataTable['output_type'] = 'display_data';\n",
              "        await google.colab.output.renderOutput(dataTable, element);\n",
              "        const docLink = document.createElement('div');\n",
              "        docLink.innerHTML = docLinkHtml;\n",
              "        element.appendChild(docLink);\n",
              "      }\n",
              "    </script>\n",
              "  </div>\n",
              "\n",
              "\n",
              "<div id=\"df-ce065954-af05-4398-b74e-8574f179cc52\">\n",
              "  <button class=\"colab-df-quickchart\" onclick=\"quickchart('df-ce065954-af05-4398-b74e-8574f179cc52')\"\n",
              "            title=\"Suggest charts\"\n",
              "            style=\"display:none;\">\n",
              "\n",
              "<svg xmlns=\"http://www.w3.org/2000/svg\" height=\"24px\"viewBox=\"0 0 24 24\"\n",
              "     width=\"24px\">\n",
              "    <g>\n",
              "        <path d=\"M19 3H5c-1.1 0-2 .9-2 2v14c0 1.1.9 2 2 2h14c1.1 0 2-.9 2-2V5c0-1.1-.9-2-2-2zM9 17H7v-7h2v7zm4 0h-2V7h2v10zm4 0h-2v-4h2v4z\"/>\n",
              "    </g>\n",
              "</svg>\n",
              "  </button>\n",
              "\n",
              "<style>\n",
              "  .colab-df-quickchart {\n",
              "      --bg-color: #E8F0FE;\n",
              "      --fill-color: #1967D2;\n",
              "      --hover-bg-color: #E2EBFA;\n",
              "      --hover-fill-color: #174EA6;\n",
              "      --disabled-fill-color: #AAA;\n",
              "      --disabled-bg-color: #DDD;\n",
              "  }\n",
              "\n",
              "  [theme=dark] .colab-df-quickchart {\n",
              "      --bg-color: #3B4455;\n",
              "      --fill-color: #D2E3FC;\n",
              "      --hover-bg-color: #434B5C;\n",
              "      --hover-fill-color: #FFFFFF;\n",
              "      --disabled-bg-color: #3B4455;\n",
              "      --disabled-fill-color: #666;\n",
              "  }\n",
              "\n",
              "  .colab-df-quickchart {\n",
              "    background-color: var(--bg-color);\n",
              "    border: none;\n",
              "    border-radius: 50%;\n",
              "    cursor: pointer;\n",
              "    display: none;\n",
              "    fill: var(--fill-color);\n",
              "    height: 32px;\n",
              "    padding: 0;\n",
              "    width: 32px;\n",
              "  }\n",
              "\n",
              "  .colab-df-quickchart:hover {\n",
              "    background-color: var(--hover-bg-color);\n",
              "    box-shadow: 0 1px 2px rgba(60, 64, 67, 0.3), 0 1px 3px 1px rgba(60, 64, 67, 0.15);\n",
              "    fill: var(--button-hover-fill-color);\n",
              "  }\n",
              "\n",
              "  .colab-df-quickchart-complete:disabled,\n",
              "  .colab-df-quickchart-complete:disabled:hover {\n",
              "    background-color: var(--disabled-bg-color);\n",
              "    fill: var(--disabled-fill-color);\n",
              "    box-shadow: none;\n",
              "  }\n",
              "\n",
              "  .colab-df-spinner {\n",
              "    border: 2px solid var(--fill-color);\n",
              "    border-color: transparent;\n",
              "    border-bottom-color: var(--fill-color);\n",
              "    animation:\n",
              "      spin 1s steps(1) infinite;\n",
              "  }\n",
              "\n",
              "  @keyframes spin {\n",
              "    0% {\n",
              "      border-color: transparent;\n",
              "      border-bottom-color: var(--fill-color);\n",
              "      border-left-color: var(--fill-color);\n",
              "    }\n",
              "    20% {\n",
              "      border-color: transparent;\n",
              "      border-left-color: var(--fill-color);\n",
              "      border-top-color: var(--fill-color);\n",
              "    }\n",
              "    30% {\n",
              "      border-color: transparent;\n",
              "      border-left-color: var(--fill-color);\n",
              "      border-top-color: var(--fill-color);\n",
              "      border-right-color: var(--fill-color);\n",
              "    }\n",
              "    40% {\n",
              "      border-color: transparent;\n",
              "      border-right-color: var(--fill-color);\n",
              "      border-top-color: var(--fill-color);\n",
              "    }\n",
              "    60% {\n",
              "      border-color: transparent;\n",
              "      border-right-color: var(--fill-color);\n",
              "    }\n",
              "    80% {\n",
              "      border-color: transparent;\n",
              "      border-right-color: var(--fill-color);\n",
              "      border-bottom-color: var(--fill-color);\n",
              "    }\n",
              "    90% {\n",
              "      border-color: transparent;\n",
              "      border-bottom-color: var(--fill-color);\n",
              "    }\n",
              "  }\n",
              "</style>\n",
              "\n",
              "  <script>\n",
              "    async function quickchart(key) {\n",
              "      const quickchartButtonEl =\n",
              "        document.querySelector('#' + key + ' button');\n",
              "      quickchartButtonEl.disabled = true;  // To prevent multiple clicks.\n",
              "      quickchartButtonEl.classList.add('colab-df-spinner');\n",
              "      try {\n",
              "        const charts = await google.colab.kernel.invokeFunction(\n",
              "            'suggestCharts', [key], {});\n",
              "      } catch (error) {\n",
              "        console.error('Error during call to suggestCharts:', error);\n",
              "      }\n",
              "      quickchartButtonEl.classList.remove('colab-df-spinner');\n",
              "      quickchartButtonEl.classList.add('colab-df-quickchart-complete');\n",
              "    }\n",
              "    (() => {\n",
              "      let quickchartButtonEl =\n",
              "        document.querySelector('#df-ce065954-af05-4398-b74e-8574f179cc52 button');\n",
              "      quickchartButtonEl.style.display =\n",
              "        google.colab.kernel.accessAllowed ? 'block' : 'none';\n",
              "    })();\n",
              "  </script>\n",
              "</div>\n",
              "    </div>\n",
              "  </div>\n"
            ],
            "application/vnd.google.colaboratory.intrinsic+json": {
              "type": "dataframe",
              "variable_name": "df"
            }
          },
          "metadata": {},
          "execution_count": 2
        }
      ]
    },
    {
      "cell_type": "code",
      "source": [
        "df.isnull().sum()"
      ],
      "metadata": {
        "colab": {
          "base_uri": "https://localhost:8080/"
        },
        "id": "NbAGq1scxEK3",
        "outputId": "e236292f-56c2-46ff-840a-0ad013f3f4a8"
      },
      "execution_count": null,
      "outputs": [
        {
          "output_type": "execute_result",
          "data": {
            "text/plain": [
              "2.15E+00     0\n",
              "-1.01E-02    0\n",
              "-4.20E-02    0\n",
              "1.95E-01     0\n",
              "1.93E-01     0\n",
              "1.11E-01     0\n",
              "3.24E-03     0\n",
              "2.62E-01     0\n",
              "-1.74E-01    0\n",
              "1.65E-01     0\n",
              "1.59E-01     0\n",
              "5.79E-01     0\n",
              "7.46E-02     0\n",
              "5.53E-02     0\n",
              "6.60E-02     0\n",
              "-1.34E-01    0\n",
              "-7.43E-01    0\n",
              "-1.42E-01    0\n",
              "-5.71E-02    0\n",
              "-2.36E-02    0\n",
              "-1.87E-01    0\n",
              "8.46E-02     0\n",
              "4.07E-02     0\n",
              "8.09E-03     0\n",
              "4.04E-02     0\n",
              "-2.91E-02    0\n",
              "-1.17E-02    0\n",
              "-6.27E-01    0\n",
              "3.82E-01     0\n",
              "-3.08E-02    0\n",
              "-1.11E-02    0\n",
              "3.43E-01     0\n",
              "Target       0\n",
              "dtype: int64"
            ]
          },
          "metadata": {},
          "execution_count": 3
        }
      ]
    },
    {
      "cell_type": "markdown",
      "source": [
        "**Applying Deep Learning models LSTM-CNN**"
      ],
      "metadata": {
        "id": "dSnt2n59xKuK"
      }
    },
    {
      "cell_type": "code",
      "source": [
        "import numpy as np\n",
        "import pandas as pd\n",
        "from sklearn.model_selection import train_test_split\n",
        "from sklearn.preprocessing import StandardScaler\n",
        "from tensorflow.keras.models import Sequential\n",
        "from tensorflow.keras.layers import Conv1D, LSTM, Dense, MaxPooling1D, Flatten, BatchNormalization, Dropout"
      ],
      "metadata": {
        "id": "I1yR2SUVxHkG"
      },
      "execution_count": null,
      "outputs": []
    },
    {
      "cell_type": "code",
      "source": [
        "# Extract features and target variable\n",
        "X = df.iloc[:, :-1].values  # Assuming the last column is the target variable\n",
        "y = df.iloc[:, -1].values"
      ],
      "metadata": {
        "id": "QIpyzT-mxTUI"
      },
      "execution_count": null,
      "outputs": []
    },
    {
      "cell_type": "code",
      "source": [
        "# Standardize the features\n",
        "scaler = StandardScaler()\n",
        "X = scaler.fit_transform(X)"
      ],
      "metadata": {
        "id": "oHcPwnrqxXL_"
      },
      "execution_count": null,
      "outputs": []
    },
    {
      "cell_type": "code",
      "source": [
        "# Split the dataset into training and testing sets\n",
        "X_train, X_test, y_train, y_test = train_test_split(X, y, test_size=0.2, random_state=42)"
      ],
      "metadata": {
        "id": "-pPkJOpCxZg2"
      },
      "execution_count": null,
      "outputs": []
    },
    {
      "cell_type": "code",
      "source": [
        "# Reshape the data for LSTM-CNN model\n",
        "X_train = X_train.reshape((X_train.shape[0], X_train.shape[1], 1))\n",
        "X_test = X_test.reshape((X_test.shape[0], X_test.shape[1], 1))"
      ],
      "metadata": {
        "id": "90Uqjq16xbhx"
      },
      "execution_count": null,
      "outputs": []
    },
    {
      "cell_type": "code",
      "source": [
        "# Define the more complex LSTM-CNN model\n",
        "model = Sequential()\n",
        "\n",
        "# CNN Layers\n",
        "model.add(Conv1D(filters=64, kernel_size=3, activation='relu', input_shape=(X_train.shape[1], 1)))\n",
        "model.add(BatchNormalization())\n",
        "model.add(MaxPooling1D(pool_size=2))\n",
        "model.add(Dropout(0.25))\n",
        "\n",
        "model.add(Conv1D(filters=128, kernel_size=3, activation='relu'))\n",
        "model.add(BatchNormalization())\n",
        "model.add(MaxPooling1D(pool_size=2))\n",
        "model.add(Dropout(0.25))\n",
        "\n",
        "# LSTM Layer\n",
        "model.add(LSTM(100, return_sequences=True))\n",
        "model.add(LSTM(50))\n",
        "\n",
        "# Dense Layers\n",
        "model.add(Dense(128, activation='relu'))\n",
        "model.add(BatchNormalization())\n",
        "model.add(Dropout(0.5))\n",
        "\n",
        "model.add(Dense(1, activation='sigmoid'))"
      ],
      "metadata": {
        "id": "X2ceOy-YxeEs"
      },
      "execution_count": null,
      "outputs": []
    },
    {
      "cell_type": "code",
      "source": [
        "# Compile the model\n",
        "model.compile(loss='binary_crossentropy', optimizer='adam', metrics=['accuracy'])"
      ],
      "metadata": {
        "id": "60vWxKSSxgjK"
      },
      "execution_count": null,
      "outputs": []
    },
    {
      "cell_type": "code",
      "source": [
        "# Train the model\n",
        "model.fit(X_train, y_train, epochs=20, batch_size=32, validation_data=(X_test, y_test))"
      ],
      "metadata": {
        "colab": {
          "base_uri": "https://localhost:8080/"
        },
        "id": "y2v0vv1bxjGS",
        "outputId": "74caf0d8-1e43-44a6-e0dc-4d0bd2c7c1c1"
      },
      "execution_count": null,
      "outputs": [
        {
          "output_type": "stream",
          "name": "stdout",
          "text": [
            "Epoch 1/20\n",
            "79/79 [==============================] - 10s 56ms/step - loss: 0.0193 - accuracy: 0.9932 - val_loss: 0.8105 - val_accuracy: 0.4809\n",
            "Epoch 2/20\n",
            "79/79 [==============================] - 2s 22ms/step - loss: 0.0031 - accuracy: 0.9992 - val_loss: 1.3364 - val_accuracy: 0.4809\n",
            "Epoch 3/20\n",
            "79/79 [==============================] - 2s 22ms/step - loss: 0.0067 - accuracy: 0.9988 - val_loss: 1.8609 - val_accuracy: 0.4809\n",
            "Epoch 4/20\n",
            "79/79 [==============================] - 2s 22ms/step - loss: 0.0027 - accuracy: 0.9992 - val_loss: 2.8040 - val_accuracy: 0.4809\n",
            "Epoch 5/20\n",
            "79/79 [==============================] - 2s 23ms/step - loss: 0.0107 - accuracy: 0.9968 - val_loss: 1.2215 - val_accuracy: 0.4809\n",
            "Epoch 6/20\n",
            "79/79 [==============================] - 2s 22ms/step - loss: 6.8576e-04 - accuracy: 1.0000 - val_loss: 0.5470 - val_accuracy: 0.4809\n",
            "Epoch 7/20\n",
            "79/79 [==============================] - 2s 30ms/step - loss: 3.0433e-04 - accuracy: 1.0000 - val_loss: 0.0117 - val_accuracy: 1.0000\n",
            "Epoch 8/20\n",
            "79/79 [==============================] - 3s 35ms/step - loss: 4.5841e-04 - accuracy: 1.0000 - val_loss: 0.0661 - val_accuracy: 1.0000\n",
            "Epoch 9/20\n",
            "79/79 [==============================] - 2s 22ms/step - loss: 6.8415e-04 - accuracy: 1.0000 - val_loss: 0.0024 - val_accuracy: 1.0000\n",
            "Epoch 10/20\n",
            "79/79 [==============================] - 2s 22ms/step - loss: 1.6223e-04 - accuracy: 1.0000 - val_loss: 3.8343e-04 - val_accuracy: 1.0000\n",
            "Epoch 11/20\n",
            "79/79 [==============================] - 2s 22ms/step - loss: 1.7704e-04 - accuracy: 1.0000 - val_loss: 1.5051e-04 - val_accuracy: 1.0000\n",
            "Epoch 12/20\n",
            "79/79 [==============================] - 2s 22ms/step - loss: 1.1777e-04 - accuracy: 1.0000 - val_loss: 6.4949e-04 - val_accuracy: 1.0000\n",
            "Epoch 13/20\n",
            "79/79 [==============================] - 2s 22ms/step - loss: 7.3052e-05 - accuracy: 1.0000 - val_loss: 2.0745e-04 - val_accuracy: 1.0000\n",
            "Epoch 14/20\n",
            "79/79 [==============================] - 2s 30ms/step - loss: 6.9830e-05 - accuracy: 1.0000 - val_loss: 4.4559e-05 - val_accuracy: 1.0000\n",
            "Epoch 15/20\n",
            "79/79 [==============================] - 3s 34ms/step - loss: 6.7910e-05 - accuracy: 1.0000 - val_loss: 5.4080e-05 - val_accuracy: 1.0000\n",
            "Epoch 16/20\n",
            "79/79 [==============================] - 2s 23ms/step - loss: 5.6926e-05 - accuracy: 1.0000 - val_loss: 5.7105e-05 - val_accuracy: 1.0000\n",
            "Epoch 17/20\n",
            "79/79 [==============================] - 2s 22ms/step - loss: 7.3342e-05 - accuracy: 1.0000 - val_loss: 1.2908e-05 - val_accuracy: 1.0000\n",
            "Epoch 18/20\n",
            "79/79 [==============================] - 2s 22ms/step - loss: 7.4154e-05 - accuracy: 1.0000 - val_loss: 1.4158e-05 - val_accuracy: 1.0000\n",
            "Epoch 19/20\n",
            "79/79 [==============================] - 2s 22ms/step - loss: 3.9354e-05 - accuracy: 1.0000 - val_loss: 1.0619e-05 - val_accuracy: 1.0000\n",
            "Epoch 20/20\n",
            "79/79 [==============================] - 2s 22ms/step - loss: 6.0060e-05 - accuracy: 1.0000 - val_loss: 5.9029e-06 - val_accuracy: 1.0000\n"
          ]
        },
        {
          "output_type": "execute_result",
          "data": {
            "text/plain": [
              "<keras.src.callbacks.History at 0x7910c8809bd0>"
            ]
          },
          "metadata": {},
          "execution_count": 11
        }
      ]
    },
    {
      "cell_type": "code",
      "source": [
        "# Evaluate the model\n",
        "loss, accuracy = model.evaluate(X_test, y_test)\n",
        "print(f'Test Loss: {loss:.4f}, Test Accuracy: {accuracy * 100:.2f}%')"
      ],
      "metadata": {
        "colab": {
          "base_uri": "https://localhost:8080/"
        },
        "id": "YfZgwLCPxqxV",
        "outputId": "e044b3a6-4874-4f6b-f87b-14b4d3e3e72f"
      },
      "execution_count": null,
      "outputs": [
        {
          "output_type": "stream",
          "name": "stdout",
          "text": [
            "20/20 [==============================] - 0s 7ms/step - loss: 5.9029e-06 - accuracy: 1.0000\n",
            "Test Loss: 0.0000, Test Accuracy: 100.00%\n"
          ]
        }
      ]
    },
    {
      "cell_type": "code",
      "source": [
        "# Evaluate the model\n",
        "y_pred = model.predict(X_test)\n",
        "y_pred_binary = (y_pred > 0.5).astype(int)"
      ],
      "metadata": {
        "colab": {
          "base_uri": "https://localhost:8080/"
        },
        "id": "KvxpH3obqp5J",
        "outputId": "7cb482c2-52d8-4bff-8aaf-d78257bcec13"
      },
      "execution_count": null,
      "outputs": [
        {
          "output_type": "stream",
          "name": "stdout",
          "text": [
            "20/20 [==============================] - 2s 10ms/step\n"
          ]
        }
      ]
    },
    {
      "cell_type": "code",
      "source": [
        "from sklearn.metrics import f1_score\n",
        "\n",
        "f1 = f1_score(y_test, y_pred_binary)\n",
        "print(f'F1 Score: {f1:.4f}')"
      ],
      "metadata": {
        "colab": {
          "base_uri": "https://localhost:8080/"
        },
        "id": "N8cNHJT0qcHw",
        "outputId": "571d0010-1980-4021-e35c-4d3984cf9670"
      },
      "execution_count": null,
      "outputs": [
        {
          "output_type": "stream",
          "name": "stdout",
          "text": [
            "F1 Score: 1.0000\n"
          ]
        }
      ]
    },
    {
      "cell_type": "code",
      "source": [
        "from sklearn.metrics import precision_score\n",
        "\n",
        "precision = precision_score(y_test, y_pred_binary)\n",
        "print(f'Precision: {precision:.4f}')"
      ],
      "metadata": {
        "colab": {
          "base_uri": "https://localhost:8080/"
        },
        "id": "pBdYRFasqlyS",
        "outputId": "b721fbbb-4563-4cbf-94d5-5a105281dd49"
      },
      "execution_count": null,
      "outputs": [
        {
          "output_type": "stream",
          "name": "stdout",
          "text": [
            "Precision: 1.0000\n"
          ]
        }
      ]
    },
    {
      "cell_type": "code",
      "source": [
        "from sklearn.metrics import recall_score\n",
        "\n",
        "recall = recall_score(y_test, y_pred_binary)\n",
        "print(f'Recall: {recall:.4f}')"
      ],
      "metadata": {
        "id": "OSQmbaGmqwdn",
        "outputId": "a8b83c81-4c7c-489a-d960-0cf2c9c66f0e",
        "colab": {
          "base_uri": "https://localhost:8080/"
        }
      },
      "execution_count": null,
      "outputs": [
        {
          "output_type": "stream",
          "name": "stdout",
          "text": [
            "Recall: 1.0000\n"
          ]
        }
      ]
    },
    {
      "cell_type": "markdown",
      "source": [
        "# **Simple CNN**"
      ],
      "metadata": {
        "id": "ZxJgzxGRnN2R"
      }
    },
    {
      "cell_type": "code",
      "source": [
        "import numpy as np\n",
        "import pandas as pd\n",
        "from sklearn.model_selection import train_test_split\n",
        "from sklearn.preprocessing import StandardScaler\n",
        "from tensorflow.keras.models import Sequential\n",
        "from tensorflow.keras.layers import Dense, Conv1D, Flatten"
      ],
      "metadata": {
        "id": "ZlI9AZ_sqy4L"
      },
      "execution_count": null,
      "outputs": []
    },
    {
      "cell_type": "code",
      "source": [
        "# Assuming your dataset is stored in a pandas DataFrame called 'df'\n",
        "X = df.iloc[:, :-1].values  # Features\n",
        "y = df.iloc[:, -1].values"
      ],
      "metadata": {
        "id": "u4QxIQ6vnWjn"
      },
      "execution_count": null,
      "outputs": []
    },
    {
      "cell_type": "code",
      "source": [
        "# Split the dataset into training and testing sets\n",
        "X_train, X_test, y_train, y_test = train_test_split(X, y, test_size=0.2, random_state=42)"
      ],
      "metadata": {
        "id": "dMX7d6GZnnzZ"
      },
      "execution_count": null,
      "outputs": []
    },
    {
      "cell_type": "code",
      "source": [
        "# Standardize the features\n",
        "scaler = StandardScaler()\n",
        "X_train = scaler.fit_transform(X_train)\n",
        "X_test = scaler.transform(X_test)"
      ],
      "metadata": {
        "id": "lOHaWHlhnqSS"
      },
      "execution_count": null,
      "outputs": []
    },
    {
      "cell_type": "code",
      "source": [
        "# Reshape the data for the CNN (assuming 14 features)\n",
        "X_train = X_train.reshape(X_train.shape[0], X_train.shape[1], 1)\n",
        "X_test = X_test.reshape(X_test.shape[0], X_test.shape[1], 1)"
      ],
      "metadata": {
        "id": "pju61i27nshq"
      },
      "execution_count": null,
      "outputs": []
    },
    {
      "cell_type": "code",
      "source": [
        "# Define the CNN model\n",
        "model = Sequential()\n",
        "model.add(Conv1D(filters=32, kernel_size=3, activation='relu', input_shape=(X_train.shape[1], 1)))\n",
        "model.add(Flatten())\n",
        "model.add(Dense(1, activation='sigmoid'))"
      ],
      "metadata": {
        "id": "BM2oI4unnvQv"
      },
      "execution_count": null,
      "outputs": []
    },
    {
      "cell_type": "code",
      "source": [
        "# Compile the model\n",
        "model.compile(optimizer='adam', loss='binary_crossentropy', metrics=['accuracy'])"
      ],
      "metadata": {
        "id": "9tY_i3XLnyOt"
      },
      "execution_count": null,
      "outputs": []
    },
    {
      "cell_type": "code",
      "source": [
        "# Train the model\n",
        "model.fit(X_train, y_train, epochs=10, batch_size=32, validation_data=(X_test, y_test))"
      ],
      "metadata": {
        "colab": {
          "base_uri": "https://localhost:8080/"
        },
        "id": "fTKaL90Rn0-X",
        "outputId": "48c0e4a1-97b4-416f-8967-dd92246864e0"
      },
      "execution_count": null,
      "outputs": [
        {
          "output_type": "stream",
          "name": "stdout",
          "text": [
            "Epoch 1/10\n",
            "79/79 [==============================] - 1s 5ms/step - loss: 0.4166 - accuracy: 0.8967 - val_loss: 0.3597 - val_accuracy: 1.0000\n",
            "Epoch 2/10\n",
            "79/79 [==============================] - 0s 4ms/step - loss: 0.3277 - accuracy: 1.0000 - val_loss: 0.3275 - val_accuracy: 1.0000\n",
            "Epoch 3/10\n",
            "79/79 [==============================] - 0s 4ms/step - loss: 0.3014 - accuracy: 1.0000 - val_loss: 0.3039 - val_accuracy: 1.0000\n",
            "Epoch 4/10\n",
            "79/79 [==============================] - 0s 4ms/step - loss: 0.2796 - accuracy: 1.0000 - val_loss: 0.2818 - val_accuracy: 1.0000\n",
            "Epoch 5/10\n",
            "79/79 [==============================] - 0s 5ms/step - loss: 0.2584 - accuracy: 1.0000 - val_loss: 0.2588 - val_accuracy: 1.0000\n",
            "Epoch 6/10\n",
            "79/79 [==============================] - 0s 5ms/step - loss: 0.1903 - accuracy: 1.0000 - val_loss: 0.0900 - val_accuracy: 1.0000\n",
            "Epoch 7/10\n",
            "79/79 [==============================] - 0s 5ms/step - loss: 0.0454 - accuracy: 0.9984 - val_loss: 0.0273 - val_accuracy: 0.9984\n",
            "Epoch 8/10\n",
            "79/79 [==============================] - 0s 5ms/step - loss: 0.0185 - accuracy: 0.9988 - val_loss: 0.0154 - val_accuracy: 0.9984\n",
            "Epoch 9/10\n",
            "79/79 [==============================] - 0s 5ms/step - loss: 0.0113 - accuracy: 0.9992 - val_loss: 0.0103 - val_accuracy: 0.9984\n",
            "Epoch 10/10\n",
            "79/79 [==============================] - 0s 6ms/step - loss: 0.0079 - accuracy: 1.0000 - val_loss: 0.0076 - val_accuracy: 0.9984\n"
          ]
        },
        {
          "output_type": "execute_result",
          "data": {
            "text/plain": [
              "<keras.src.callbacks.History at 0x7996b64b4b80>"
            ]
          },
          "metadata": {},
          "execution_count": 29
        }
      ]
    },
    {
      "cell_type": "code",
      "source": [
        "from sklearn.metrics import classification_report\n",
        "\n",
        "# Make predictions on the test set\n",
        "y_pred = model.predict(X_test)\n",
        "y_pred_binary = (y_pred > 0.5).astype(int)\n",
        "\n",
        "# Print classification report\n",
        "print(classification_report(y_test, y_pred))"
      ],
      "metadata": {
        "colab": {
          "base_uri": "https://localhost:8080/",
          "height": 1000
        },
        "id": "U3Mo4Iggn3kP",
        "outputId": "37731469-bb10-499b-eff8-78ac28275e7a"
      },
      "execution_count": null,
      "outputs": [
        {
          "output_type": "error",
          "ename": "InvalidArgumentError",
          "evalue": "Graph execution error:\n\nDetected at node sequential_2/conv1d_1/Conv1D defined at (most recent call last):\n  File \"/usr/lib/python3.10/runpy.py\", line 196, in _run_module_as_main\n\n  File \"/usr/lib/python3.10/runpy.py\", line 86, in _run_code\n\n  File \"/usr/local/lib/python3.10/dist-packages/colab_kernel_launcher.py\", line 37, in <module>\n\n  File \"/usr/local/lib/python3.10/dist-packages/traitlets/config/application.py\", line 992, in launch_instance\n\n  File \"/usr/local/lib/python3.10/dist-packages/ipykernel/kernelapp.py\", line 619, in start\n\n  File \"/usr/local/lib/python3.10/dist-packages/tornado/platform/asyncio.py\", line 195, in start\n\n  File \"/usr/lib/python3.10/asyncio/base_events.py\", line 603, in run_forever\n\n  File \"/usr/lib/python3.10/asyncio/base_events.py\", line 1909, in _run_once\n\n  File \"/usr/lib/python3.10/asyncio/events.py\", line 80, in _run\n\n  File \"/usr/local/lib/python3.10/dist-packages/tornado/ioloop.py\", line 685, in <lambda>\n\n  File \"/usr/local/lib/python3.10/dist-packages/tornado/ioloop.py\", line 738, in _run_callback\n\n  File \"/usr/local/lib/python3.10/dist-packages/tornado/gen.py\", line 825, in inner\n\n  File \"/usr/local/lib/python3.10/dist-packages/tornado/gen.py\", line 786, in run\n\n  File \"/usr/local/lib/python3.10/dist-packages/ipykernel/kernelbase.py\", line 361, in process_one\n\n  File \"/usr/local/lib/python3.10/dist-packages/tornado/gen.py\", line 234, in wrapper\n\n  File \"/usr/local/lib/python3.10/dist-packages/ipykernel/kernelbase.py\", line 261, in dispatch_shell\n\n  File \"/usr/local/lib/python3.10/dist-packages/tornado/gen.py\", line 234, in wrapper\n\n  File \"/usr/local/lib/python3.10/dist-packages/ipykernel/kernelbase.py\", line 539, in execute_request\n\n  File \"/usr/local/lib/python3.10/dist-packages/tornado/gen.py\", line 234, in wrapper\n\n  File \"/usr/local/lib/python3.10/dist-packages/ipykernel/ipkernel.py\", line 302, in do_execute\n\n  File \"/usr/local/lib/python3.10/dist-packages/ipykernel/zmqshell.py\", line 539, in run_cell\n\n  File \"/usr/local/lib/python3.10/dist-packages/IPython/core/interactiveshell.py\", line 2975, in run_cell\n\n  File \"/usr/local/lib/python3.10/dist-packages/IPython/core/interactiveshell.py\", line 3030, in _run_cell\n\n  File \"/usr/local/lib/python3.10/dist-packages/IPython/core/async_helpers.py\", line 78, in _pseudo_sync_runner\n\n  File \"/usr/local/lib/python3.10/dist-packages/IPython/core/interactiveshell.py\", line 3257, in run_cell_async\n\n  File \"/usr/local/lib/python3.10/dist-packages/IPython/core/interactiveshell.py\", line 3473, in run_ast_nodes\n\n  File \"/usr/local/lib/python3.10/dist-packages/IPython/core/interactiveshell.py\", line 3553, in run_code\n\n  File \"<ipython-input-52-9c84c5b626c2>\", line 4, in <cell line: 4>\n\n  File \"/usr/local/lib/python3.10/dist-packages/keras/src/utils/traceback_utils.py\", line 65, in error_handler\n\n  File \"/usr/local/lib/python3.10/dist-packages/keras/src/engine/training.py\", line 2655, in predict\n\n  File \"/usr/local/lib/python3.10/dist-packages/keras/src/engine/training.py\", line 2440, in predict_function\n\n  File \"/usr/local/lib/python3.10/dist-packages/keras/src/engine/training.py\", line 2425, in step_function\n\n  File \"/usr/local/lib/python3.10/dist-packages/keras/src/engine/training.py\", line 2413, in run_step\n\n  File \"/usr/local/lib/python3.10/dist-packages/keras/src/engine/training.py\", line 2381, in predict_step\n\n  File \"/usr/local/lib/python3.10/dist-packages/keras/src/utils/traceback_utils.py\", line 65, in error_handler\n\n  File \"/usr/local/lib/python3.10/dist-packages/keras/src/engine/training.py\", line 590, in __call__\n\n  File \"/usr/local/lib/python3.10/dist-packages/keras/src/utils/traceback_utils.py\", line 65, in error_handler\n\n  File \"/usr/local/lib/python3.10/dist-packages/keras/src/engine/base_layer.py\", line 1149, in __call__\n\n  File \"/usr/local/lib/python3.10/dist-packages/keras/src/utils/traceback_utils.py\", line 96, in error_handler\n\n  File \"/usr/local/lib/python3.10/dist-packages/keras/src/engine/sequential.py\", line 398, in call\n\n  File \"/usr/local/lib/python3.10/dist-packages/keras/src/engine/functional.py\", line 515, in call\n\n  File \"/usr/local/lib/python3.10/dist-packages/keras/src/engine/functional.py\", line 672, in _run_internal_graph\n\n  File \"/usr/local/lib/python3.10/dist-packages/keras/src/utils/traceback_utils.py\", line 65, in error_handler\n\n  File \"/usr/local/lib/python3.10/dist-packages/keras/src/engine/base_layer.py\", line 1149, in __call__\n\n  File \"/usr/local/lib/python3.10/dist-packages/keras/src/utils/traceback_utils.py\", line 96, in error_handler\n\n  File \"/usr/local/lib/python3.10/dist-packages/keras/src/layers/convolutional/base_conv.py\", line 290, in call\n\n  File \"/usr/local/lib/python3.10/dist-packages/keras/src/layers/convolutional/base_conv.py\", line 262, in convolution_op\n\nComputed output size would be negative: -1 [input_size: 1, effective_filter_size: 3, stride: 1]\n\t [[{{node sequential_2/conv1d_1/Conv1D}}]] [Op:__inference_predict_function_24847]",
          "traceback": [
            "\u001b[0;31m---------------------------------------------------------------------------\u001b[0m",
            "\u001b[0;31mInvalidArgumentError\u001b[0m                      Traceback (most recent call last)",
            "\u001b[0;32m<ipython-input-52-9c84c5b626c2>\u001b[0m in \u001b[0;36m<cell line: 4>\u001b[0;34m()\u001b[0m\n\u001b[1;32m      2\u001b[0m \u001b[0;34m\u001b[0m\u001b[0m\n\u001b[1;32m      3\u001b[0m \u001b[0;31m# Make predictions on the test set\u001b[0m\u001b[0;34m\u001b[0m\u001b[0;34m\u001b[0m\u001b[0m\n\u001b[0;32m----> 4\u001b[0;31m \u001b[0my_pred\u001b[0m \u001b[0;34m=\u001b[0m \u001b[0mmodel\u001b[0m\u001b[0;34m.\u001b[0m\u001b[0mpredict\u001b[0m\u001b[0;34m(\u001b[0m\u001b[0mX_test\u001b[0m\u001b[0;34m)\u001b[0m\u001b[0;34m\u001b[0m\u001b[0;34m\u001b[0m\u001b[0m\n\u001b[0m\u001b[1;32m      5\u001b[0m \u001b[0my_pred_binary\u001b[0m \u001b[0;34m=\u001b[0m \u001b[0;34m(\u001b[0m\u001b[0my_pred\u001b[0m \u001b[0;34m>\u001b[0m \u001b[0;36m0.5\u001b[0m\u001b[0;34m)\u001b[0m\u001b[0;34m.\u001b[0m\u001b[0mastype\u001b[0m\u001b[0;34m(\u001b[0m\u001b[0mint\u001b[0m\u001b[0;34m)\u001b[0m\u001b[0;34m\u001b[0m\u001b[0;34m\u001b[0m\u001b[0m\n",
            "\u001b[0;32m/usr/local/lib/python3.10/dist-packages/keras/src/utils/traceback_utils.py\u001b[0m in \u001b[0;36merror_handler\u001b[0;34m(*args, **kwargs)\u001b[0m\n\u001b[1;32m     68\u001b[0m             \u001b[0;31m# To get the full stack trace, call:\u001b[0m\u001b[0;34m\u001b[0m\u001b[0;34m\u001b[0m\u001b[0m\n\u001b[1;32m     69\u001b[0m             \u001b[0;31m# `tf.debugging.disable_traceback_filtering()`\u001b[0m\u001b[0;34m\u001b[0m\u001b[0;34m\u001b[0m\u001b[0m\n\u001b[0;32m---> 70\u001b[0;31m             \u001b[0;32mraise\u001b[0m \u001b[0me\u001b[0m\u001b[0;34m.\u001b[0m\u001b[0mwith_traceback\u001b[0m\u001b[0;34m(\u001b[0m\u001b[0mfiltered_tb\u001b[0m\u001b[0;34m)\u001b[0m \u001b[0;32mfrom\u001b[0m \u001b[0;32mNone\u001b[0m\u001b[0;34m\u001b[0m\u001b[0;34m\u001b[0m\u001b[0m\n\u001b[0m\u001b[1;32m     71\u001b[0m         \u001b[0;32mfinally\u001b[0m\u001b[0;34m:\u001b[0m\u001b[0;34m\u001b[0m\u001b[0;34m\u001b[0m\u001b[0m\n\u001b[1;32m     72\u001b[0m             \u001b[0;32mdel\u001b[0m \u001b[0mfiltered_tb\u001b[0m\u001b[0;34m\u001b[0m\u001b[0;34m\u001b[0m\u001b[0m\n",
            "\u001b[0;32m/usr/local/lib/python3.10/dist-packages/tensorflow/python/eager/execute.py\u001b[0m in \u001b[0;36mquick_execute\u001b[0;34m(op_name, num_outputs, inputs, attrs, ctx, name)\u001b[0m\n\u001b[1;32m     51\u001b[0m   \u001b[0;32mtry\u001b[0m\u001b[0;34m:\u001b[0m\u001b[0;34m\u001b[0m\u001b[0;34m\u001b[0m\u001b[0m\n\u001b[1;32m     52\u001b[0m     \u001b[0mctx\u001b[0m\u001b[0;34m.\u001b[0m\u001b[0mensure_initialized\u001b[0m\u001b[0;34m(\u001b[0m\u001b[0;34m)\u001b[0m\u001b[0;34m\u001b[0m\u001b[0;34m\u001b[0m\u001b[0m\n\u001b[0;32m---> 53\u001b[0;31m     tensors = pywrap_tfe.TFE_Py_Execute(ctx._handle, device_name, op_name,\n\u001b[0m\u001b[1;32m     54\u001b[0m                                         inputs, attrs, num_outputs)\n\u001b[1;32m     55\u001b[0m   \u001b[0;32mexcept\u001b[0m \u001b[0mcore\u001b[0m\u001b[0;34m.\u001b[0m\u001b[0m_NotOkStatusException\u001b[0m \u001b[0;32mas\u001b[0m \u001b[0me\u001b[0m\u001b[0;34m:\u001b[0m\u001b[0;34m\u001b[0m\u001b[0;34m\u001b[0m\u001b[0m\n",
            "\u001b[0;31mInvalidArgumentError\u001b[0m: Graph execution error:\n\nDetected at node sequential_2/conv1d_1/Conv1D defined at (most recent call last):\n  File \"/usr/lib/python3.10/runpy.py\", line 196, in _run_module_as_main\n\n  File \"/usr/lib/python3.10/runpy.py\", line 86, in _run_code\n\n  File \"/usr/local/lib/python3.10/dist-packages/colab_kernel_launcher.py\", line 37, in <module>\n\n  File \"/usr/local/lib/python3.10/dist-packages/traitlets/config/application.py\", line 992, in launch_instance\n\n  File \"/usr/local/lib/python3.10/dist-packages/ipykernel/kernelapp.py\", line 619, in start\n\n  File \"/usr/local/lib/python3.10/dist-packages/tornado/platform/asyncio.py\", line 195, in start\n\n  File \"/usr/lib/python3.10/asyncio/base_events.py\", line 603, in run_forever\n\n  File \"/usr/lib/python3.10/asyncio/base_events.py\", line 1909, in _run_once\n\n  File \"/usr/lib/python3.10/asyncio/events.py\", line 80, in _run\n\n  File \"/usr/local/lib/python3.10/dist-packages/tornado/ioloop.py\", line 685, in <lambda>\n\n  File \"/usr/local/lib/python3.10/dist-packages/tornado/ioloop.py\", line 738, in _run_callback\n\n  File \"/usr/local/lib/python3.10/dist-packages/tornado/gen.py\", line 825, in inner\n\n  File \"/usr/local/lib/python3.10/dist-packages/tornado/gen.py\", line 786, in run\n\n  File \"/usr/local/lib/python3.10/dist-packages/ipykernel/kernelbase.py\", line 361, in process_one\n\n  File \"/usr/local/lib/python3.10/dist-packages/tornado/gen.py\", line 234, in wrapper\n\n  File \"/usr/local/lib/python3.10/dist-packages/ipykernel/kernelbase.py\", line 261, in dispatch_shell\n\n  File \"/usr/local/lib/python3.10/dist-packages/tornado/gen.py\", line 234, in wrapper\n\n  File \"/usr/local/lib/python3.10/dist-packages/ipykernel/kernelbase.py\", line 539, in execute_request\n\n  File \"/usr/local/lib/python3.10/dist-packages/tornado/gen.py\", line 234, in wrapper\n\n  File \"/usr/local/lib/python3.10/dist-packages/ipykernel/ipkernel.py\", line 302, in do_execute\n\n  File \"/usr/local/lib/python3.10/dist-packages/ipykernel/zmqshell.py\", line 539, in run_cell\n\n  File \"/usr/local/lib/python3.10/dist-packages/IPython/core/interactiveshell.py\", line 2975, in run_cell\n\n  File \"/usr/local/lib/python3.10/dist-packages/IPython/core/interactiveshell.py\", line 3030, in _run_cell\n\n  File \"/usr/local/lib/python3.10/dist-packages/IPython/core/async_helpers.py\", line 78, in _pseudo_sync_runner\n\n  File \"/usr/local/lib/python3.10/dist-packages/IPython/core/interactiveshell.py\", line 3257, in run_cell_async\n\n  File \"/usr/local/lib/python3.10/dist-packages/IPython/core/interactiveshell.py\", line 3473, in run_ast_nodes\n\n  File \"/usr/local/lib/python3.10/dist-packages/IPython/core/interactiveshell.py\", line 3553, in run_code\n\n  File \"<ipython-input-52-9c84c5b626c2>\", line 4, in <cell line: 4>\n\n  File \"/usr/local/lib/python3.10/dist-packages/keras/src/utils/traceback_utils.py\", line 65, in error_handler\n\n  File \"/usr/local/lib/python3.10/dist-packages/keras/src/engine/training.py\", line 2655, in predict\n\n  File \"/usr/local/lib/python3.10/dist-packages/keras/src/engine/training.py\", line 2440, in predict_function\n\n  File \"/usr/local/lib/python3.10/dist-packages/keras/src/engine/training.py\", line 2425, in step_function\n\n  File \"/usr/local/lib/python3.10/dist-packages/keras/src/engine/training.py\", line 2413, in run_step\n\n  File \"/usr/local/lib/python3.10/dist-packages/keras/src/engine/training.py\", line 2381, in predict_step\n\n  File \"/usr/local/lib/python3.10/dist-packages/keras/src/utils/traceback_utils.py\", line 65, in error_handler\n\n  File \"/usr/local/lib/python3.10/dist-packages/keras/src/engine/training.py\", line 590, in __call__\n\n  File \"/usr/local/lib/python3.10/dist-packages/keras/src/utils/traceback_utils.py\", line 65, in error_handler\n\n  File \"/usr/local/lib/python3.10/dist-packages/keras/src/engine/base_layer.py\", line 1149, in __call__\n\n  File \"/usr/local/lib/python3.10/dist-packages/keras/src/utils/traceback_utils.py\", line 96, in error_handler\n\n  File \"/usr/local/lib/python3.10/dist-packages/keras/src/engine/sequential.py\", line 398, in call\n\n  File \"/usr/local/lib/python3.10/dist-packages/keras/src/engine/functional.py\", line 515, in call\n\n  File \"/usr/local/lib/python3.10/dist-packages/keras/src/engine/functional.py\", line 672, in _run_internal_graph\n\n  File \"/usr/local/lib/python3.10/dist-packages/keras/src/utils/traceback_utils.py\", line 65, in error_handler\n\n  File \"/usr/local/lib/python3.10/dist-packages/keras/src/engine/base_layer.py\", line 1149, in __call__\n\n  File \"/usr/local/lib/python3.10/dist-packages/keras/src/utils/traceback_utils.py\", line 96, in error_handler\n\n  File \"/usr/local/lib/python3.10/dist-packages/keras/src/layers/convolutional/base_conv.py\", line 290, in call\n\n  File \"/usr/local/lib/python3.10/dist-packages/keras/src/layers/convolutional/base_conv.py\", line 262, in convolution_op\n\nComputed output size would be negative: -1 [input_size: 1, effective_filter_size: 3, stride: 1]\n\t [[{{node sequential_2/conv1d_1/Conv1D}}]] [Op:__inference_predict_function_24847]"
          ]
        }
      ]
    },
    {
      "cell_type": "code",
      "source": [
        "from sklearn.metrics import accuracy_score\n",
        "\n",
        "accuracy = accuracy_score(y_test, y_pred_binary)\n",
        "print(f'Accuracy: {accuracy * 100:.2f}%')"
      ],
      "metadata": {
        "colab": {
          "base_uri": "https://localhost:8080/"
        },
        "id": "tm2rHna1si7e",
        "outputId": "2e2009f4-6a7b-4174-898e-662136009581"
      },
      "execution_count": null,
      "outputs": [
        {
          "output_type": "stream",
          "name": "stdout",
          "text": [
            "Accuracy: 99.84%\n"
          ]
        }
      ]
    },
    {
      "cell_type": "code",
      "source": [
        "from sklearn.metrics import f1_score\n",
        "f1 = f1_score(y_test, y_pred_binary)\n",
        "print(f'F1 Score: {f1:.4f}')"
      ],
      "metadata": {
        "colab": {
          "base_uri": "https://localhost:8080/"
        },
        "id": "NRP6knylsmkW",
        "outputId": "143fa101-42c7-4e17-fdad-00dec701d79f"
      },
      "execution_count": null,
      "outputs": [
        {
          "output_type": "stream",
          "name": "stdout",
          "text": [
            "F1 Score: 0.9983\n"
          ]
        }
      ]
    },
    {
      "cell_type": "code",
      "source": [
        "from sklearn.metrics import precision_score\n",
        "\n",
        "precision = precision_score(y_test, y_pred_binary)\n",
        "print(f'Precision: {precision:.4f}')"
      ],
      "metadata": {
        "colab": {
          "base_uri": "https://localhost:8080/"
        },
        "id": "OKY5KSC5sout",
        "outputId": "02943a11-2cf3-4d6f-c3d7-8c7967f095f6"
      },
      "execution_count": null,
      "outputs": [
        {
          "output_type": "stream",
          "name": "stdout",
          "text": [
            "Precision: 1.0000\n"
          ]
        }
      ]
    },
    {
      "cell_type": "code",
      "source": [
        "from sklearn.metrics import recall_score\n",
        "\n",
        "recall = recall_score(y_test, y_pred_binary)\n",
        "print(f'Recall: {recall:.4f}')"
      ],
      "metadata": {
        "colab": {
          "base_uri": "https://localhost:8080/"
        },
        "id": "LwWOmENQsrHG",
        "outputId": "d56372cd-9e8c-4cf9-8eb5-58773efd8b91"
      },
      "execution_count": null,
      "outputs": [
        {
          "output_type": "stream",
          "name": "stdout",
          "text": [
            "Recall: 0.9967\n"
          ]
        }
      ]
    },
    {
      "cell_type": "markdown",
      "source": [
        "# **Simple RNN**"
      ],
      "metadata": {
        "id": "qyzhr-V2oYdd"
      }
    },
    {
      "cell_type": "code",
      "source": [
        "import numpy as np\n",
        "import pandas as pd\n",
        "from sklearn.model_selection import train_test_split\n",
        "from sklearn.preprocessing import StandardScaler\n",
        "from tensorflow.keras.models import Sequential\n",
        "from tensorflow.keras.layers import SimpleRNN, Dense"
      ],
      "metadata": {
        "id": "-Dio_UQcn-dL"
      },
      "execution_count": null,
      "outputs": []
    },
    {
      "cell_type": "code",
      "source": [
        "# Assuming your dataset is stored in a pandas DataFrame called 'df'\n",
        "X = df.iloc[:, :-1].values  # Features\n",
        "y = df.iloc[:, -1].values   # Target variable"
      ],
      "metadata": {
        "id": "UD83IwKLodtN"
      },
      "execution_count": null,
      "outputs": []
    },
    {
      "cell_type": "code",
      "source": [
        "# Split the dataset into training and testing sets\n",
        "X_train, X_test, y_train, y_test = train_test_split(X, y, test_size=0.2, random_state=42)"
      ],
      "metadata": {
        "id": "S1GxMygdohdi"
      },
      "execution_count": null,
      "outputs": []
    },
    {
      "cell_type": "code",
      "source": [
        "# Standardize the features\n",
        "scaler = StandardScaler()\n",
        "X_train = scaler.fit_transform(X_train)\n",
        "X_test = scaler.transform(X_test)"
      ],
      "metadata": {
        "id": "On6LYQNRojmr"
      },
      "execution_count": null,
      "outputs": []
    },
    {
      "cell_type": "code",
      "source": [
        "# Reshape the data for the RNN (assuming 14 features)\n",
        "X_train = X_train.reshape(X_train.shape[0], 1, X_train.shape[1])\n",
        "X_test = X_test.reshape(X_test.shape[0], 1, X_test.shape[1])"
      ],
      "metadata": {
        "id": "9WTaTipKomDf"
      },
      "execution_count": null,
      "outputs": []
    },
    {
      "cell_type": "code",
      "source": [
        "# Define the RNN model\n",
        "rnn_model = Sequential()\n",
        "rnn_model.add(SimpleRNN(32, input_shape=(X_train.shape[1], X_train.shape[2])))\n",
        "rnn_model.add(Dense(1, activation='sigmoid'))"
      ],
      "metadata": {
        "id": "9YXqc0C_ooRI"
      },
      "execution_count": null,
      "outputs": []
    },
    {
      "cell_type": "code",
      "source": [
        "# Compile the model\n",
        "rnn_model.compile(optimizer='adam', loss='binary_crossentropy', metrics=['accuracy'])"
      ],
      "metadata": {
        "id": "fa4gMF11oql4"
      },
      "execution_count": null,
      "outputs": []
    },
    {
      "cell_type": "code",
      "source": [
        "# Train the model\n",
        "rnn_model.fit(X_train, y_train, epochs=10, batch_size=32, validation_data=(X_test, y_test))"
      ],
      "metadata": {
        "colab": {
          "base_uri": "https://localhost:8080/"
        },
        "id": "juYCEAgOot_E",
        "outputId": "1ad90dc2-e4c1-4ace-df8e-54f718bddb4b"
      },
      "execution_count": null,
      "outputs": [
        {
          "output_type": "stream",
          "name": "stdout",
          "text": [
            "Epoch 1/10\n",
            "79/79 [==============================] - 2s 7ms/step - loss: 0.6738 - accuracy: 0.6930 - val_loss: 0.6477 - val_accuracy: 0.6752\n",
            "Epoch 2/10\n",
            "79/79 [==============================] - 0s 3ms/step - loss: 0.6308 - accuracy: 0.6651 - val_loss: 0.6160 - val_accuracy: 0.7118\n",
            "Epoch 3/10\n",
            "79/79 [==============================] - 0s 5ms/step - loss: 0.5896 - accuracy: 0.7125 - val_loss: 0.5774 - val_accuracy: 0.7325\n",
            "Epoch 4/10\n",
            "79/79 [==============================] - 0s 5ms/step - loss: 0.5480 - accuracy: 0.7356 - val_loss: 0.5345 - val_accuracy: 0.7643\n",
            "Epoch 5/10\n",
            "79/79 [==============================] - 0s 5ms/step - loss: 0.5007 - accuracy: 0.7691 - val_loss: 0.4884 - val_accuracy: 0.8025\n",
            "Epoch 6/10\n",
            "79/79 [==============================] - 0s 5ms/step - loss: 0.4522 - accuracy: 0.8150 - val_loss: 0.4415 - val_accuracy: 0.8312\n",
            "Epoch 7/10\n",
            "79/79 [==============================] - 0s 4ms/step - loss: 0.4009 - accuracy: 0.8644 - val_loss: 0.3919 - val_accuracy: 0.8678\n",
            "Epoch 8/10\n",
            "79/79 [==============================] - 0s 5ms/step - loss: 0.3492 - accuracy: 0.9015 - val_loss: 0.3435 - val_accuracy: 0.8997\n",
            "Epoch 9/10\n",
            "79/79 [==============================] - 0s 4ms/step - loss: 0.2994 - accuracy: 0.9191 - val_loss: 0.2963 - val_accuracy: 0.9204\n",
            "Epoch 10/10\n",
            "79/79 [==============================] - 0s 5ms/step - loss: 0.2544 - accuracy: 0.9370 - val_loss: 0.2536 - val_accuracy: 0.9299\n"
          ]
        },
        {
          "output_type": "execute_result",
          "data": {
            "text/plain": [
              "<keras.src.callbacks.History at 0x7996b63cbf70>"
            ]
          },
          "metadata": {},
          "execution_count": 42
        }
      ]
    },
    {
      "cell_type": "code",
      "source": [
        "from sklearn.metrics import classification_report\n",
        "\n",
        "# Make predictions on the test set\n",
        "y_pred = rnn_model.predict(X_test)\n",
        "y_pred_binary = (y_pred > 0.5).astype(int)"
      ],
      "metadata": {
        "colab": {
          "base_uri": "https://localhost:8080/"
        },
        "id": "Z0YwZSZHoxUs",
        "outputId": "55ccc167-bb12-47d7-b139-9927e68cddb5"
      },
      "execution_count": null,
      "outputs": [
        {
          "output_type": "stream",
          "name": "stdout",
          "text": [
            "20/20 [==============================] - 0s 1ms/step\n"
          ]
        }
      ]
    },
    {
      "cell_type": "code",
      "source": [
        "from sklearn.metrics import accuracy_score\n",
        "\n",
        "accuracy = accuracy_score(y_test, y_pred_binary)\n",
        "print(f'Accuracy: {accuracy * 100:.2f}%')"
      ],
      "metadata": {
        "colab": {
          "base_uri": "https://localhost:8080/"
        },
        "outputId": "34016f9c-9d1b-475e-8c9e-7a9e98adb2ae",
        "id": "xOkgQ1Jax7f0"
      },
      "execution_count": null,
      "outputs": [
        {
          "output_type": "stream",
          "name": "stdout",
          "text": [
            "Accuracy: 92.99%\n"
          ]
        }
      ]
    },
    {
      "cell_type": "code",
      "source": [
        "from sklearn.metrics import f1_score\n",
        "f1 = f1_score(y_test, y_pred_binary)\n",
        "print(f'F1 Score: {f1:.4f}')"
      ],
      "metadata": {
        "colab": {
          "base_uri": "https://localhost:8080/"
        },
        "outputId": "b2c01338-ee15-44dc-df04-8bb06131bc9d",
        "id": "X6o0iOWJx7f1"
      },
      "execution_count": null,
      "outputs": [
        {
          "output_type": "stream",
          "name": "stdout",
          "text": [
            "F1 Score: 0.9214\n"
          ]
        }
      ]
    },
    {
      "cell_type": "code",
      "source": [
        "from sklearn.metrics import precision_score\n",
        "\n",
        "precision = precision_score(y_test, y_pred_binary)\n",
        "print(f'Precision: {precision:.4f}')"
      ],
      "metadata": {
        "colab": {
          "base_uri": "https://localhost:8080/"
        },
        "outputId": "673687f2-63ca-492d-9cd1-9795bccb013e",
        "id": "Gdafg_20x7f2"
      },
      "execution_count": null,
      "outputs": [
        {
          "output_type": "stream",
          "name": "stdout",
          "text": [
            "Precision: 1.0000\n"
          ]
        }
      ]
    },
    {
      "cell_type": "code",
      "source": [
        "from sklearn.metrics import recall_score\n",
        "\n",
        "recall = recall_score(y_test, y_pred_binary)\n",
        "print(f'Recall: {recall:.4f}')"
      ],
      "metadata": {
        "colab": {
          "base_uri": "https://localhost:8080/"
        },
        "outputId": "de7ccb6c-4aec-49fd-c65d-36ab1ea4cbc3",
        "id": "NuANNhBTx7f3"
      },
      "execution_count": null,
      "outputs": [
        {
          "output_type": "stream",
          "name": "stdout",
          "text": [
            "Recall: 0.8543\n"
          ]
        }
      ]
    }
  ]
}