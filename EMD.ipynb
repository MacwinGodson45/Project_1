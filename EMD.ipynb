{
  "cells": [
    {
      "cell_type": "code",
      "execution_count": null,
      "metadata": {
        "id": "ZhS3oweyie_K"
      },
      "outputs": [],
      "source": [
        "import pandas as pd\n",
        "import numpy as np\n",
        "import matplotlib.pyplot as plt\n",
        "import seaborn as sns"
      ]
    },
    {
      "cell_type": "code",
      "execution_count": null,
      "metadata": {
        "colab": {
          "base_uri": "https://localhost:8080/",
          "height": 206
        },
        "id": "zXwVU5OUk6NB",
        "outputId": "f2a6a6e4-b11f-46f1-ff80-09e94de8d8ba"
      },
      "outputs": [
        {
          "output_type": "execute_result",
          "data": {
            "text/plain": [
              "   1.21E+04  -8.02E+02  -4.16E+02  -4.35E+02  -3.06E+02  -2.43E+02  -1.16E+03  \\\n",
              "0   13700.0    -1000.0     -438.0     -442.0     -308.0     -245.0    -1140.0   \n",
              "1   -2040.0     -622.0     -338.0     -396.0     -300.0     -246.0    -1130.0   \n",
              "2  -14200.0       51.0     -155.0     -305.0     -281.0     -245.0    -1120.0   \n",
              "3   -3170.0      658.0       56.3     -185.0     -254.0     -243.0    -1110.0   \n",
              "4   15400.0      940.0      243.0      -48.4     -220.0     -239.0    -1090.0   \n",
              "\n",
              "   8.22E+01  3.29E+02  5.94E+02  1.90E+03  7.73E+02  1.03E+02  Target  \n",
              "0      83.4     330.0     594.0    1900.0     773.0     103.0       0  \n",
              "1      84.6     332.0     595.0    1900.0     773.0     103.0       0  \n",
              "2      85.9     333.0     595.0    1900.0     773.0     103.0       0  \n",
              "3      87.1     334.0     595.0    1900.0     773.0     103.0       0  \n",
              "4      88.4     335.0     596.0    1900.0     773.0     103.0       0  "
            ],
            "text/html": [
              "\n",
              "  <div id=\"df-8c1277e4-9043-4e82-a56e-676401fe22e0\" class=\"colab-df-container\">\n",
              "    <div>\n",
              "<style scoped>\n",
              "    .dataframe tbody tr th:only-of-type {\n",
              "        vertical-align: middle;\n",
              "    }\n",
              "\n",
              "    .dataframe tbody tr th {\n",
              "        vertical-align: top;\n",
              "    }\n",
              "\n",
              "    .dataframe thead th {\n",
              "        text-align: right;\n",
              "    }\n",
              "</style>\n",
              "<table border=\"1\" class=\"dataframe\">\n",
              "  <thead>\n",
              "    <tr style=\"text-align: right;\">\n",
              "      <th></th>\n",
              "      <th>1.21E+04</th>\n",
              "      <th>-8.02E+02</th>\n",
              "      <th>-4.16E+02</th>\n",
              "      <th>-4.35E+02</th>\n",
              "      <th>-3.06E+02</th>\n",
              "      <th>-2.43E+02</th>\n",
              "      <th>-1.16E+03</th>\n",
              "      <th>8.22E+01</th>\n",
              "      <th>3.29E+02</th>\n",
              "      <th>5.94E+02</th>\n",
              "      <th>1.90E+03</th>\n",
              "      <th>7.73E+02</th>\n",
              "      <th>1.03E+02</th>\n",
              "      <th>Target</th>\n",
              "    </tr>\n",
              "  </thead>\n",
              "  <tbody>\n",
              "    <tr>\n",
              "      <th>0</th>\n",
              "      <td>13700.0</td>\n",
              "      <td>-1000.0</td>\n",
              "      <td>-438.0</td>\n",
              "      <td>-442.0</td>\n",
              "      <td>-308.0</td>\n",
              "      <td>-245.0</td>\n",
              "      <td>-1140.0</td>\n",
              "      <td>83.4</td>\n",
              "      <td>330.0</td>\n",
              "      <td>594.0</td>\n",
              "      <td>1900.0</td>\n",
              "      <td>773.0</td>\n",
              "      <td>103.0</td>\n",
              "      <td>0</td>\n",
              "    </tr>\n",
              "    <tr>\n",
              "      <th>1</th>\n",
              "      <td>-2040.0</td>\n",
              "      <td>-622.0</td>\n",
              "      <td>-338.0</td>\n",
              "      <td>-396.0</td>\n",
              "      <td>-300.0</td>\n",
              "      <td>-246.0</td>\n",
              "      <td>-1130.0</td>\n",
              "      <td>84.6</td>\n",
              "      <td>332.0</td>\n",
              "      <td>595.0</td>\n",
              "      <td>1900.0</td>\n",
              "      <td>773.0</td>\n",
              "      <td>103.0</td>\n",
              "      <td>0</td>\n",
              "    </tr>\n",
              "    <tr>\n",
              "      <th>2</th>\n",
              "      <td>-14200.0</td>\n",
              "      <td>51.0</td>\n",
              "      <td>-155.0</td>\n",
              "      <td>-305.0</td>\n",
              "      <td>-281.0</td>\n",
              "      <td>-245.0</td>\n",
              "      <td>-1120.0</td>\n",
              "      <td>85.9</td>\n",
              "      <td>333.0</td>\n",
              "      <td>595.0</td>\n",
              "      <td>1900.0</td>\n",
              "      <td>773.0</td>\n",
              "      <td>103.0</td>\n",
              "      <td>0</td>\n",
              "    </tr>\n",
              "    <tr>\n",
              "      <th>3</th>\n",
              "      <td>-3170.0</td>\n",
              "      <td>658.0</td>\n",
              "      <td>56.3</td>\n",
              "      <td>-185.0</td>\n",
              "      <td>-254.0</td>\n",
              "      <td>-243.0</td>\n",
              "      <td>-1110.0</td>\n",
              "      <td>87.1</td>\n",
              "      <td>334.0</td>\n",
              "      <td>595.0</td>\n",
              "      <td>1900.0</td>\n",
              "      <td>773.0</td>\n",
              "      <td>103.0</td>\n",
              "      <td>0</td>\n",
              "    </tr>\n",
              "    <tr>\n",
              "      <th>4</th>\n",
              "      <td>15400.0</td>\n",
              "      <td>940.0</td>\n",
              "      <td>243.0</td>\n",
              "      <td>-48.4</td>\n",
              "      <td>-220.0</td>\n",
              "      <td>-239.0</td>\n",
              "      <td>-1090.0</td>\n",
              "      <td>88.4</td>\n",
              "      <td>335.0</td>\n",
              "      <td>596.0</td>\n",
              "      <td>1900.0</td>\n",
              "      <td>773.0</td>\n",
              "      <td>103.0</td>\n",
              "      <td>0</td>\n",
              "    </tr>\n",
              "  </tbody>\n",
              "</table>\n",
              "</div>\n",
              "    <div class=\"colab-df-buttons\">\n",
              "\n",
              "  <div class=\"colab-df-container\">\n",
              "    <button class=\"colab-df-convert\" onclick=\"convertToInteractive('df-8c1277e4-9043-4e82-a56e-676401fe22e0')\"\n",
              "            title=\"Convert this dataframe to an interactive table.\"\n",
              "            style=\"display:none;\">\n",
              "\n",
              "  <svg xmlns=\"http://www.w3.org/2000/svg\" height=\"24px\" viewBox=\"0 -960 960 960\">\n",
              "    <path d=\"M120-120v-720h720v720H120Zm60-500h600v-160H180v160Zm220 220h160v-160H400v160Zm0 220h160v-160H400v160ZM180-400h160v-160H180v160Zm440 0h160v-160H620v160ZM180-180h160v-160H180v160Zm440 0h160v-160H620v160Z\"/>\n",
              "  </svg>\n",
              "    </button>\n",
              "\n",
              "  <style>\n",
              "    .colab-df-container {\n",
              "      display:flex;\n",
              "      gap: 12px;\n",
              "    }\n",
              "\n",
              "    .colab-df-convert {\n",
              "      background-color: #E8F0FE;\n",
              "      border: none;\n",
              "      border-radius: 50%;\n",
              "      cursor: pointer;\n",
              "      display: none;\n",
              "      fill: #1967D2;\n",
              "      height: 32px;\n",
              "      padding: 0 0 0 0;\n",
              "      width: 32px;\n",
              "    }\n",
              "\n",
              "    .colab-df-convert:hover {\n",
              "      background-color: #E2EBFA;\n",
              "      box-shadow: 0px 1px 2px rgba(60, 64, 67, 0.3), 0px 1px 3px 1px rgba(60, 64, 67, 0.15);\n",
              "      fill: #174EA6;\n",
              "    }\n",
              "\n",
              "    .colab-df-buttons div {\n",
              "      margin-bottom: 4px;\n",
              "    }\n",
              "\n",
              "    [theme=dark] .colab-df-convert {\n",
              "      background-color: #3B4455;\n",
              "      fill: #D2E3FC;\n",
              "    }\n",
              "\n",
              "    [theme=dark] .colab-df-convert:hover {\n",
              "      background-color: #434B5C;\n",
              "      box-shadow: 0px 1px 3px 1px rgba(0, 0, 0, 0.15);\n",
              "      filter: drop-shadow(0px 1px 2px rgba(0, 0, 0, 0.3));\n",
              "      fill: #FFFFFF;\n",
              "    }\n",
              "  </style>\n",
              "\n",
              "    <script>\n",
              "      const buttonEl =\n",
              "        document.querySelector('#df-8c1277e4-9043-4e82-a56e-676401fe22e0 button.colab-df-convert');\n",
              "      buttonEl.style.display =\n",
              "        google.colab.kernel.accessAllowed ? 'block' : 'none';\n",
              "\n",
              "      async function convertToInteractive(key) {\n",
              "        const element = document.querySelector('#df-8c1277e4-9043-4e82-a56e-676401fe22e0');\n",
              "        const dataTable =\n",
              "          await google.colab.kernel.invokeFunction('convertToInteractive',\n",
              "                                                    [key], {});\n",
              "        if (!dataTable) return;\n",
              "\n",
              "        const docLinkHtml = 'Like what you see? Visit the ' +\n",
              "          '<a target=\"_blank\" href=https://colab.research.google.com/notebooks/data_table.ipynb>data table notebook</a>'\n",
              "          + ' to learn more about interactive tables.';\n",
              "        element.innerHTML = '';\n",
              "        dataTable['output_type'] = 'display_data';\n",
              "        await google.colab.output.renderOutput(dataTable, element);\n",
              "        const docLink = document.createElement('div');\n",
              "        docLink.innerHTML = docLinkHtml;\n",
              "        element.appendChild(docLink);\n",
              "      }\n",
              "    </script>\n",
              "  </div>\n",
              "\n",
              "\n",
              "<div id=\"df-c8c696ad-34e5-4290-bd4a-fdfc729193c8\">\n",
              "  <button class=\"colab-df-quickchart\" onclick=\"quickchart('df-c8c696ad-34e5-4290-bd4a-fdfc729193c8')\"\n",
              "            title=\"Suggest charts\"\n",
              "            style=\"display:none;\">\n",
              "\n",
              "<svg xmlns=\"http://www.w3.org/2000/svg\" height=\"24px\"viewBox=\"0 0 24 24\"\n",
              "     width=\"24px\">\n",
              "    <g>\n",
              "        <path d=\"M19 3H5c-1.1 0-2 .9-2 2v14c0 1.1.9 2 2 2h14c1.1 0 2-.9 2-2V5c0-1.1-.9-2-2-2zM9 17H7v-7h2v7zm4 0h-2V7h2v10zm4 0h-2v-4h2v4z\"/>\n",
              "    </g>\n",
              "</svg>\n",
              "  </button>\n",
              "\n",
              "<style>\n",
              "  .colab-df-quickchart {\n",
              "      --bg-color: #E8F0FE;\n",
              "      --fill-color: #1967D2;\n",
              "      --hover-bg-color: #E2EBFA;\n",
              "      --hover-fill-color: #174EA6;\n",
              "      --disabled-fill-color: #AAA;\n",
              "      --disabled-bg-color: #DDD;\n",
              "  }\n",
              "\n",
              "  [theme=dark] .colab-df-quickchart {\n",
              "      --bg-color: #3B4455;\n",
              "      --fill-color: #D2E3FC;\n",
              "      --hover-bg-color: #434B5C;\n",
              "      --hover-fill-color: #FFFFFF;\n",
              "      --disabled-bg-color: #3B4455;\n",
              "      --disabled-fill-color: #666;\n",
              "  }\n",
              "\n",
              "  .colab-df-quickchart {\n",
              "    background-color: var(--bg-color);\n",
              "    border: none;\n",
              "    border-radius: 50%;\n",
              "    cursor: pointer;\n",
              "    display: none;\n",
              "    fill: var(--fill-color);\n",
              "    height: 32px;\n",
              "    padding: 0;\n",
              "    width: 32px;\n",
              "  }\n",
              "\n",
              "  .colab-df-quickchart:hover {\n",
              "    background-color: var(--hover-bg-color);\n",
              "    box-shadow: 0 1px 2px rgba(60, 64, 67, 0.3), 0 1px 3px 1px rgba(60, 64, 67, 0.15);\n",
              "    fill: var(--button-hover-fill-color);\n",
              "  }\n",
              "\n",
              "  .colab-df-quickchart-complete:disabled,\n",
              "  .colab-df-quickchart-complete:disabled:hover {\n",
              "    background-color: var(--disabled-bg-color);\n",
              "    fill: var(--disabled-fill-color);\n",
              "    box-shadow: none;\n",
              "  }\n",
              "\n",
              "  .colab-df-spinner {\n",
              "    border: 2px solid var(--fill-color);\n",
              "    border-color: transparent;\n",
              "    border-bottom-color: var(--fill-color);\n",
              "    animation:\n",
              "      spin 1s steps(1) infinite;\n",
              "  }\n",
              "\n",
              "  @keyframes spin {\n",
              "    0% {\n",
              "      border-color: transparent;\n",
              "      border-bottom-color: var(--fill-color);\n",
              "      border-left-color: var(--fill-color);\n",
              "    }\n",
              "    20% {\n",
              "      border-color: transparent;\n",
              "      border-left-color: var(--fill-color);\n",
              "      border-top-color: var(--fill-color);\n",
              "    }\n",
              "    30% {\n",
              "      border-color: transparent;\n",
              "      border-left-color: var(--fill-color);\n",
              "      border-top-color: var(--fill-color);\n",
              "      border-right-color: var(--fill-color);\n",
              "    }\n",
              "    40% {\n",
              "      border-color: transparent;\n",
              "      border-right-color: var(--fill-color);\n",
              "      border-top-color: var(--fill-color);\n",
              "    }\n",
              "    60% {\n",
              "      border-color: transparent;\n",
              "      border-right-color: var(--fill-color);\n",
              "    }\n",
              "    80% {\n",
              "      border-color: transparent;\n",
              "      border-right-color: var(--fill-color);\n",
              "      border-bottom-color: var(--fill-color);\n",
              "    }\n",
              "    90% {\n",
              "      border-color: transparent;\n",
              "      border-bottom-color: var(--fill-color);\n",
              "    }\n",
              "  }\n",
              "</style>\n",
              "\n",
              "  <script>\n",
              "    async function quickchart(key) {\n",
              "      const quickchartButtonEl =\n",
              "        document.querySelector('#' + key + ' button');\n",
              "      quickchartButtonEl.disabled = true;  // To prevent multiple clicks.\n",
              "      quickchartButtonEl.classList.add('colab-df-spinner');\n",
              "      try {\n",
              "        const charts = await google.colab.kernel.invokeFunction(\n",
              "            'suggestCharts', [key], {});\n",
              "      } catch (error) {\n",
              "        console.error('Error during call to suggestCharts:', error);\n",
              "      }\n",
              "      quickchartButtonEl.classList.remove('colab-df-spinner');\n",
              "      quickchartButtonEl.classList.add('colab-df-quickchart-complete');\n",
              "    }\n",
              "    (() => {\n",
              "      let quickchartButtonEl =\n",
              "        document.querySelector('#df-c8c696ad-34e5-4290-bd4a-fdfc729193c8 button');\n",
              "      quickchartButtonEl.style.display =\n",
              "        google.colab.kernel.accessAllowed ? 'block' : 'none';\n",
              "    })();\n",
              "  </script>\n",
              "</div>\n",
              "    </div>\n",
              "  </div>\n"
            ],
            "application/vnd.google.colaboratory.intrinsic+json": {
              "type": "dataframe",
              "variable_name": "df",
              "summary": "{\n  \"name\": \"df\",\n  \"rows\": 99996,\n  \"fields\": [\n    {\n      \"column\": \"1.21E+04\",\n      \"properties\": {\n        \"dtype\": \"number\",\n        \"std\": 4837.1145122698035,\n        \"min\": -17200.0,\n        \"max\": 17200.0,\n        \"num_unique_values\": 5351,\n        \"samples\": [\n          80.0,\n          388.0,\n          -4260.0\n        ],\n        \"semantic_type\": \"\",\n        \"description\": \"\"\n      }\n    },\n    {\n      \"column\": \"-8.02E+02\",\n      \"properties\": {\n        \"dtype\": \"number\",\n        \"std\": 154.9480403055806,\n        \"min\": -3770.0,\n        \"max\": 3820.0,\n        \"num_unique_values\": 5904,\n        \"samples\": [\n          704.0,\n          -0.519,\n          71.1\n        ],\n        \"semantic_type\": \"\",\n        \"description\": \"\"\n      }\n    },\n    {\n      \"column\": \"-4.16E+02\",\n      \"properties\": {\n        \"dtype\": \"number\",\n        \"std\": 181.02107575226006,\n        \"min\": -4760.0,\n        \"max\": 4860.0,\n        \"num_unique_values\": 6018,\n        \"samples\": [\n          -47.3,\n          0.0689,\n          -228.0\n        ],\n        \"semantic_type\": \"\",\n        \"description\": \"\"\n      }\n    },\n    {\n      \"column\": \"-4.35E+02\",\n      \"properties\": {\n        \"dtype\": \"number\",\n        \"std\": 231.1597613296215,\n        \"min\": -5060.0,\n        \"max\": 4880.0,\n        \"num_unique_values\": 6330,\n        \"samples\": [\n          -77.6,\n          0.28,\n          -523.0\n        ],\n        \"semantic_type\": \"\",\n        \"description\": \"\"\n      }\n    },\n    {\n      \"column\": \"-3.06E+02\",\n      \"properties\": {\n        \"dtype\": \"number\",\n        \"std\": 273.2487871622195,\n        \"min\": -3260.0,\n        \"max\": 3060.0,\n        \"num_unique_values\": 6336,\n        \"samples\": [\n          -65.1,\n          -14.8,\n          -72.4\n        ],\n        \"semantic_type\": \"\",\n        \"description\": \"\"\n      }\n    },\n    {\n      \"column\": \"-2.43E+02\",\n      \"properties\": {\n        \"dtype\": \"number\",\n        \"std\": 286.380053778048,\n        \"min\": -2410.0,\n        \"max\": 2290.0,\n        \"num_unique_values\": 6158,\n        \"samples\": [\n          -956.0,\n          -585.0,\n          816.0\n        ],\n        \"semantic_type\": \"\",\n        \"description\": \"\"\n      }\n    },\n    {\n      \"column\": \"-1.16E+03\",\n      \"properties\": {\n        \"dtype\": \"number\",\n        \"std\": 295.69492416997565,\n        \"min\": -2590.0,\n        \"max\": 2370.0,\n        \"num_unique_values\": 6026,\n        \"samples\": [\n          -805.0,\n          -1.89,\n          60.2\n        ],\n        \"semantic_type\": \"\",\n        \"description\": \"\"\n      }\n    },\n    {\n      \"column\": \"8.22E+01\",\n      \"properties\": {\n        \"dtype\": \"number\",\n        \"std\": 274.7749850281705,\n        \"min\": -1870.0,\n        \"max\": 1890.0,\n        \"num_unique_values\": 5707,\n        \"samples\": [\n          12.7,\n          -115.0,\n          -18.9\n        ],\n        \"semantic_type\": \"\",\n        \"description\": \"\"\n      }\n    },\n    {\n      \"column\": \"3.29E+02\",\n      \"properties\": {\n        \"dtype\": \"number\",\n        \"std\": 307.9634744065008,\n        \"min\": -1600.0,\n        \"max\": 1610.0,\n        \"num_unique_values\": 5550,\n        \"samples\": [\n          254.0,\n          -8.16,\n          -636.0\n        ],\n        \"semantic_type\": \"\",\n        \"description\": \"\"\n      }\n    },\n    {\n      \"column\": \"5.94E+02\",\n      \"properties\": {\n        \"dtype\": \"number\",\n        \"std\": 480.00419524129836,\n        \"min\": -2560.0,\n        \"max\": 1620.0,\n        \"num_unique_values\": 5404,\n        \"samples\": [\n          63.2,\n          928.0,\n          2.57\n        ],\n        \"semantic_type\": \"\",\n        \"description\": \"\"\n      }\n    },\n    {\n      \"column\": \"1.90E+03\",\n      \"properties\": {\n        \"dtype\": \"number\",\n        \"std\": 806.5030800815817,\n        \"min\": -3370.0,\n        \"max\": 2800.0,\n        \"num_unique_values\": 5495,\n        \"samples\": [\n          -164.0,\n          181.0,\n          -168.0\n        ],\n        \"semantic_type\": \"\",\n        \"description\": \"\"\n      }\n    },\n    {\n      \"column\": \"7.73E+02\",\n      \"properties\": {\n        \"dtype\": \"number\",\n        \"std\": 3697.3258528571855,\n        \"min\": -17900.0,\n        \"max\": 13800.0,\n        \"num_unique_values\": 6217,\n        \"samples\": [\n          -617.0,\n          -68.4,\n          -554.0\n        ],\n        \"semantic_type\": \"\",\n        \"description\": \"\"\n      }\n    },\n    {\n      \"column\": \"1.03E+02\",\n      \"properties\": {\n        \"dtype\": \"number\",\n        \"std\": 821.4239694635231,\n        \"min\": -2210.0,\n        \"max\": 1860.0,\n        \"num_unique_values\": 4626,\n        \"samples\": [\n          -741.0,\n          20.6,\n          -61.4\n        ],\n        \"semantic_type\": \"\",\n        \"description\": \"\"\n      }\n    },\n    {\n      \"column\": \"Target\",\n      \"properties\": {\n        \"dtype\": \"number\",\n        \"std\": 0,\n        \"min\": 0,\n        \"max\": 1,\n        \"num_unique_values\": 2,\n        \"samples\": [\n          1,\n          0\n        ],\n        \"semantic_type\": \"\",\n        \"description\": \"\"\n      }\n    }\n  ]\n}"
            }
          },
          "metadata": {},
          "execution_count": 2
        }
      ],
      "source": [
        "df = pd.read_csv('/content/drive/MyDrive/Final Year Project/Sub1_Sub2_EMD.csv')\n",
        "df.head()"
      ]
    },
    {
      "cell_type": "code",
      "execution_count": null,
      "metadata": {
        "colab": {
          "base_uri": "https://localhost:8080/"
        },
        "id": "m1a-OwUaRjnX",
        "outputId": "5a6f84f4-c674-474b-84af-1feec3d0bfe9"
      },
      "outputs": [
        {
          "output_type": "execute_result",
          "data": {
            "text/plain": [
              "1.21E+04     0\n",
              "-8.02E+02    0\n",
              "-4.16E+02    0\n",
              "-4.35E+02    0\n",
              "-3.06E+02    0\n",
              "-2.43E+02    0\n",
              "-1.16E+03    0\n",
              "8.22E+01     0\n",
              "3.29E+02     0\n",
              "5.94E+02     0\n",
              "1.90E+03     0\n",
              "7.73E+02     0\n",
              "1.03E+02     0\n",
              "Target       0\n",
              "dtype: int64"
            ]
          },
          "metadata": {},
          "execution_count": 3
        }
      ],
      "source": [
        "df.isnull().sum()"
      ]
    },
    {
      "cell_type": "code",
      "execution_count": null,
      "metadata": {
        "colab": {
          "base_uri": "https://localhost:8080/",
          "height": 423
        },
        "id": "8EBm33CeRtGz",
        "outputId": "154217af-2acc-42f7-8131-5b5cdcbe7838"
      },
      "outputs": [
        {
          "output_type": "execute_result",
          "data": {
            "text/plain": [
              "       1.21E+04  -8.02E+02  -4.16E+02  -4.35E+02  -3.06E+02  -2.43E+02  \\\n",
              "0       13700.0    -1000.0     -438.0     -442.0     -308.0     -245.0   \n",
              "1       -2040.0     -622.0     -338.0     -396.0     -300.0     -246.0   \n",
              "2      -14200.0       51.0     -155.0     -305.0     -281.0     -245.0   \n",
              "3       -3170.0      658.0       56.3     -185.0     -254.0     -243.0   \n",
              "4       15400.0      940.0      243.0      -48.4     -220.0     -239.0   \n",
              "...         ...        ...        ...        ...        ...        ...   \n",
              "99991    -681.0     -105.0     -210.0     -226.0      331.0       88.9   \n",
              "99992   -4700.0      191.0     -262.0     -275.0      306.0       86.2   \n",
              "99993   -1940.0      383.0     -294.0     -310.0      279.0       83.8   \n",
              "99994    3790.0      457.0     -302.0     -327.0      252.0       81.6   \n",
              "99995    4660.0      433.0     -282.0     -323.0      224.0       79.7   \n",
              "\n",
              "       -1.16E+03  8.22E+01  3.29E+02  5.94E+02  1.90E+03  7.73E+02  1.03E+02  \\\n",
              "0        -1140.0      83.4     330.0     594.0    1900.0     773.0     103.0   \n",
              "1        -1130.0      84.6     332.0     595.0    1900.0     773.0     103.0   \n",
              "2        -1120.0      85.9     333.0     595.0    1900.0     773.0     103.0   \n",
              "3        -1110.0      87.1     334.0     595.0    1900.0     773.0     103.0   \n",
              "4        -1090.0      88.4     335.0     596.0    1900.0     773.0     103.0   \n",
              "...          ...       ...       ...       ...       ...       ...       ...   \n",
              "99991      -10.2      94.1     -17.6     141.0    -263.0     200.0    1690.0   \n",
              "99992      -11.8      94.0     -17.1     140.0    -262.0     199.0    1690.0   \n",
              "99993      -13.3      93.9     -16.6     140.0    -260.0     198.0    1690.0   \n",
              "99994      -14.9      93.7     -16.2     140.0    -259.0     197.0    1690.0   \n",
              "99995      -16.6      93.5     -15.8     140.0    -258.0     196.0    1690.0   \n",
              "\n",
              "       Target  \n",
              "0           0  \n",
              "1           0  \n",
              "2           0  \n",
              "3           0  \n",
              "4           0  \n",
              "...       ...  \n",
              "99991       1  \n",
              "99992       1  \n",
              "99993       1  \n",
              "99994       1  \n",
              "99995       1  \n",
              "\n",
              "[99996 rows x 14 columns]"
            ],
            "text/html": [
              "\n",
              "  <div id=\"df-66c74b25-0052-47eb-9c4b-10c30e8113ad\" class=\"colab-df-container\">\n",
              "    <div>\n",
              "<style scoped>\n",
              "    .dataframe tbody tr th:only-of-type {\n",
              "        vertical-align: middle;\n",
              "    }\n",
              "\n",
              "    .dataframe tbody tr th {\n",
              "        vertical-align: top;\n",
              "    }\n",
              "\n",
              "    .dataframe thead th {\n",
              "        text-align: right;\n",
              "    }\n",
              "</style>\n",
              "<table border=\"1\" class=\"dataframe\">\n",
              "  <thead>\n",
              "    <tr style=\"text-align: right;\">\n",
              "      <th></th>\n",
              "      <th>1.21E+04</th>\n",
              "      <th>-8.02E+02</th>\n",
              "      <th>-4.16E+02</th>\n",
              "      <th>-4.35E+02</th>\n",
              "      <th>-3.06E+02</th>\n",
              "      <th>-2.43E+02</th>\n",
              "      <th>-1.16E+03</th>\n",
              "      <th>8.22E+01</th>\n",
              "      <th>3.29E+02</th>\n",
              "      <th>5.94E+02</th>\n",
              "      <th>1.90E+03</th>\n",
              "      <th>7.73E+02</th>\n",
              "      <th>1.03E+02</th>\n",
              "      <th>Target</th>\n",
              "    </tr>\n",
              "  </thead>\n",
              "  <tbody>\n",
              "    <tr>\n",
              "      <th>0</th>\n",
              "      <td>13700.0</td>\n",
              "      <td>-1000.0</td>\n",
              "      <td>-438.0</td>\n",
              "      <td>-442.0</td>\n",
              "      <td>-308.0</td>\n",
              "      <td>-245.0</td>\n",
              "      <td>-1140.0</td>\n",
              "      <td>83.4</td>\n",
              "      <td>330.0</td>\n",
              "      <td>594.0</td>\n",
              "      <td>1900.0</td>\n",
              "      <td>773.0</td>\n",
              "      <td>103.0</td>\n",
              "      <td>0</td>\n",
              "    </tr>\n",
              "    <tr>\n",
              "      <th>1</th>\n",
              "      <td>-2040.0</td>\n",
              "      <td>-622.0</td>\n",
              "      <td>-338.0</td>\n",
              "      <td>-396.0</td>\n",
              "      <td>-300.0</td>\n",
              "      <td>-246.0</td>\n",
              "      <td>-1130.0</td>\n",
              "      <td>84.6</td>\n",
              "      <td>332.0</td>\n",
              "      <td>595.0</td>\n",
              "      <td>1900.0</td>\n",
              "      <td>773.0</td>\n",
              "      <td>103.0</td>\n",
              "      <td>0</td>\n",
              "    </tr>\n",
              "    <tr>\n",
              "      <th>2</th>\n",
              "      <td>-14200.0</td>\n",
              "      <td>51.0</td>\n",
              "      <td>-155.0</td>\n",
              "      <td>-305.0</td>\n",
              "      <td>-281.0</td>\n",
              "      <td>-245.0</td>\n",
              "      <td>-1120.0</td>\n",
              "      <td>85.9</td>\n",
              "      <td>333.0</td>\n",
              "      <td>595.0</td>\n",
              "      <td>1900.0</td>\n",
              "      <td>773.0</td>\n",
              "      <td>103.0</td>\n",
              "      <td>0</td>\n",
              "    </tr>\n",
              "    <tr>\n",
              "      <th>3</th>\n",
              "      <td>-3170.0</td>\n",
              "      <td>658.0</td>\n",
              "      <td>56.3</td>\n",
              "      <td>-185.0</td>\n",
              "      <td>-254.0</td>\n",
              "      <td>-243.0</td>\n",
              "      <td>-1110.0</td>\n",
              "      <td>87.1</td>\n",
              "      <td>334.0</td>\n",
              "      <td>595.0</td>\n",
              "      <td>1900.0</td>\n",
              "      <td>773.0</td>\n",
              "      <td>103.0</td>\n",
              "      <td>0</td>\n",
              "    </tr>\n",
              "    <tr>\n",
              "      <th>4</th>\n",
              "      <td>15400.0</td>\n",
              "      <td>940.0</td>\n",
              "      <td>243.0</td>\n",
              "      <td>-48.4</td>\n",
              "      <td>-220.0</td>\n",
              "      <td>-239.0</td>\n",
              "      <td>-1090.0</td>\n",
              "      <td>88.4</td>\n",
              "      <td>335.0</td>\n",
              "      <td>596.0</td>\n",
              "      <td>1900.0</td>\n",
              "      <td>773.0</td>\n",
              "      <td>103.0</td>\n",
              "      <td>0</td>\n",
              "    </tr>\n",
              "    <tr>\n",
              "      <th>...</th>\n",
              "      <td>...</td>\n",
              "      <td>...</td>\n",
              "      <td>...</td>\n",
              "      <td>...</td>\n",
              "      <td>...</td>\n",
              "      <td>...</td>\n",
              "      <td>...</td>\n",
              "      <td>...</td>\n",
              "      <td>...</td>\n",
              "      <td>...</td>\n",
              "      <td>...</td>\n",
              "      <td>...</td>\n",
              "      <td>...</td>\n",
              "      <td>...</td>\n",
              "    </tr>\n",
              "    <tr>\n",
              "      <th>99991</th>\n",
              "      <td>-681.0</td>\n",
              "      <td>-105.0</td>\n",
              "      <td>-210.0</td>\n",
              "      <td>-226.0</td>\n",
              "      <td>331.0</td>\n",
              "      <td>88.9</td>\n",
              "      <td>-10.2</td>\n",
              "      <td>94.1</td>\n",
              "      <td>-17.6</td>\n",
              "      <td>141.0</td>\n",
              "      <td>-263.0</td>\n",
              "      <td>200.0</td>\n",
              "      <td>1690.0</td>\n",
              "      <td>1</td>\n",
              "    </tr>\n",
              "    <tr>\n",
              "      <th>99992</th>\n",
              "      <td>-4700.0</td>\n",
              "      <td>191.0</td>\n",
              "      <td>-262.0</td>\n",
              "      <td>-275.0</td>\n",
              "      <td>306.0</td>\n",
              "      <td>86.2</td>\n",
              "      <td>-11.8</td>\n",
              "      <td>94.0</td>\n",
              "      <td>-17.1</td>\n",
              "      <td>140.0</td>\n",
              "      <td>-262.0</td>\n",
              "      <td>199.0</td>\n",
              "      <td>1690.0</td>\n",
              "      <td>1</td>\n",
              "    </tr>\n",
              "    <tr>\n",
              "      <th>99993</th>\n",
              "      <td>-1940.0</td>\n",
              "      <td>383.0</td>\n",
              "      <td>-294.0</td>\n",
              "      <td>-310.0</td>\n",
              "      <td>279.0</td>\n",
              "      <td>83.8</td>\n",
              "      <td>-13.3</td>\n",
              "      <td>93.9</td>\n",
              "      <td>-16.6</td>\n",
              "      <td>140.0</td>\n",
              "      <td>-260.0</td>\n",
              "      <td>198.0</td>\n",
              "      <td>1690.0</td>\n",
              "      <td>1</td>\n",
              "    </tr>\n",
              "    <tr>\n",
              "      <th>99994</th>\n",
              "      <td>3790.0</td>\n",
              "      <td>457.0</td>\n",
              "      <td>-302.0</td>\n",
              "      <td>-327.0</td>\n",
              "      <td>252.0</td>\n",
              "      <td>81.6</td>\n",
              "      <td>-14.9</td>\n",
              "      <td>93.7</td>\n",
              "      <td>-16.2</td>\n",
              "      <td>140.0</td>\n",
              "      <td>-259.0</td>\n",
              "      <td>197.0</td>\n",
              "      <td>1690.0</td>\n",
              "      <td>1</td>\n",
              "    </tr>\n",
              "    <tr>\n",
              "      <th>99995</th>\n",
              "      <td>4660.0</td>\n",
              "      <td>433.0</td>\n",
              "      <td>-282.0</td>\n",
              "      <td>-323.0</td>\n",
              "      <td>224.0</td>\n",
              "      <td>79.7</td>\n",
              "      <td>-16.6</td>\n",
              "      <td>93.5</td>\n",
              "      <td>-15.8</td>\n",
              "      <td>140.0</td>\n",
              "      <td>-258.0</td>\n",
              "      <td>196.0</td>\n",
              "      <td>1690.0</td>\n",
              "      <td>1</td>\n",
              "    </tr>\n",
              "  </tbody>\n",
              "</table>\n",
              "<p>99996 rows × 14 columns</p>\n",
              "</div>\n",
              "    <div class=\"colab-df-buttons\">\n",
              "\n",
              "  <div class=\"colab-df-container\">\n",
              "    <button class=\"colab-df-convert\" onclick=\"convertToInteractive('df-66c74b25-0052-47eb-9c4b-10c30e8113ad')\"\n",
              "            title=\"Convert this dataframe to an interactive table.\"\n",
              "            style=\"display:none;\">\n",
              "\n",
              "  <svg xmlns=\"http://www.w3.org/2000/svg\" height=\"24px\" viewBox=\"0 -960 960 960\">\n",
              "    <path d=\"M120-120v-720h720v720H120Zm60-500h600v-160H180v160Zm220 220h160v-160H400v160Zm0 220h160v-160H400v160ZM180-400h160v-160H180v160Zm440 0h160v-160H620v160ZM180-180h160v-160H180v160Zm440 0h160v-160H620v160Z\"/>\n",
              "  </svg>\n",
              "    </button>\n",
              "\n",
              "  <style>\n",
              "    .colab-df-container {\n",
              "      display:flex;\n",
              "      gap: 12px;\n",
              "    }\n",
              "\n",
              "    .colab-df-convert {\n",
              "      background-color: #E8F0FE;\n",
              "      border: none;\n",
              "      border-radius: 50%;\n",
              "      cursor: pointer;\n",
              "      display: none;\n",
              "      fill: #1967D2;\n",
              "      height: 32px;\n",
              "      padding: 0 0 0 0;\n",
              "      width: 32px;\n",
              "    }\n",
              "\n",
              "    .colab-df-convert:hover {\n",
              "      background-color: #E2EBFA;\n",
              "      box-shadow: 0px 1px 2px rgba(60, 64, 67, 0.3), 0px 1px 3px 1px rgba(60, 64, 67, 0.15);\n",
              "      fill: #174EA6;\n",
              "    }\n",
              "\n",
              "    .colab-df-buttons div {\n",
              "      margin-bottom: 4px;\n",
              "    }\n",
              "\n",
              "    [theme=dark] .colab-df-convert {\n",
              "      background-color: #3B4455;\n",
              "      fill: #D2E3FC;\n",
              "    }\n",
              "\n",
              "    [theme=dark] .colab-df-convert:hover {\n",
              "      background-color: #434B5C;\n",
              "      box-shadow: 0px 1px 3px 1px rgba(0, 0, 0, 0.15);\n",
              "      filter: drop-shadow(0px 1px 2px rgba(0, 0, 0, 0.3));\n",
              "      fill: #FFFFFF;\n",
              "    }\n",
              "  </style>\n",
              "\n",
              "    <script>\n",
              "      const buttonEl =\n",
              "        document.querySelector('#df-66c74b25-0052-47eb-9c4b-10c30e8113ad button.colab-df-convert');\n",
              "      buttonEl.style.display =\n",
              "        google.colab.kernel.accessAllowed ? 'block' : 'none';\n",
              "\n",
              "      async function convertToInteractive(key) {\n",
              "        const element = document.querySelector('#df-66c74b25-0052-47eb-9c4b-10c30e8113ad');\n",
              "        const dataTable =\n",
              "          await google.colab.kernel.invokeFunction('convertToInteractive',\n",
              "                                                    [key], {});\n",
              "        if (!dataTable) return;\n",
              "\n",
              "        const docLinkHtml = 'Like what you see? Visit the ' +\n",
              "          '<a target=\"_blank\" href=https://colab.research.google.com/notebooks/data_table.ipynb>data table notebook</a>'\n",
              "          + ' to learn more about interactive tables.';\n",
              "        element.innerHTML = '';\n",
              "        dataTable['output_type'] = 'display_data';\n",
              "        await google.colab.output.renderOutput(dataTable, element);\n",
              "        const docLink = document.createElement('div');\n",
              "        docLink.innerHTML = docLinkHtml;\n",
              "        element.appendChild(docLink);\n",
              "      }\n",
              "    </script>\n",
              "  </div>\n",
              "\n",
              "\n",
              "<div id=\"df-b79ecda0-2720-4ca6-b53d-58841730a830\">\n",
              "  <button class=\"colab-df-quickchart\" onclick=\"quickchart('df-b79ecda0-2720-4ca6-b53d-58841730a830')\"\n",
              "            title=\"Suggest charts\"\n",
              "            style=\"display:none;\">\n",
              "\n",
              "<svg xmlns=\"http://www.w3.org/2000/svg\" height=\"24px\"viewBox=\"0 0 24 24\"\n",
              "     width=\"24px\">\n",
              "    <g>\n",
              "        <path d=\"M19 3H5c-1.1 0-2 .9-2 2v14c0 1.1.9 2 2 2h14c1.1 0 2-.9 2-2V5c0-1.1-.9-2-2-2zM9 17H7v-7h2v7zm4 0h-2V7h2v10zm4 0h-2v-4h2v4z\"/>\n",
              "    </g>\n",
              "</svg>\n",
              "  </button>\n",
              "\n",
              "<style>\n",
              "  .colab-df-quickchart {\n",
              "      --bg-color: #E8F0FE;\n",
              "      --fill-color: #1967D2;\n",
              "      --hover-bg-color: #E2EBFA;\n",
              "      --hover-fill-color: #174EA6;\n",
              "      --disabled-fill-color: #AAA;\n",
              "      --disabled-bg-color: #DDD;\n",
              "  }\n",
              "\n",
              "  [theme=dark] .colab-df-quickchart {\n",
              "      --bg-color: #3B4455;\n",
              "      --fill-color: #D2E3FC;\n",
              "      --hover-bg-color: #434B5C;\n",
              "      --hover-fill-color: #FFFFFF;\n",
              "      --disabled-bg-color: #3B4455;\n",
              "      --disabled-fill-color: #666;\n",
              "  }\n",
              "\n",
              "  .colab-df-quickchart {\n",
              "    background-color: var(--bg-color);\n",
              "    border: none;\n",
              "    border-radius: 50%;\n",
              "    cursor: pointer;\n",
              "    display: none;\n",
              "    fill: var(--fill-color);\n",
              "    height: 32px;\n",
              "    padding: 0;\n",
              "    width: 32px;\n",
              "  }\n",
              "\n",
              "  .colab-df-quickchart:hover {\n",
              "    background-color: var(--hover-bg-color);\n",
              "    box-shadow: 0 1px 2px rgba(60, 64, 67, 0.3), 0 1px 3px 1px rgba(60, 64, 67, 0.15);\n",
              "    fill: var(--button-hover-fill-color);\n",
              "  }\n",
              "\n",
              "  .colab-df-quickchart-complete:disabled,\n",
              "  .colab-df-quickchart-complete:disabled:hover {\n",
              "    background-color: var(--disabled-bg-color);\n",
              "    fill: var(--disabled-fill-color);\n",
              "    box-shadow: none;\n",
              "  }\n",
              "\n",
              "  .colab-df-spinner {\n",
              "    border: 2px solid var(--fill-color);\n",
              "    border-color: transparent;\n",
              "    border-bottom-color: var(--fill-color);\n",
              "    animation:\n",
              "      spin 1s steps(1) infinite;\n",
              "  }\n",
              "\n",
              "  @keyframes spin {\n",
              "    0% {\n",
              "      border-color: transparent;\n",
              "      border-bottom-color: var(--fill-color);\n",
              "      border-left-color: var(--fill-color);\n",
              "    }\n",
              "    20% {\n",
              "      border-color: transparent;\n",
              "      border-left-color: var(--fill-color);\n",
              "      border-top-color: var(--fill-color);\n",
              "    }\n",
              "    30% {\n",
              "      border-color: transparent;\n",
              "      border-left-color: var(--fill-color);\n",
              "      border-top-color: var(--fill-color);\n",
              "      border-right-color: var(--fill-color);\n",
              "    }\n",
              "    40% {\n",
              "      border-color: transparent;\n",
              "      border-right-color: var(--fill-color);\n",
              "      border-top-color: var(--fill-color);\n",
              "    }\n",
              "    60% {\n",
              "      border-color: transparent;\n",
              "      border-right-color: var(--fill-color);\n",
              "    }\n",
              "    80% {\n",
              "      border-color: transparent;\n",
              "      border-right-color: var(--fill-color);\n",
              "      border-bottom-color: var(--fill-color);\n",
              "    }\n",
              "    90% {\n",
              "      border-color: transparent;\n",
              "      border-bottom-color: var(--fill-color);\n",
              "    }\n",
              "  }\n",
              "</style>\n",
              "\n",
              "  <script>\n",
              "    async function quickchart(key) {\n",
              "      const quickchartButtonEl =\n",
              "        document.querySelector('#' + key + ' button');\n",
              "      quickchartButtonEl.disabled = true;  // To prevent multiple clicks.\n",
              "      quickchartButtonEl.classList.add('colab-df-spinner');\n",
              "      try {\n",
              "        const charts = await google.colab.kernel.invokeFunction(\n",
              "            'suggestCharts', [key], {});\n",
              "      } catch (error) {\n",
              "        console.error('Error during call to suggestCharts:', error);\n",
              "      }\n",
              "      quickchartButtonEl.classList.remove('colab-df-spinner');\n",
              "      quickchartButtonEl.classList.add('colab-df-quickchart-complete');\n",
              "    }\n",
              "    (() => {\n",
              "      let quickchartButtonEl =\n",
              "        document.querySelector('#df-b79ecda0-2720-4ca6-b53d-58841730a830 button');\n",
              "      quickchartButtonEl.style.display =\n",
              "        google.colab.kernel.accessAllowed ? 'block' : 'none';\n",
              "    })();\n",
              "  </script>\n",
              "</div>\n",
              "    </div>\n",
              "  </div>\n"
            ],
            "application/vnd.google.colaboratory.intrinsic+json": {
              "type": "dataframe",
              "summary": "{\n  \"name\": \"df\",\n  \"rows\": 99996,\n  \"fields\": [\n    {\n      \"column\": \"1.21E+04\",\n      \"properties\": {\n        \"dtype\": \"number\",\n        \"std\": 4837.1145122698035,\n        \"min\": -17200.0,\n        \"max\": 17200.0,\n        \"num_unique_values\": 5351,\n        \"samples\": [\n          80.0,\n          388.0,\n          -4260.0\n        ],\n        \"semantic_type\": \"\",\n        \"description\": \"\"\n      }\n    },\n    {\n      \"column\": \"-8.02E+02\",\n      \"properties\": {\n        \"dtype\": \"number\",\n        \"std\": 154.9480403055806,\n        \"min\": -3770.0,\n        \"max\": 3820.0,\n        \"num_unique_values\": 5904,\n        \"samples\": [\n          704.0,\n          -0.519,\n          71.1\n        ],\n        \"semantic_type\": \"\",\n        \"description\": \"\"\n      }\n    },\n    {\n      \"column\": \"-4.16E+02\",\n      \"properties\": {\n        \"dtype\": \"number\",\n        \"std\": 181.02107575226006,\n        \"min\": -4760.0,\n        \"max\": 4860.0,\n        \"num_unique_values\": 6018,\n        \"samples\": [\n          -47.3,\n          0.0689,\n          -228.0\n        ],\n        \"semantic_type\": \"\",\n        \"description\": \"\"\n      }\n    },\n    {\n      \"column\": \"-4.35E+02\",\n      \"properties\": {\n        \"dtype\": \"number\",\n        \"std\": 231.1597613296215,\n        \"min\": -5060.0,\n        \"max\": 4880.0,\n        \"num_unique_values\": 6330,\n        \"samples\": [\n          -77.6,\n          0.28,\n          -523.0\n        ],\n        \"semantic_type\": \"\",\n        \"description\": \"\"\n      }\n    },\n    {\n      \"column\": \"-3.06E+02\",\n      \"properties\": {\n        \"dtype\": \"number\",\n        \"std\": 273.2487871622195,\n        \"min\": -3260.0,\n        \"max\": 3060.0,\n        \"num_unique_values\": 6336,\n        \"samples\": [\n          -65.1,\n          -14.8,\n          -72.4\n        ],\n        \"semantic_type\": \"\",\n        \"description\": \"\"\n      }\n    },\n    {\n      \"column\": \"-2.43E+02\",\n      \"properties\": {\n        \"dtype\": \"number\",\n        \"std\": 286.380053778048,\n        \"min\": -2410.0,\n        \"max\": 2290.0,\n        \"num_unique_values\": 6158,\n        \"samples\": [\n          -956.0,\n          -585.0,\n          816.0\n        ],\n        \"semantic_type\": \"\",\n        \"description\": \"\"\n      }\n    },\n    {\n      \"column\": \"-1.16E+03\",\n      \"properties\": {\n        \"dtype\": \"number\",\n        \"std\": 295.69492416997565,\n        \"min\": -2590.0,\n        \"max\": 2370.0,\n        \"num_unique_values\": 6026,\n        \"samples\": [\n          -805.0,\n          -1.89,\n          60.2\n        ],\n        \"semantic_type\": \"\",\n        \"description\": \"\"\n      }\n    },\n    {\n      \"column\": \"8.22E+01\",\n      \"properties\": {\n        \"dtype\": \"number\",\n        \"std\": 274.7749850281705,\n        \"min\": -1870.0,\n        \"max\": 1890.0,\n        \"num_unique_values\": 5707,\n        \"samples\": [\n          12.7,\n          -115.0,\n          -18.9\n        ],\n        \"semantic_type\": \"\",\n        \"description\": \"\"\n      }\n    },\n    {\n      \"column\": \"3.29E+02\",\n      \"properties\": {\n        \"dtype\": \"number\",\n        \"std\": 307.9634744065008,\n        \"min\": -1600.0,\n        \"max\": 1610.0,\n        \"num_unique_values\": 5550,\n        \"samples\": [\n          254.0,\n          -8.16,\n          -636.0\n        ],\n        \"semantic_type\": \"\",\n        \"description\": \"\"\n      }\n    },\n    {\n      \"column\": \"5.94E+02\",\n      \"properties\": {\n        \"dtype\": \"number\",\n        \"std\": 480.00419524129836,\n        \"min\": -2560.0,\n        \"max\": 1620.0,\n        \"num_unique_values\": 5404,\n        \"samples\": [\n          63.2,\n          928.0,\n          2.57\n        ],\n        \"semantic_type\": \"\",\n        \"description\": \"\"\n      }\n    },\n    {\n      \"column\": \"1.90E+03\",\n      \"properties\": {\n        \"dtype\": \"number\",\n        \"std\": 806.5030800815817,\n        \"min\": -3370.0,\n        \"max\": 2800.0,\n        \"num_unique_values\": 5495,\n        \"samples\": [\n          -164.0,\n          181.0,\n          -168.0\n        ],\n        \"semantic_type\": \"\",\n        \"description\": \"\"\n      }\n    },\n    {\n      \"column\": \"7.73E+02\",\n      \"properties\": {\n        \"dtype\": \"number\",\n        \"std\": 3697.3258528571855,\n        \"min\": -17900.0,\n        \"max\": 13800.0,\n        \"num_unique_values\": 6217,\n        \"samples\": [\n          -617.0,\n          -68.4,\n          -554.0\n        ],\n        \"semantic_type\": \"\",\n        \"description\": \"\"\n      }\n    },\n    {\n      \"column\": \"1.03E+02\",\n      \"properties\": {\n        \"dtype\": \"number\",\n        \"std\": 821.4239694635231,\n        \"min\": -2210.0,\n        \"max\": 1860.0,\n        \"num_unique_values\": 4626,\n        \"samples\": [\n          -741.0,\n          20.6,\n          -61.4\n        ],\n        \"semantic_type\": \"\",\n        \"description\": \"\"\n      }\n    },\n    {\n      \"column\": \"Target\",\n      \"properties\": {\n        \"dtype\": \"number\",\n        \"std\": 0,\n        \"min\": 0,\n        \"max\": 1,\n        \"num_unique_values\": 2,\n        \"samples\": [\n          1,\n          0\n        ],\n        \"semantic_type\": \"\",\n        \"description\": \"\"\n      }\n    }\n  ]\n}"
            }
          },
          "metadata": {},
          "execution_count": 4
        }
      ],
      "source": [
        "df.fillna(0)"
      ]
    },
    {
      "cell_type": "markdown",
      "metadata": {
        "id": "-pPX8R9ZTnTq"
      },
      "source": [
        "**Applying Deep Learning models LSTM-CNN**"
      ]
    },
    {
      "cell_type": "code",
      "execution_count": null,
      "metadata": {
        "id": "JHLco5UnR0Qo"
      },
      "outputs": [],
      "source": [
        "import numpy as np\n",
        "import pandas as pd\n",
        "from sklearn.model_selection import train_test_split\n",
        "from sklearn.preprocessing import StandardScaler\n",
        "from tensorflow.keras.models import Sequential\n",
        "from tensorflow.keras.layers import Conv1D, LSTM, Dense, MaxPooling1D, Flatten, BatchNormalization, Dropout"
      ]
    },
    {
      "cell_type": "code",
      "execution_count": null,
      "metadata": {
        "id": "6wdgNFXATmSj"
      },
      "outputs": [],
      "source": [
        "# Extract features and target variable\n",
        "X = df.iloc[:, :-1].values  # Assuming the last column is the target variable\n",
        "y = df.iloc[:, -1].values"
      ]
    },
    {
      "cell_type": "code",
      "execution_count": null,
      "metadata": {
        "id": "WsERY5CWVemO"
      },
      "outputs": [],
      "source": [
        "# Standardize the features\n",
        "scaler = StandardScaler()\n",
        "X = scaler.fit_transform(X)"
      ]
    },
    {
      "cell_type": "code",
      "execution_count": null,
      "metadata": {
        "id": "e7KBTBr2VhgM"
      },
      "outputs": [],
      "source": [
        "# Split the dataset into training and testing sets\n",
        "X_train, X_test, y_train, y_test = train_test_split(X, y, test_size=0.2, random_state=42)"
      ]
    },
    {
      "cell_type": "code",
      "execution_count": null,
      "metadata": {
        "id": "YU55CrfjVlJv"
      },
      "outputs": [],
      "source": [
        "# Reshape the data for LSTM-CNN model\n",
        "X_train = X_train.reshape((X_train.shape[0], X_train.shape[1], 1))\n",
        "X_test = X_test.reshape((X_test.shape[0], X_test.shape[1], 1))"
      ]
    },
    {
      "cell_type": "code",
      "execution_count": null,
      "metadata": {
        "id": "ZpEK8PKNVq-g"
      },
      "outputs": [],
      "source": [
        "# Define the more complex LSTM-CNN model\n",
        "model = Sequential()\n",
        "\n",
        "# CNN Layers\n",
        "model.add(Conv1D(filters=64, kernel_size=3, activation='relu', input_shape=(X_train.shape[1], 1)))\n",
        "model.add(BatchNormalization())\n",
        "model.add(MaxPooling1D(pool_size=2))\n",
        "model.add(Dropout(0.25))\n",
        "\n",
        "model.add(Conv1D(filters=128, kernel_size=3, activation='relu'))\n",
        "model.add(BatchNormalization())\n",
        "model.add(MaxPooling1D(pool_size=2))\n",
        "model.add(Dropout(0.25))\n",
        "\n",
        "# LSTM Layer\n",
        "model.add(LSTM(100, return_sequences=True))\n",
        "model.add(LSTM(50))\n",
        "\n",
        "# Dense Layers\n",
        "model.add(Dense(128, activation='relu'))\n",
        "model.add(BatchNormalization())\n",
        "model.add(Dropout(0.5))\n",
        "\n",
        "model.add(Dense(1, activation='sigmoid'))"
      ]
    },
    {
      "cell_type": "code",
      "execution_count": null,
      "metadata": {
        "id": "L4IqnX_kWD1j"
      },
      "outputs": [],
      "source": [
        "# Compile the model\n",
        "model.compile(loss='binary_crossentropy', optimizer='adam', metrics=['accuracy'])"
      ]
    },
    {
      "cell_type": "code",
      "execution_count": null,
      "metadata": {
        "colab": {
          "base_uri": "https://localhost:8080/"
        },
        "id": "AcIW8_gUWg7H",
        "outputId": "3e7a695d-2581-427a-d1f0-8fe09bb14566"
      },
      "outputs": [
        {
          "name": "stdout",
          "output_type": "stream",
          "text": [
            "Epoch 1/20\n",
            "2500/2500 [==============================] - 35s 12ms/step - loss: 0.3961 - accuracy: 0.8205 - val_loss: 0.3121 - val_accuracy: 0.8576\n",
            "Epoch 2/20\n",
            "2500/2500 [==============================] - 29s 11ms/step - loss: 0.3491 - accuracy: 0.8439 - val_loss: 0.2933 - val_accuracy: 0.8620\n",
            "Epoch 3/20\n",
            "2500/2500 [==============================] - 28s 11ms/step - loss: 0.3263 - accuracy: 0.8557 - val_loss: 0.2698 - val_accuracy: 0.8809\n",
            "Epoch 4/20\n",
            "2500/2500 [==============================] - 27s 11ms/step - loss: 0.3154 - accuracy: 0.8623 - val_loss: 0.2552 - val_accuracy: 0.8902\n",
            "Epoch 5/20\n",
            "2500/2500 [==============================] - 28s 11ms/step - loss: 0.3023 - accuracy: 0.8677 - val_loss: 0.2389 - val_accuracy: 0.8965\n",
            "Epoch 6/20\n",
            "2500/2500 [==============================] - 27s 11ms/step - loss: 0.2913 - accuracy: 0.8743 - val_loss: 0.2243 - val_accuracy: 0.9042\n",
            "Epoch 7/20\n",
            "2500/2500 [==============================] - 27s 11ms/step - loss: 0.2824 - accuracy: 0.8792 - val_loss: 0.2298 - val_accuracy: 0.9036\n",
            "Epoch 8/20\n",
            "2500/2500 [==============================] - 28s 11ms/step - loss: 0.2784 - accuracy: 0.8823 - val_loss: 0.2178 - val_accuracy: 0.9071\n",
            "Epoch 9/20\n",
            "2500/2500 [==============================] - 28s 11ms/step - loss: 0.2702 - accuracy: 0.8849 - val_loss: 0.2061 - val_accuracy: 0.9135\n",
            "Epoch 10/20\n",
            "2500/2500 [==============================] - 28s 11ms/step - loss: 0.2652 - accuracy: 0.8879 - val_loss: 0.1992 - val_accuracy: 0.9177\n",
            "Epoch 11/20\n",
            "2500/2500 [==============================] - 28s 11ms/step - loss: 0.2587 - accuracy: 0.8917 - val_loss: 0.1877 - val_accuracy: 0.9202\n",
            "Epoch 12/20\n",
            "2500/2500 [==============================] - 28s 11ms/step - loss: 0.2540 - accuracy: 0.8933 - val_loss: 0.1828 - val_accuracy: 0.9262\n",
            "Epoch 13/20\n",
            "2500/2500 [==============================] - 28s 11ms/step - loss: 0.2491 - accuracy: 0.8963 - val_loss: 0.1826 - val_accuracy: 0.9280\n",
            "Epoch 14/20\n",
            "2500/2500 [==============================] - 30s 12ms/step - loss: 0.2454 - accuracy: 0.8988 - val_loss: 0.1773 - val_accuracy: 0.9294\n",
            "Epoch 15/20\n",
            "2500/2500 [==============================] - 29s 11ms/step - loss: 0.2406 - accuracy: 0.9005 - val_loss: 0.1726 - val_accuracy: 0.9294\n",
            "Epoch 16/20\n",
            "2500/2500 [==============================] - 29s 11ms/step - loss: 0.2419 - accuracy: 0.9005 - val_loss: 0.1668 - val_accuracy: 0.9337\n",
            "Epoch 17/20\n",
            "2500/2500 [==============================] - 29s 11ms/step - loss: 0.2347 - accuracy: 0.9038 - val_loss: 0.1667 - val_accuracy: 0.9319\n",
            "Epoch 18/20\n",
            "2500/2500 [==============================] - 29s 12ms/step - loss: 0.2364 - accuracy: 0.9033 - val_loss: 0.1599 - val_accuracy: 0.9362\n",
            "Epoch 19/20\n",
            "2500/2500 [==============================] - 28s 11ms/step - loss: 0.2336 - accuracy: 0.9048 - val_loss: 0.1584 - val_accuracy: 0.9363\n",
            "Epoch 20/20\n",
            "2500/2500 [==============================] - 29s 11ms/step - loss: 0.2287 - accuracy: 0.9079 - val_loss: 0.1581 - val_accuracy: 0.9370\n"
          ]
        },
        {
          "data": {
            "text/plain": [
              "<keras.src.callbacks.History at 0x7e991031ccd0>"
            ]
          },
          "execution_count": 11,
          "metadata": {},
          "output_type": "execute_result"
        }
      ],
      "source": [
        "# Train the model\n",
        "model.fit(X_train, y_train, epochs=20, batch_size=32, validation_data=(X_test, y_test))"
      ]
    },
    {
      "cell_type": "code",
      "execution_count": null,
      "metadata": {
        "colab": {
          "base_uri": "https://localhost:8080/"
        },
        "id": "cTvBBAPgWkFl",
        "outputId": "68fc3010-2614-418b-c22a-5cfd58c04e58"
      },
      "outputs": [
        {
          "name": "stdout",
          "output_type": "stream",
          "text": [
            "625/625 [==============================] - 2s 3ms/step - loss: 0.1581 - accuracy: 0.9370\n",
            "Test Loss: 0.1581, Test Accuracy: 93.70%\n"
          ]
        }
      ],
      "source": [
        "# Evaluate the model\n",
        "loss, accuracy = model.evaluate(X_test, y_test)\n",
        "print(f'Test Loss: {loss:.4f}, Test Accuracy: {accuracy * 100:.2f}%')"
      ]
    },
    {
      "cell_type": "code",
      "execution_count": null,
      "metadata": {
        "id": "-DHcs3oVpRx9"
      },
      "outputs": [],
      "source": [
        "from sklearn.metrics import classification_report"
      ]
    },
    {
      "cell_type": "code",
      "execution_count": null,
      "metadata": {
        "colab": {
          "base_uri": "https://localhost:8080/"
        },
        "id": "hpnTXZttpJH8",
        "outputId": "9604da61-78b5-496c-f004-2878afd89072"
      },
      "outputs": [
        {
          "name": "stdout",
          "output_type": "stream",
          "text": [
            "625/625 [==============================] - 5s 7ms/step\n",
            "Classification Report:\n",
            "               precision    recall  f1-score   support\n",
            "\n",
            "           0       0.95      0.92      0.94     10171\n",
            "           1       0.92      0.95      0.94      9829\n",
            "\n",
            "    accuracy                           0.94     20000\n",
            "   macro avg       0.94      0.94      0.94     20000\n",
            "weighted avg       0.94      0.94      0.94     20000\n",
            "\n"
          ]
        }
      ],
      "source": [
        "# Evaluate the model\n",
        "y_pred = model.predict(X_test)\n",
        "y_pred_binary = (y_pred > 0.5).astype(int)\n",
        "\n",
        "# Print accuracy, F1 score, precision, and recall\n",
        "print(\"Classification Report:\\n\", classification_report(y_test, y_pred_binary))"
      ]
    },
    {
      "cell_type": "code",
      "execution_count": null,
      "metadata": {
        "colab": {
          "base_uri": "https://localhost:8080/"
        },
        "id": "ZxY_rjHLplgr",
        "outputId": "895fd554-50cb-4ec4-9214-07ba0bd75df6"
      },
      "outputs": [
        {
          "name": "stdout",
          "output_type": "stream",
          "text": [
            "Accuracy: 93.70%\n"
          ]
        }
      ],
      "source": [
        "from sklearn.metrics import accuracy_score\n",
        "\n",
        "accuracy = accuracy_score(y_test, y_pred_binary)\n",
        "print(f'Accuracy: {accuracy * 100:.2f}%')"
      ]
    },
    {
      "cell_type": "code",
      "execution_count": null,
      "metadata": {
        "colab": {
          "base_uri": "https://localhost:8080/"
        },
        "id": "I4hs_dnTpo-5",
        "outputId": "d2346871-11ea-4e63-bcb5-45cd27f99a20"
      },
      "outputs": [
        {
          "name": "stdout",
          "output_type": "stream",
          "text": [
            "F1 Score: 0.9370\n"
          ]
        }
      ],
      "source": [
        "from sklearn.metrics import f1_score\n",
        "f1 = f1_score(y_test, y_pred_binary)\n",
        "print(f'F1 Score: {f1:.4f}')"
      ]
    },
    {
      "cell_type": "code",
      "execution_count": null,
      "metadata": {
        "colab": {
          "base_uri": "https://localhost:8080/"
        },
        "id": "iAQGDkzHpqW1",
        "outputId": "00daf591-bf77-4430-c109-337b7d2e28bb"
      },
      "outputs": [
        {
          "name": "stdout",
          "output_type": "stream",
          "text": [
            "Precision: 0.9211\n"
          ]
        }
      ],
      "source": [
        "from sklearn.metrics import precision_score\n",
        "\n",
        "precision = precision_score(y_test, y_pred_binary)\n",
        "print(f'Precision: {precision:.4f}')"
      ]
    },
    {
      "cell_type": "code",
      "execution_count": null,
      "metadata": {
        "colab": {
          "base_uri": "https://localhost:8080/"
        },
        "id": "L6pvbVlPpvU5",
        "outputId": "4ac1e7ba-13b5-4b61-d4dc-02620f10b2d2"
      },
      "outputs": [
        {
          "name": "stdout",
          "output_type": "stream",
          "text": [
            "Recall: 0.9535\n"
          ]
        }
      ],
      "source": [
        "from sklearn.metrics import recall_score\n",
        "\n",
        "recall = recall_score(y_test, y_pred_binary)\n",
        "print(f'Recall: {recall:.4f}')"
      ]
    },
    {
      "cell_type": "markdown",
      "metadata": {
        "id": "ysOVu45mx7Mk"
      },
      "source": [
        "**Same Code after adding Early-Stopping layer and 50 epochs**"
      ]
    },
    {
      "cell_type": "code",
      "execution_count": null,
      "metadata": {
        "id": "Uba7-zApmcoh"
      },
      "outputs": [],
      "source": [
        "from tensorflow.keras.callbacks import EarlyStopping"
      ]
    },
    {
      "cell_type": "code",
      "execution_count": null,
      "metadata": {
        "id": "XW7pueQomeHq"
      },
      "outputs": [],
      "source": [
        "# Define the more complex LSTM-CNN model\n",
        "model = Sequential()"
      ]
    },
    {
      "cell_type": "code",
      "execution_count": null,
      "metadata": {
        "id": "fHq3H6eqmmea"
      },
      "outputs": [],
      "source": [
        "# CNN Layers\n",
        "model.add(Conv1D(filters=64, kernel_size=3, activation='relu', input_shape=(X_train.shape[1], 1)))\n",
        "model.add(BatchNormalization())\n",
        "model.add(MaxPooling1D(pool_size=2))\n",
        "model.add(Dropout(0.25))\n",
        "\n",
        "model.add(Conv1D(filters=128, kernel_size=3, activation='relu'))\n",
        "model.add(BatchNormalization())\n",
        "model.add(MaxPooling1D(pool_size=2))\n",
        "model.add(Dropout(0.25))\n",
        "\n",
        "# LSTM Layer\n",
        "model.add(LSTM(100, return_sequences=True))\n",
        "model.add(LSTM(50))\n",
        "\n",
        "# Dense Layers\n",
        "model.add(Dense(128, activation='relu'))\n",
        "model.add(BatchNormalization())\n",
        "model.add(Dropout(0.5))\n",
        "\n",
        "model.add(Dense(1, activation='sigmoid'))  # Use 'sigmoid' for binary classification"
      ]
    },
    {
      "cell_type": "code",
      "execution_count": null,
      "metadata": {
        "id": "3Lr6szqLmtw8"
      },
      "outputs": [],
      "source": [
        "# Compile the model\n",
        "model.compile(loss='binary_crossentropy', optimizer='adam', metrics=['accuracy'])"
      ]
    },
    {
      "cell_type": "code",
      "execution_count": null,
      "metadata": {
        "id": "cOhr4AOXmyJH"
      },
      "outputs": [],
      "source": [
        "# Early stopping callback\n",
        "early_stopping = EarlyStopping(monitor='val_loss', patience=5, restore_best_weights=True)"
      ]
    },
    {
      "cell_type": "code",
      "execution_count": null,
      "metadata": {
        "colab": {
          "base_uri": "https://localhost:8080/"
        },
        "id": "_B7DysTlm1ck",
        "outputId": "f8ab4d55-de25-4ec7-a642-f007c9d6eae4"
      },
      "outputs": [
        {
          "name": "stdout",
          "output_type": "stream",
          "text": [
            "Epoch 1/50\n",
            "2500/2500 [==============================] - 34s 14ms/step - loss: 0.3975 - accuracy: 0.8224 - val_loss: 0.3272 - val_accuracy: 0.8523\n",
            "Epoch 2/50\n",
            "2500/2500 [==============================] - 30s 12ms/step - loss: 0.3522 - accuracy: 0.8426 - val_loss: 0.2982 - val_accuracy: 0.8669\n",
            "Epoch 3/50\n",
            "2500/2500 [==============================] - 32s 13ms/step - loss: 0.3311 - accuracy: 0.8531 - val_loss: 0.2736 - val_accuracy: 0.8803\n",
            "Epoch 4/50\n",
            "2500/2500 [==============================] - 32s 13ms/step - loss: 0.3184 - accuracy: 0.8595 - val_loss: 0.2581 - val_accuracy: 0.8853\n",
            "Epoch 5/50\n",
            "2500/2500 [==============================] - 32s 13ms/step - loss: 0.3065 - accuracy: 0.8665 - val_loss: 0.2446 - val_accuracy: 0.8942\n",
            "Epoch 6/50\n",
            "2500/2500 [==============================] - 31s 13ms/step - loss: 0.2955 - accuracy: 0.8731 - val_loss: 0.2305 - val_accuracy: 0.9020\n",
            "Epoch 7/50\n",
            "2500/2500 [==============================] - 32s 13ms/step - loss: 0.2857 - accuracy: 0.8775 - val_loss: 0.2241 - val_accuracy: 0.9046\n",
            "Epoch 8/50\n",
            "2500/2500 [==============================] - 32s 13ms/step - loss: 0.2787 - accuracy: 0.8801 - val_loss: 0.2177 - val_accuracy: 0.9111\n",
            "Epoch 9/50\n",
            "2500/2500 [==============================] - 32s 13ms/step - loss: 0.2707 - accuracy: 0.8854 - val_loss: 0.2030 - val_accuracy: 0.9167\n",
            "Epoch 10/50\n",
            "2500/2500 [==============================] - 32s 13ms/step - loss: 0.2648 - accuracy: 0.8889 - val_loss: 0.1969 - val_accuracy: 0.9174\n",
            "Epoch 11/50\n",
            "2500/2500 [==============================] - 32s 13ms/step - loss: 0.2586 - accuracy: 0.8906 - val_loss: 0.1883 - val_accuracy: 0.9230\n",
            "Epoch 12/50\n",
            "2500/2500 [==============================] - 31s 13ms/step - loss: 0.2546 - accuracy: 0.8934 - val_loss: 0.1804 - val_accuracy: 0.9270\n",
            "Epoch 13/50\n",
            "2500/2500 [==============================] - 32s 13ms/step - loss: 0.2499 - accuracy: 0.8958 - val_loss: 0.1797 - val_accuracy: 0.9257\n",
            "Epoch 14/50\n",
            "2500/2500 [==============================] - 31s 13ms/step - loss: 0.2424 - accuracy: 0.8991 - val_loss: 0.1733 - val_accuracy: 0.9287\n",
            "Epoch 15/50\n",
            "2500/2500 [==============================] - 32s 13ms/step - loss: 0.2436 - accuracy: 0.9002 - val_loss: 0.1623 - val_accuracy: 0.9343\n",
            "Epoch 16/50\n",
            "2500/2500 [==============================] - 33s 13ms/step - loss: 0.2370 - accuracy: 0.9036 - val_loss: 0.1627 - val_accuracy: 0.9356\n",
            "Epoch 17/50\n",
            "2500/2500 [==============================] - 33s 13ms/step - loss: 0.2333 - accuracy: 0.9055 - val_loss: 0.1635 - val_accuracy: 0.9344\n",
            "Epoch 18/50\n",
            "2500/2500 [==============================] - 33s 13ms/step - loss: 0.2313 - accuracy: 0.9060 - val_loss: 0.1563 - val_accuracy: 0.9388\n",
            "Epoch 19/50\n",
            "2500/2500 [==============================] - 36s 14ms/step - loss: 0.2307 - accuracy: 0.9064 - val_loss: 0.1571 - val_accuracy: 0.9402\n",
            "Epoch 20/50\n",
            "2500/2500 [==============================] - 33s 13ms/step - loss: 0.2272 - accuracy: 0.9083 - val_loss: 0.1587 - val_accuracy: 0.9374\n",
            "Epoch 21/50\n",
            "2500/2500 [==============================] - 32s 13ms/step - loss: 0.2220 - accuracy: 0.9104 - val_loss: 0.1485 - val_accuracy: 0.9423\n",
            "Epoch 22/50\n",
            "2500/2500 [==============================] - 32s 13ms/step - loss: 0.2200 - accuracy: 0.9121 - val_loss: 0.1445 - val_accuracy: 0.9438\n",
            "Epoch 23/50\n",
            "2500/2500 [==============================] - 32s 13ms/step - loss: 0.2190 - accuracy: 0.9119 - val_loss: 0.1369 - val_accuracy: 0.9484\n",
            "Epoch 24/50\n",
            "2500/2500 [==============================] - 32s 13ms/step - loss: 0.2177 - accuracy: 0.9120 - val_loss: 0.1366 - val_accuracy: 0.9459\n",
            "Epoch 25/50\n",
            "2500/2500 [==============================] - 32s 13ms/step - loss: 0.2144 - accuracy: 0.9129 - val_loss: 0.1436 - val_accuracy: 0.9482\n",
            "Epoch 26/50\n",
            "2500/2500 [==============================] - 33s 13ms/step - loss: 0.2102 - accuracy: 0.9162 - val_loss: 0.1396 - val_accuracy: 0.9459\n",
            "Epoch 27/50\n",
            "2500/2500 [==============================] - 33s 13ms/step - loss: 0.2108 - accuracy: 0.9159 - val_loss: 0.1383 - val_accuracy: 0.9488\n",
            "Epoch 28/50\n",
            "2500/2500 [==============================] - 33s 13ms/step - loss: 0.2105 - accuracy: 0.9161 - val_loss: 0.1361 - val_accuracy: 0.9485\n",
            "Epoch 29/50\n",
            "2500/2500 [==============================] - 33s 13ms/step - loss: 0.2097 - accuracy: 0.9171 - val_loss: 0.1255 - val_accuracy: 0.9538\n",
            "Epoch 30/50\n",
            "2500/2500 [==============================] - 34s 14ms/step - loss: 0.2078 - accuracy: 0.9179 - val_loss: 0.1276 - val_accuracy: 0.9528\n",
            "Epoch 31/50\n",
            "2500/2500 [==============================] - 33s 13ms/step - loss: 0.2040 - accuracy: 0.9182 - val_loss: 0.1275 - val_accuracy: 0.9523\n",
            "Epoch 32/50\n",
            "2500/2500 [==============================] - 31s 12ms/step - loss: 0.2002 - accuracy: 0.9206 - val_loss: 0.1300 - val_accuracy: 0.9503\n",
            "Epoch 33/50\n",
            "2500/2500 [==============================] - 31s 12ms/step - loss: 0.1999 - accuracy: 0.9206 - val_loss: 0.1187 - val_accuracy: 0.9548\n",
            "Epoch 34/50\n",
            "2500/2500 [==============================] - 31s 12ms/step - loss: 0.2004 - accuracy: 0.9206 - val_loss: 0.1191 - val_accuracy: 0.9556\n",
            "Epoch 35/50\n",
            "2500/2500 [==============================] - 32s 13ms/step - loss: 0.1980 - accuracy: 0.9215 - val_loss: 0.1239 - val_accuracy: 0.9528\n",
            "Epoch 36/50\n",
            "2500/2500 [==============================] - 35s 14ms/step - loss: 0.1975 - accuracy: 0.9221 - val_loss: 0.1159 - val_accuracy: 0.9552\n",
            "Epoch 37/50\n",
            "2500/2500 [==============================] - 32s 13ms/step - loss: 0.1952 - accuracy: 0.9226 - val_loss: 0.1169 - val_accuracy: 0.9564\n",
            "Epoch 38/50\n",
            "2500/2500 [==============================] - 31s 13ms/step - loss: 0.1938 - accuracy: 0.9242 - val_loss: 0.1171 - val_accuracy: 0.9556\n",
            "Epoch 39/50\n",
            "2500/2500 [==============================] - 31s 12ms/step - loss: 0.1912 - accuracy: 0.9246 - val_loss: 0.1119 - val_accuracy: 0.9582\n",
            "Epoch 40/50\n",
            "2500/2500 [==============================] - 32s 13ms/step - loss: 0.1926 - accuracy: 0.9242 - val_loss: 0.1092 - val_accuracy: 0.9585\n",
            "Epoch 41/50\n",
            "2500/2500 [==============================] - 34s 14ms/step - loss: 0.1860 - accuracy: 0.9271 - val_loss: 0.1062 - val_accuracy: 0.9587\n",
            "Epoch 42/50\n",
            "2500/2500 [==============================] - 32s 13ms/step - loss: 0.1904 - accuracy: 0.9246 - val_loss: 0.1117 - val_accuracy: 0.9588\n",
            "Epoch 43/50\n",
            "2500/2500 [==============================] - 31s 13ms/step - loss: 0.1908 - accuracy: 0.9251 - val_loss: 0.1076 - val_accuracy: 0.9620\n",
            "Epoch 44/50\n",
            "2500/2500 [==============================] - 30s 12ms/step - loss: 0.1865 - accuracy: 0.9268 - val_loss: 0.1070 - val_accuracy: 0.9603\n",
            "Epoch 45/50\n",
            "2500/2500 [==============================] - 28s 11ms/step - loss: 0.1850 - accuracy: 0.9280 - val_loss: 0.1063 - val_accuracy: 0.9608\n",
            "Epoch 46/50\n",
            "2500/2500 [==============================] - 27s 11ms/step - loss: 0.1855 - accuracy: 0.9283 - val_loss: 0.1018 - val_accuracy: 0.9609\n",
            "Epoch 47/50\n",
            "2500/2500 [==============================] - 28s 11ms/step - loss: 0.1828 - accuracy: 0.9290 - val_loss: 0.1015 - val_accuracy: 0.9627\n",
            "Epoch 48/50\n",
            "2500/2500 [==============================] - 28s 11ms/step - loss: 0.1833 - accuracy: 0.9284 - val_loss: 0.1057 - val_accuracy: 0.9619\n",
            "Epoch 49/50\n",
            "2500/2500 [==============================] - 27s 11ms/step - loss: 0.1822 - accuracy: 0.9285 - val_loss: 0.1011 - val_accuracy: 0.9642\n",
            "Epoch 50/50\n",
            "2500/2500 [==============================] - 27s 11ms/step - loss: 0.1790 - accuracy: 0.9294 - val_loss: 0.1028 - val_accuracy: 0.9623\n"
          ]
        },
        {
          "data": {
            "text/plain": [
              "<keras.src.callbacks.History at 0x782a0957b100>"
            ]
          },
          "execution_count": 32,
          "metadata": {},
          "output_type": "execute_result"
        }
      ],
      "source": [
        "# Train the model with early stopping\n",
        "model.fit(X_train, y_train, epochs=50, batch_size=32, validation_data=(X_test, y_test), callbacks=[early_stopping])"
      ]
    },
    {
      "cell_type": "code",
      "execution_count": null,
      "metadata": {
        "id": "VgNQkzVXm8v8"
      },
      "outputs": [],
      "source": [
        "# Evaluate the model\n",
        "loss, accuracy = model.evaluate(X_test, y_test)\n",
        "print(f'Test Loss: {loss:.4f}, Test Accuracy: {accuracy * 100:.2f}%')"
      ]
    },
    {
      "cell_type": "markdown",
      "metadata": {
        "id": "LneQPnQFXngX"
      },
      "source": [
        "# **CNN**"
      ]
    },
    {
      "cell_type": "code",
      "execution_count": null,
      "metadata": {
        "id": "Bpuhj3AMXp05"
      },
      "outputs": [],
      "source": [
        "import numpy as np\n",
        "import pandas as pd\n",
        "from sklearn.model_selection import train_test_split\n",
        "from sklearn.preprocessing import StandardScaler\n",
        "from tensorflow.keras.models import Sequential\n",
        "from tensorflow.keras.layers import Dense, Conv1D, Flatten"
      ]
    },
    {
      "cell_type": "code",
      "execution_count": null,
      "metadata": {
        "id": "vUrFviH0XtHh"
      },
      "outputs": [],
      "source": [
        "# Assuming your dataset is stored in a pandas DataFrame called 'df'\n",
        "X = df.iloc[:, :-1].values  # Features\n",
        "y = df.iloc[:, -1].values"
      ]
    },
    {
      "cell_type": "code",
      "execution_count": null,
      "metadata": {
        "id": "lFknT7B9YLUC"
      },
      "outputs": [],
      "source": [
        "# Split the dataset into training and testing sets\n",
        "X_train, X_test, y_train, y_test = train_test_split(X, y, test_size=0.2, random_state=42)"
      ]
    },
    {
      "cell_type": "code",
      "execution_count": null,
      "metadata": {
        "id": "NOLyYlAWYPTo"
      },
      "outputs": [],
      "source": [
        "# Standardize the features\n",
        "scaler = StandardScaler()\n",
        "X_train = scaler.fit_transform(X_train)\n",
        "X_test = scaler.transform(X_test)"
      ]
    },
    {
      "cell_type": "code",
      "execution_count": null,
      "metadata": {
        "id": "9WDmg0xVYTNC"
      },
      "outputs": [],
      "source": [
        "# Reshape the data for the CNN (assuming 14 features)\n",
        "X_train = X_train.reshape(X_train.shape[0], X_train.shape[1], 1)\n",
        "X_test = X_test.reshape(X_test.shape[0], X_test.shape[1], 1)"
      ]
    },
    {
      "cell_type": "code",
      "execution_count": null,
      "metadata": {
        "id": "yodhlOGeYWK-"
      },
      "outputs": [],
      "source": [
        "# Define the CNN model\n",
        "model = Sequential()\n",
        "model.add(Conv1D(filters=32, kernel_size=3, activation='relu', input_shape=(X_train.shape[1], 1)))\n",
        "model.add(Flatten())\n",
        "model.add(Dense(1, activation='sigmoid'))"
      ]
    },
    {
      "cell_type": "code",
      "execution_count": null,
      "metadata": {
        "id": "eN3iI_z8Yiox"
      },
      "outputs": [],
      "source": [
        "# Compile the model\n",
        "model.compile(optimizer='adam', loss='binary_crossentropy', metrics=['accuracy'])"
      ]
    },
    {
      "cell_type": "code",
      "execution_count": null,
      "metadata": {
        "colab": {
          "base_uri": "https://localhost:8080/"
        },
        "id": "svkYCmrHYmLz",
        "outputId": "0256de2c-fb1f-44df-af1b-6c805dec1848"
      },
      "outputs": [
        {
          "name": "stdout",
          "output_type": "stream",
          "text": [
            "Epoch 1/10\n",
            "2500/2500 [==============================] - 7s 3ms/step - loss: 0.1504 - accuracy: 0.9597 - val_loss: 0.0518 - val_accuracy: 0.9857\n",
            "Epoch 2/10\n",
            "2500/2500 [==============================] - 8s 3ms/step - loss: 0.0366 - accuracy: 0.9884 - val_loss: 0.0288 - val_accuracy: 0.9897\n",
            "Epoch 3/10\n",
            "2500/2500 [==============================] - 7s 3ms/step - loss: 0.0239 - accuracy: 0.9922 - val_loss: 0.0207 - val_accuracy: 0.9925\n",
            "Epoch 4/10\n",
            "2500/2500 [==============================] - 9s 4ms/step - loss: 0.0180 - accuracy: 0.9938 - val_loss: 0.0154 - val_accuracy: 0.9947\n",
            "Epoch 5/10\n",
            "2500/2500 [==============================] - 6s 2ms/step - loss: 0.0135 - accuracy: 0.9956 - val_loss: 0.0121 - val_accuracy: 0.9962\n",
            "Epoch 6/10\n",
            "2500/2500 [==============================] - 7s 3ms/step - loss: 0.0105 - accuracy: 0.9967 - val_loss: 0.0091 - val_accuracy: 0.9979\n",
            "Epoch 7/10\n",
            "2500/2500 [==============================] - 7s 3ms/step - loss: 0.0082 - accuracy: 0.9979 - val_loss: 0.0069 - val_accuracy: 0.9985\n",
            "Epoch 8/10\n",
            "2500/2500 [==============================] - 7s 3ms/step - loss: 0.0064 - accuracy: 0.9985 - val_loss: 0.0057 - val_accuracy: 0.9991\n",
            "Epoch 9/10\n",
            "2500/2500 [==============================] - 6s 2ms/step - loss: 0.0052 - accuracy: 0.9990 - val_loss: 0.0043 - val_accuracy: 0.9995\n",
            "Epoch 10/10\n",
            "2500/2500 [==============================] - 6s 3ms/step - loss: 0.0042 - accuracy: 0.9993 - val_loss: 0.0045 - val_accuracy: 0.9989\n"
          ]
        },
        {
          "data": {
            "text/plain": [
              "<keras.src.callbacks.History at 0x7907e88993c0>"
            ]
          },
          "execution_count": 16,
          "metadata": {},
          "output_type": "execute_result"
        }
      ],
      "source": [
        "# Train the model\n",
        "model.fit(X_train, y_train, epochs=10, batch_size=32, validation_data=(X_test, y_test))"
      ]
    },
    {
      "cell_type": "code",
      "execution_count": null,
      "metadata": {
        "colab": {
          "base_uri": "https://localhost:8080/"
        },
        "id": "SZ6CjoVUZSGc",
        "outputId": "8a735072-fb33-48ee-82b6-5c991324c09d"
      },
      "outputs": [
        {
          "name": "stdout",
          "output_type": "stream",
          "text": [
            "625/625 [==============================] - 4s 6ms/step\n",
            "              precision    recall  f1-score   support\n",
            "\n",
            "           0       1.00      1.00      1.00     10171\n",
            "           1       1.00      1.00      1.00      9829\n",
            "\n",
            "    accuracy                           1.00     20000\n",
            "   macro avg       1.00      1.00      1.00     20000\n",
            "weighted avg       1.00      1.00      1.00     20000\n",
            "\n"
          ]
        }
      ],
      "source": [
        "from sklearn.metrics import classification_report\n",
        "\n",
        "# Make predictions on the test set\n",
        "y_pred_prob = model.predict(X_test)\n",
        "y_pred = (y_pred_prob > 0.5).astype(int)\n",
        "\n",
        "# Print classification report\n",
        "print(classification_report(y_test, y_pred))"
      ]
    },
    {
      "cell_type": "markdown",
      "metadata": {
        "id": "9eiofz-8advH"
      },
      "source": [
        "# **RNN**"
      ]
    },
    {
      "cell_type": "code",
      "execution_count": null,
      "metadata": {
        "id": "7XJzH25OaKJE"
      },
      "outputs": [],
      "source": [
        "import numpy as np\n",
        "import pandas as pd\n",
        "from sklearn.model_selection import train_test_split\n",
        "from sklearn.preprocessing import StandardScaler\n",
        "from tensorflow.keras.models import Sequential\n",
        "from tensorflow.keras.layers import SimpleRNN, Dense"
      ]
    },
    {
      "cell_type": "code",
      "execution_count": null,
      "metadata": {
        "id": "G-TbDVGsameY"
      },
      "outputs": [],
      "source": [
        "# Assuming your dataset is stored in a pandas DataFrame called 'df'\n",
        "X = df.iloc[:, :-1].values  # Features\n",
        "y = df.iloc[:, -1].values   # Target variable"
      ]
    },
    {
      "cell_type": "code",
      "execution_count": null,
      "metadata": {
        "id": "aCeRIi6Dbk48"
      },
      "outputs": [],
      "source": [
        "# Split the dataset into training and testing sets\n",
        "X_train, X_test, y_train, y_test = train_test_split(X, y, test_size=0.2, random_state=42)"
      ]
    },
    {
      "cell_type": "code",
      "execution_count": null,
      "metadata": {
        "id": "X7ksLmitapAl"
      },
      "outputs": [],
      "source": [
        "# Standardize the features\n",
        "scaler = StandardScaler()\n",
        "X_train = scaler.fit_transform(X_train)\n",
        "X_test = scaler.transform(X_test)"
      ]
    },
    {
      "cell_type": "code",
      "execution_count": null,
      "metadata": {
        "id": "ARPqmfWobgGP"
      },
      "outputs": [],
      "source": [
        "# Reshape the data for the RNN (assuming 14 features)\n",
        "X_train = X_train.reshape(X_train.shape[0], 1, X_train.shape[1])\n",
        "X_test = X_test.reshape(X_test.shape[0], 1, X_test.shape[1])"
      ]
    },
    {
      "cell_type": "code",
      "execution_count": null,
      "metadata": {
        "id": "0uWaCigMbr6M"
      },
      "outputs": [],
      "source": [
        "# Define the RNN model\n",
        "rnn_model = Sequential()\n",
        "rnn_model.add(SimpleRNN(32, input_shape=(X_train.shape[1], X_train.shape[2])))\n",
        "rnn_model.add(Dense(1, activation='sigmoid'))"
      ]
    },
    {
      "cell_type": "code",
      "execution_count": null,
      "metadata": {
        "id": "59mUH-BEbuYj"
      },
      "outputs": [],
      "source": [
        "# Compile the model\n",
        "rnn_model.compile(optimizer='adam', loss='binary_crossentropy', metrics=['accuracy'])"
      ]
    },
    {
      "cell_type": "code",
      "execution_count": null,
      "metadata": {
        "colab": {
          "base_uri": "https://localhost:8080/"
        },
        "id": "Py3xFDxsbxs9",
        "outputId": "2876004d-bd8d-46a4-d640-2c351b5b6108"
      },
      "outputs": [
        {
          "output_type": "stream",
          "name": "stdout",
          "text": [
            "Epoch 1/10\n",
            "2500/2500 [==============================] - 9s 3ms/step - loss: 0.3611 - accuracy: 0.8702 - val_loss: 0.1076 - val_accuracy: 0.9739\n",
            "Epoch 2/10\n",
            "2500/2500 [==============================] - 7s 3ms/step - loss: 0.0722 - accuracy: 0.9808 - val_loss: 0.0516 - val_accuracy: 0.9855\n",
            "Epoch 3/10\n",
            "2500/2500 [==============================] - 8s 3ms/step - loss: 0.0406 - accuracy: 0.9886 - val_loss: 0.0335 - val_accuracy: 0.9906\n",
            "Epoch 4/10\n",
            "2500/2500 [==============================] - 7s 3ms/step - loss: 0.0273 - accuracy: 0.9926 - val_loss: 0.0241 - val_accuracy: 0.9933\n",
            "Epoch 5/10\n",
            "2500/2500 [==============================] - 7s 3ms/step - loss: 0.0198 - accuracy: 0.9946 - val_loss: 0.0179 - val_accuracy: 0.9954\n",
            "Epoch 6/10\n",
            "2500/2500 [==============================] - 7s 3ms/step - loss: 0.0149 - accuracy: 0.9965 - val_loss: 0.0143 - val_accuracy: 0.9963\n",
            "Epoch 7/10\n",
            "2500/2500 [==============================] - 8s 3ms/step - loss: 0.0115 - accuracy: 0.9976 - val_loss: 0.0108 - val_accuracy: 0.9980\n",
            "Epoch 8/10\n",
            "2500/2500 [==============================] - 8s 3ms/step - loss: 0.0090 - accuracy: 0.9984 - val_loss: 0.0086 - val_accuracy: 0.9984\n",
            "Epoch 9/10\n",
            "2500/2500 [==============================] - 7s 3ms/step - loss: 0.0071 - accuracy: 0.9990 - val_loss: 0.0068 - val_accuracy: 0.9992\n",
            "Epoch 10/10\n",
            "2500/2500 [==============================] - 9s 4ms/step - loss: 0.0057 - accuracy: 0.9992 - val_loss: 0.0055 - val_accuracy: 0.9995\n"
          ]
        },
        {
          "output_type": "execute_result",
          "data": {
            "text/plain": [
              "<keras.src.callbacks.History at 0x7cab7c4c7fd0>"
            ]
          },
          "metadata": {},
          "execution_count": 12
        }
      ],
      "source": [
        "# Train the model\n",
        "rnn_model.fit(X_train, y_train, epochs=10, batch_size=32, validation_data=(X_test, y_test))"
      ]
    },
    {
      "cell_type": "code",
      "execution_count": null,
      "metadata": {
        "id": "S24NiJ34b3lC",
        "colab": {
          "base_uri": "https://localhost:8080/"
        },
        "outputId": "593c9cc0-e426-4e7f-fd18-4cfe27838cb3"
      },
      "outputs": [
        {
          "output_type": "stream",
          "name": "stdout",
          "text": [
            "625/625 [==============================] - 2s 3ms/step\n",
            "              precision    recall  f1-score   support\n",
            "\n",
            "           0       1.00      1.00      1.00     10171\n",
            "           1       1.00      1.00      1.00      9829\n",
            "\n",
            "    accuracy                           1.00     20000\n",
            "   macro avg       1.00      1.00      1.00     20000\n",
            "weighted avg       1.00      1.00      1.00     20000\n",
            "\n"
          ]
        }
      ],
      "source": [
        "from sklearn.metrics import classification_report\n",
        "\n",
        "# Make predictions on the test set\n",
        "y_pred_prob = rnn_model.predict(X_test)\n",
        "y_pred = (y_pred_prob > 0.5).astype(int)\n",
        "\n",
        "# Print classification report\n",
        "print(classification_report(y_test, y_pred))"
      ]
    }
  ],
  "metadata": {
    "colab": {
      "provenance": []
    },
    "kernelspec": {
      "display_name": "Python 3",
      "name": "python3"
    },
    "language_info": {
      "name": "python"
    }
  },
  "nbformat": 4,
  "nbformat_minor": 0
}