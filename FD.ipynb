{
  "nbformat": 4,
  "nbformat_minor": 0,
  "metadata": {
    "colab": {
      "provenance": []
    },
    "kernelspec": {
      "name": "python3",
      "display_name": "Python 3"
    },
    "language_info": {
      "name": "python"
    }
  },
  "cells": [
    {
      "cell_type": "code",
      "execution_count": null,
      "metadata": {
        "id": "vRTXkebd8j9E"
      },
      "outputs": [],
      "source": [
        "import pandas as pd\n",
        "import numpy as np\n",
        "import matplotlib.pyplot as plt\n",
        "import seaborn as sns"
      ]
    },
    {
      "cell_type": "code",
      "source": [
        "df = pd.read_csv('/content/drive/MyDrive/Final Year Project/Sub1_Sub3_FD.csv')\n",
        "df.head()"
      ],
      "metadata": {
        "colab": {
          "base_uri": "https://localhost:8080/",
          "height": 206
        },
        "id": "3D1O6Z499HWt",
        "outputId": "993468bd-a3a0-4f95-d082-d6b6f4de2ed0"
      },
      "execution_count": null,
      "outputs": [
        {
          "output_type": "execute_result",
          "data": {
            "text/plain": [
              "   -4.32E+05  -2.47E+04  1.56E+05  9.75E+04  7.40E+04  9.75E+04.1  1.56E+05.1  \\\n",
              "0  -759000.0   -48600.0  263000.0  159000.0  123000.0    159000.0    263000.0   \n",
              "1  -812000.0   -62500.0  258000.0  146000.0  118000.0    146000.0    258000.0   \n",
              "2  -721000.0   -63500.0  213000.0  114000.0   95200.0    114000.0    213000.0   \n",
              "3  -683000.0   -53200.0  218000.0  125000.0   99700.0    125000.0    218000.0   \n",
              "4  -689000.0   -40700.0  247000.0  154000.0  117000.0    154000.0    247000.0   \n",
              "\n",
              "   -2.47E+04.1  Target  \n",
              "0     -48600.0       1  \n",
              "1     -62500.0       1  \n",
              "2     -63500.0       1  \n",
              "3     -53200.0       1  \n",
              "4     -40700.0       1  "
            ],
            "text/html": [
              "\n",
              "  <div id=\"df-014fcaaa-0850-4225-9c96-a9da7eeee3c6\" class=\"colab-df-container\">\n",
              "    <div>\n",
              "<style scoped>\n",
              "    .dataframe tbody tr th:only-of-type {\n",
              "        vertical-align: middle;\n",
              "    }\n",
              "\n",
              "    .dataframe tbody tr th {\n",
              "        vertical-align: top;\n",
              "    }\n",
              "\n",
              "    .dataframe thead th {\n",
              "        text-align: right;\n",
              "    }\n",
              "</style>\n",
              "<table border=\"1\" class=\"dataframe\">\n",
              "  <thead>\n",
              "    <tr style=\"text-align: right;\">\n",
              "      <th></th>\n",
              "      <th>-4.32E+05</th>\n",
              "      <th>-2.47E+04</th>\n",
              "      <th>1.56E+05</th>\n",
              "      <th>9.75E+04</th>\n",
              "      <th>7.40E+04</th>\n",
              "      <th>9.75E+04.1</th>\n",
              "      <th>1.56E+05.1</th>\n",
              "      <th>-2.47E+04.1</th>\n",
              "      <th>Target</th>\n",
              "    </tr>\n",
              "  </thead>\n",
              "  <tbody>\n",
              "    <tr>\n",
              "      <th>0</th>\n",
              "      <td>-759000.0</td>\n",
              "      <td>-48600.0</td>\n",
              "      <td>263000.0</td>\n",
              "      <td>159000.0</td>\n",
              "      <td>123000.0</td>\n",
              "      <td>159000.0</td>\n",
              "      <td>263000.0</td>\n",
              "      <td>-48600.0</td>\n",
              "      <td>1</td>\n",
              "    </tr>\n",
              "    <tr>\n",
              "      <th>1</th>\n",
              "      <td>-812000.0</td>\n",
              "      <td>-62500.0</td>\n",
              "      <td>258000.0</td>\n",
              "      <td>146000.0</td>\n",
              "      <td>118000.0</td>\n",
              "      <td>146000.0</td>\n",
              "      <td>258000.0</td>\n",
              "      <td>-62500.0</td>\n",
              "      <td>1</td>\n",
              "    </tr>\n",
              "    <tr>\n",
              "      <th>2</th>\n",
              "      <td>-721000.0</td>\n",
              "      <td>-63500.0</td>\n",
              "      <td>213000.0</td>\n",
              "      <td>114000.0</td>\n",
              "      <td>95200.0</td>\n",
              "      <td>114000.0</td>\n",
              "      <td>213000.0</td>\n",
              "      <td>-63500.0</td>\n",
              "      <td>1</td>\n",
              "    </tr>\n",
              "    <tr>\n",
              "      <th>3</th>\n",
              "      <td>-683000.0</td>\n",
              "      <td>-53200.0</td>\n",
              "      <td>218000.0</td>\n",
              "      <td>125000.0</td>\n",
              "      <td>99700.0</td>\n",
              "      <td>125000.0</td>\n",
              "      <td>218000.0</td>\n",
              "      <td>-53200.0</td>\n",
              "      <td>1</td>\n",
              "    </tr>\n",
              "    <tr>\n",
              "      <th>4</th>\n",
              "      <td>-689000.0</td>\n",
              "      <td>-40700.0</td>\n",
              "      <td>247000.0</td>\n",
              "      <td>154000.0</td>\n",
              "      <td>117000.0</td>\n",
              "      <td>154000.0</td>\n",
              "      <td>247000.0</td>\n",
              "      <td>-40700.0</td>\n",
              "      <td>1</td>\n",
              "    </tr>\n",
              "  </tbody>\n",
              "</table>\n",
              "</div>\n",
              "    <div class=\"colab-df-buttons\">\n",
              "\n",
              "  <div class=\"colab-df-container\">\n",
              "    <button class=\"colab-df-convert\" onclick=\"convertToInteractive('df-014fcaaa-0850-4225-9c96-a9da7eeee3c6')\"\n",
              "            title=\"Convert this dataframe to an interactive table.\"\n",
              "            style=\"display:none;\">\n",
              "\n",
              "  <svg xmlns=\"http://www.w3.org/2000/svg\" height=\"24px\" viewBox=\"0 -960 960 960\">\n",
              "    <path d=\"M120-120v-720h720v720H120Zm60-500h600v-160H180v160Zm220 220h160v-160H400v160Zm0 220h160v-160H400v160ZM180-400h160v-160H180v160Zm440 0h160v-160H620v160ZM180-180h160v-160H180v160Zm440 0h160v-160H620v160Z\"/>\n",
              "  </svg>\n",
              "    </button>\n",
              "\n",
              "  <style>\n",
              "    .colab-df-container {\n",
              "      display:flex;\n",
              "      gap: 12px;\n",
              "    }\n",
              "\n",
              "    .colab-df-convert {\n",
              "      background-color: #E8F0FE;\n",
              "      border: none;\n",
              "      border-radius: 50%;\n",
              "      cursor: pointer;\n",
              "      display: none;\n",
              "      fill: #1967D2;\n",
              "      height: 32px;\n",
              "      padding: 0 0 0 0;\n",
              "      width: 32px;\n",
              "    }\n",
              "\n",
              "    .colab-df-convert:hover {\n",
              "      background-color: #E2EBFA;\n",
              "      box-shadow: 0px 1px 2px rgba(60, 64, 67, 0.3), 0px 1px 3px 1px rgba(60, 64, 67, 0.15);\n",
              "      fill: #174EA6;\n",
              "    }\n",
              "\n",
              "    .colab-df-buttons div {\n",
              "      margin-bottom: 4px;\n",
              "    }\n",
              "\n",
              "    [theme=dark] .colab-df-convert {\n",
              "      background-color: #3B4455;\n",
              "      fill: #D2E3FC;\n",
              "    }\n",
              "\n",
              "    [theme=dark] .colab-df-convert:hover {\n",
              "      background-color: #434B5C;\n",
              "      box-shadow: 0px 1px 3px 1px rgba(0, 0, 0, 0.15);\n",
              "      filter: drop-shadow(0px 1px 2px rgba(0, 0, 0, 0.3));\n",
              "      fill: #FFFFFF;\n",
              "    }\n",
              "  </style>\n",
              "\n",
              "    <script>\n",
              "      const buttonEl =\n",
              "        document.querySelector('#df-014fcaaa-0850-4225-9c96-a9da7eeee3c6 button.colab-df-convert');\n",
              "      buttonEl.style.display =\n",
              "        google.colab.kernel.accessAllowed ? 'block' : 'none';\n",
              "\n",
              "      async function convertToInteractive(key) {\n",
              "        const element = document.querySelector('#df-014fcaaa-0850-4225-9c96-a9da7eeee3c6');\n",
              "        const dataTable =\n",
              "          await google.colab.kernel.invokeFunction('convertToInteractive',\n",
              "                                                    [key], {});\n",
              "        if (!dataTable) return;\n",
              "\n",
              "        const docLinkHtml = 'Like what you see? Visit the ' +\n",
              "          '<a target=\"_blank\" href=https://colab.research.google.com/notebooks/data_table.ipynb>data table notebook</a>'\n",
              "          + ' to learn more about interactive tables.';\n",
              "        element.innerHTML = '';\n",
              "        dataTable['output_type'] = 'display_data';\n",
              "        await google.colab.output.renderOutput(dataTable, element);\n",
              "        const docLink = document.createElement('div');\n",
              "        docLink.innerHTML = docLinkHtml;\n",
              "        element.appendChild(docLink);\n",
              "      }\n",
              "    </script>\n",
              "  </div>\n",
              "\n",
              "\n",
              "<div id=\"df-8f37ca1d-e39d-48d9-a16b-e02ae539b40d\">\n",
              "  <button class=\"colab-df-quickchart\" onclick=\"quickchart('df-8f37ca1d-e39d-48d9-a16b-e02ae539b40d')\"\n",
              "            title=\"Suggest charts\"\n",
              "            style=\"display:none;\">\n",
              "\n",
              "<svg xmlns=\"http://www.w3.org/2000/svg\" height=\"24px\"viewBox=\"0 0 24 24\"\n",
              "     width=\"24px\">\n",
              "    <g>\n",
              "        <path d=\"M19 3H5c-1.1 0-2 .9-2 2v14c0 1.1.9 2 2 2h14c1.1 0 2-.9 2-2V5c0-1.1-.9-2-2-2zM9 17H7v-7h2v7zm4 0h-2V7h2v10zm4 0h-2v-4h2v4z\"/>\n",
              "    </g>\n",
              "</svg>\n",
              "  </button>\n",
              "\n",
              "<style>\n",
              "  .colab-df-quickchart {\n",
              "      --bg-color: #E8F0FE;\n",
              "      --fill-color: #1967D2;\n",
              "      --hover-bg-color: #E2EBFA;\n",
              "      --hover-fill-color: #174EA6;\n",
              "      --disabled-fill-color: #AAA;\n",
              "      --disabled-bg-color: #DDD;\n",
              "  }\n",
              "\n",
              "  [theme=dark] .colab-df-quickchart {\n",
              "      --bg-color: #3B4455;\n",
              "      --fill-color: #D2E3FC;\n",
              "      --hover-bg-color: #434B5C;\n",
              "      --hover-fill-color: #FFFFFF;\n",
              "      --disabled-bg-color: #3B4455;\n",
              "      --disabled-fill-color: #666;\n",
              "  }\n",
              "\n",
              "  .colab-df-quickchart {\n",
              "    background-color: var(--bg-color);\n",
              "    border: none;\n",
              "    border-radius: 50%;\n",
              "    cursor: pointer;\n",
              "    display: none;\n",
              "    fill: var(--fill-color);\n",
              "    height: 32px;\n",
              "    padding: 0;\n",
              "    width: 32px;\n",
              "  }\n",
              "\n",
              "  .colab-df-quickchart:hover {\n",
              "    background-color: var(--hover-bg-color);\n",
              "    box-shadow: 0 1px 2px rgba(60, 64, 67, 0.3), 0 1px 3px 1px rgba(60, 64, 67, 0.15);\n",
              "    fill: var(--button-hover-fill-color);\n",
              "  }\n",
              "\n",
              "  .colab-df-quickchart-complete:disabled,\n",
              "  .colab-df-quickchart-complete:disabled:hover {\n",
              "    background-color: var(--disabled-bg-color);\n",
              "    fill: var(--disabled-fill-color);\n",
              "    box-shadow: none;\n",
              "  }\n",
              "\n",
              "  .colab-df-spinner {\n",
              "    border: 2px solid var(--fill-color);\n",
              "    border-color: transparent;\n",
              "    border-bottom-color: var(--fill-color);\n",
              "    animation:\n",
              "      spin 1s steps(1) infinite;\n",
              "  }\n",
              "\n",
              "  @keyframes spin {\n",
              "    0% {\n",
              "      border-color: transparent;\n",
              "      border-bottom-color: var(--fill-color);\n",
              "      border-left-color: var(--fill-color);\n",
              "    }\n",
              "    20% {\n",
              "      border-color: transparent;\n",
              "      border-left-color: var(--fill-color);\n",
              "      border-top-color: var(--fill-color);\n",
              "    }\n",
              "    30% {\n",
              "      border-color: transparent;\n",
              "      border-left-color: var(--fill-color);\n",
              "      border-top-color: var(--fill-color);\n",
              "      border-right-color: var(--fill-color);\n",
              "    }\n",
              "    40% {\n",
              "      border-color: transparent;\n",
              "      border-right-color: var(--fill-color);\n",
              "      border-top-color: var(--fill-color);\n",
              "    }\n",
              "    60% {\n",
              "      border-color: transparent;\n",
              "      border-right-color: var(--fill-color);\n",
              "    }\n",
              "    80% {\n",
              "      border-color: transparent;\n",
              "      border-right-color: var(--fill-color);\n",
              "      border-bottom-color: var(--fill-color);\n",
              "    }\n",
              "    90% {\n",
              "      border-color: transparent;\n",
              "      border-bottom-color: var(--fill-color);\n",
              "    }\n",
              "  }\n",
              "</style>\n",
              "\n",
              "  <script>\n",
              "    async function quickchart(key) {\n",
              "      const quickchartButtonEl =\n",
              "        document.querySelector('#' + key + ' button');\n",
              "      quickchartButtonEl.disabled = true;  // To prevent multiple clicks.\n",
              "      quickchartButtonEl.classList.add('colab-df-spinner');\n",
              "      try {\n",
              "        const charts = await google.colab.kernel.invokeFunction(\n",
              "            'suggestCharts', [key], {});\n",
              "      } catch (error) {\n",
              "        console.error('Error during call to suggestCharts:', error);\n",
              "      }\n",
              "      quickchartButtonEl.classList.remove('colab-df-spinner');\n",
              "      quickchartButtonEl.classList.add('colab-df-quickchart-complete');\n",
              "    }\n",
              "    (() => {\n",
              "      let quickchartButtonEl =\n",
              "        document.querySelector('#df-8f37ca1d-e39d-48d9-a16b-e02ae539b40d button');\n",
              "      quickchartButtonEl.style.display =\n",
              "        google.colab.kernel.accessAllowed ? 'block' : 'none';\n",
              "    })();\n",
              "  </script>\n",
              "</div>\n",
              "    </div>\n",
              "  </div>\n"
            ],
            "application/vnd.google.colaboratory.intrinsic+json": {
              "type": "dataframe",
              "variable_name": "df",
              "summary": "{\n  \"name\": \"df\",\n  \"rows\": 99995,\n  \"fields\": [\n    {\n      \"column\": \"-4.32E+05\",\n      \"properties\": {\n        \"dtype\": \"number\",\n        \"std\": 112403.77055046796,\n        \"min\": -2710000.0,\n        \"max\": 787000.0,\n        \"num_unique_values\": 6358,\n        \"samples\": [\n          -349.0,\n          197.0,\n          -222000.0\n        ],\n        \"semantic_type\": \"\",\n        \"description\": \"\"\n      }\n    },\n    {\n      \"column\": \"-2.47E+04\",\n      \"properties\": {\n        \"dtype\": \"number\",\n        \"std\": 35146.94215711757,\n        \"min\": -1150000.0,\n        \"max\": 337000.0,\n        \"num_unique_values\": 5501,\n        \"samples\": [\n          106000.0,\n          -174.0,\n          52500.0\n        ],\n        \"semantic_type\": \"\",\n        \"description\": \"\"\n      }\n    },\n    {\n      \"column\": \"1.56E+05\",\n      \"properties\": {\n        \"dtype\": \"number\",\n        \"std\": 39610.53508705053,\n        \"min\": -888000.0,\n        \"max\": 263000.0,\n        \"num_unique_values\": 5453,\n        \"samples\": [\n          41200.0,\n          73700.0,\n          54200.0\n        ],\n        \"semantic_type\": \"\",\n        \"description\": \"\"\n      }\n    },\n    {\n      \"column\": \"9.75E+04\",\n      \"properties\": {\n        \"dtype\": \"number\",\n        \"std\": 33716.0846471424,\n        \"min\": -967000.0,\n        \"max\": 286000.0,\n        \"num_unique_values\": 5522,\n        \"samples\": [\n          -22200.0,\n          -46500.0,\n          -607.0\n        ],\n        \"semantic_type\": \"\",\n        \"description\": \"\"\n      }\n    },\n    {\n      \"column\": \"7.40E+04\",\n      \"properties\": {\n        \"dtype\": \"number\",\n        \"std\": 71406.21773949574,\n        \"min\": -2320000.0,\n        \"max\": 676000.0,\n        \"num_unique_values\": 5904,\n        \"samples\": [\n          -597.0,\n          -339000.0,\n          4140.0\n        ],\n        \"semantic_type\": \"\",\n        \"description\": \"\"\n      }\n    },\n    {\n      \"column\": \"9.75E+04.1\",\n      \"properties\": {\n        \"dtype\": \"number\",\n        \"std\": 33716.0846471424,\n        \"min\": -967000.0,\n        \"max\": 286000.0,\n        \"num_unique_values\": 5522,\n        \"samples\": [\n          -22200.0,\n          -46500.0,\n          -607.0\n        ],\n        \"semantic_type\": \"\",\n        \"description\": \"\"\n      }\n    },\n    {\n      \"column\": \"1.56E+05.1\",\n      \"properties\": {\n        \"dtype\": \"number\",\n        \"std\": 39610.53508705053,\n        \"min\": -888000.0,\n        \"max\": 263000.0,\n        \"num_unique_values\": 5453,\n        \"samples\": [\n          41200.0,\n          73700.0,\n          54200.0\n        ],\n        \"semantic_type\": \"\",\n        \"description\": \"\"\n      }\n    },\n    {\n      \"column\": \"-2.47E+04.1\",\n      \"properties\": {\n        \"dtype\": \"number\",\n        \"std\": 35146.94215711757,\n        \"min\": -1150000.0,\n        \"max\": 337000.0,\n        \"num_unique_values\": 5501,\n        \"samples\": [\n          106000.0,\n          -174.0,\n          52500.0\n        ],\n        \"semantic_type\": \"\",\n        \"description\": \"\"\n      }\n    },\n    {\n      \"column\": \"Target\",\n      \"properties\": {\n        \"dtype\": \"number\",\n        \"std\": 0,\n        \"min\": 0,\n        \"max\": 1,\n        \"num_unique_values\": 2,\n        \"samples\": [\n          0,\n          1\n        ],\n        \"semantic_type\": \"\",\n        \"description\": \"\"\n      }\n    }\n  ]\n}"
            }
          },
          "metadata": {},
          "execution_count": 3
        }
      ]
    },
    {
      "cell_type": "code",
      "source": [
        "df.isnull().sum()"
      ],
      "metadata": {
        "colab": {
          "base_uri": "https://localhost:8080/"
        },
        "id": "LzUQeB2A9ezH",
        "outputId": "30ecfe6e-ecc6-4bd2-9850-520c0c143bf4"
      },
      "execution_count": null,
      "outputs": [
        {
          "output_type": "execute_result",
          "data": {
            "text/plain": [
              "-4.32E+05      0\n",
              "-2.47E+04      0\n",
              "1.56E+05       0\n",
              "9.75E+04       0\n",
              "7.40E+04       0\n",
              "9.75E+04.1     0\n",
              "1.56E+05.1     0\n",
              "-2.47E+04.1    0\n",
              "Target         0\n",
              "dtype: int64"
            ]
          },
          "metadata": {},
          "execution_count": 3
        }
      ]
    },
    {
      "cell_type": "markdown",
      "source": [
        "**Deep Learning LSTM-CNN**"
      ],
      "metadata": {
        "id": "C24ujBOGH-kH"
      }
    },
    {
      "cell_type": "code",
      "source": [
        "import numpy as np\n",
        "import pandas as pd\n",
        "from sklearn.model_selection import train_test_split\n",
        "from sklearn.preprocessing import StandardScaler\n",
        "from tensorflow.keras.models import Sequential\n",
        "from tensorflow.keras.layers import Conv1D, LSTM, Dense, MaxPooling1D, Flatten, BatchNormalization, Dropout"
      ],
      "metadata": {
        "id": "kNmMM-HXICKT"
      },
      "execution_count": null,
      "outputs": []
    },
    {
      "cell_type": "code",
      "source": [
        "# Load your dataset\n",
        "df = pd.read_csv('/content/drive/MyDrive/Final Year Project/Sub1_Sub3_FD.csv')"
      ],
      "metadata": {
        "id": "ifckJ9olIFeV"
      },
      "execution_count": null,
      "outputs": []
    },
    {
      "cell_type": "code",
      "source": [
        "# Extract features and target variable\n",
        "X = df.iloc[:, :-1].values  # Assuming the last column is the target variable\n",
        "y = df.iloc[:, -1].values"
      ],
      "metadata": {
        "id": "J9_X7uTAIQpb"
      },
      "execution_count": null,
      "outputs": []
    },
    {
      "cell_type": "code",
      "source": [
        "# Standardize the features\n",
        "scaler = StandardScaler()\n",
        "X = scaler.fit_transform(X)"
      ],
      "metadata": {
        "id": "c4fw_EErITRz"
      },
      "execution_count": null,
      "outputs": []
    },
    {
      "cell_type": "code",
      "source": [
        "# Split the dataset into training and testing sets\n",
        "X_train, X_test, y_train, y_test = train_test_split(X, y, test_size=0.2, random_state=42)"
      ],
      "metadata": {
        "id": "SPNEzGKSIVtV"
      },
      "execution_count": null,
      "outputs": []
    },
    {
      "cell_type": "code",
      "source": [
        "# Reshape the data for LSTM-CNN model\n",
        "X_train = X_train.reshape((X_train.shape[0], X_train.shape[1], 1))\n",
        "X_test = X_test.reshape((X_test.shape[0], X_test.shape[1], 1))"
      ],
      "metadata": {
        "id": "jyHpR9N4IYdt"
      },
      "execution_count": null,
      "outputs": []
    },
    {
      "cell_type": "code",
      "source": [
        "# Define the complex LSTM-CNN model\n",
        "model = Sequential()"
      ],
      "metadata": {
        "id": "II-JhCWfIbJO"
      },
      "execution_count": null,
      "outputs": []
    },
    {
      "cell_type": "code",
      "source": [
        "# First Convolutional Layer\n",
        "model.add(Conv1D(filters=64, kernel_size=3, activation='relu', input_shape=(X_train.shape[1], 1)))\n",
        "model.add(BatchNormalization())\n",
        "model.add(MaxPooling1D(pool_size=2))\n",
        "model.add(Dropout(0.25))"
      ],
      "metadata": {
        "id": "lbJrpbzlIdfK"
      },
      "execution_count": null,
      "outputs": []
    },
    {
      "cell_type": "code",
      "source": [
        "# LSTM Layers\n",
        "model.add(LSTM(100, return_sequences=True))\n",
        "model.add(LSTM(50))"
      ],
      "metadata": {
        "id": "GirpPbacIid2"
      },
      "execution_count": null,
      "outputs": []
    },
    {
      "cell_type": "code",
      "source": [
        "# Dense Layers\n",
        "model.add(Dense(128, activation='relu'))\n",
        "model.add(BatchNormalization())\n",
        "model.add(Dropout(0.5))"
      ],
      "metadata": {
        "id": "7_I9nm_aJDcB"
      },
      "execution_count": null,
      "outputs": []
    },
    {
      "cell_type": "code",
      "source": [
        "# Output Layer\n",
        "model.add(Dense(1, activation='sigmoid'))"
      ],
      "metadata": {
        "id": "UIymrR-iJF7Z"
      },
      "execution_count": null,
      "outputs": []
    },
    {
      "cell_type": "code",
      "source": [
        "# Compile the model\n",
        "model.compile(loss='binary_crossentropy', optimizer='adam', metrics=['accuracy'])"
      ],
      "metadata": {
        "id": "vydeNLXYJIUd"
      },
      "execution_count": null,
      "outputs": []
    },
    {
      "cell_type": "code",
      "source": [
        "# Print model summary\n",
        "model.summary()"
      ],
      "metadata": {
        "colab": {
          "base_uri": "https://localhost:8080/"
        },
        "id": "g4M_G4bmJLg5",
        "outputId": "da610ae3-20e9-456b-9898-51cb9d220937"
      },
      "execution_count": null,
      "outputs": [
        {
          "output_type": "stream",
          "name": "stdout",
          "text": [
            "Model: \"sequential_5\"\n",
            "_________________________________________________________________\n",
            " Layer (type)                Output Shape              Param #   \n",
            "=================================================================\n",
            " conv1d_14 (Conv1D)          (None, 6, 64)             256       \n",
            "                                                                 \n",
            " batch_normalization_10 (Ba  (None, 6, 64)             256       \n",
            " tchNormalization)                                               \n",
            "                                                                 \n",
            " max_pooling1d_11 (MaxPooli  (None, 3, 64)             0         \n",
            " ng1D)                                                           \n",
            "                                                                 \n",
            " dropout_5 (Dropout)         (None, 3, 64)             0         \n",
            "                                                                 \n",
            " lstm (LSTM)                 (None, 3, 100)            66000     \n",
            "                                                                 \n",
            " lstm_1 (LSTM)               (None, 50)                30200     \n",
            "                                                                 \n",
            " dense (Dense)               (None, 128)               6528      \n",
            "                                                                 \n",
            " batch_normalization_11 (Ba  (None, 128)               512       \n",
            " tchNormalization)                                               \n",
            "                                                                 \n",
            " dropout_6 (Dropout)         (None, 128)               0         \n",
            "                                                                 \n",
            " dense_1 (Dense)             (None, 1)                 129       \n",
            "                                                                 \n",
            "=================================================================\n",
            "Total params: 103881 (405.79 KB)\n",
            "Trainable params: 103497 (404.29 KB)\n",
            "Non-trainable params: 384 (1.50 KB)\n",
            "_________________________________________________________________\n"
          ]
        }
      ]
    },
    {
      "cell_type": "code",
      "source": [
        "# Train the model\n",
        "model.fit(X_train, y_train, epochs=20, batch_size=32, validation_data=(X_test, y_test))"
      ],
      "metadata": {
        "colab": {
          "base_uri": "https://localhost:8080/"
        },
        "id": "utiNtpc6JNgs",
        "outputId": "e4e3876f-30f7-42cd-d66d-31ae4ace2418"
      },
      "execution_count": null,
      "outputs": [
        {
          "output_type": "stream",
          "name": "stdout",
          "text": [
            "Epoch 1/20\n",
            "2500/2500 [==============================] - 32s 10ms/step - loss: 0.1978 - accuracy: 0.9154 - val_loss: 0.0886 - val_accuracy: 0.9669\n",
            "Epoch 2/20\n",
            "2500/2500 [==============================] - 24s 10ms/step - loss: 0.1060 - accuracy: 0.9635 - val_loss: 0.0798 - val_accuracy: 0.9722\n",
            "Epoch 3/20\n",
            "2500/2500 [==============================] - 23s 9ms/step - loss: 0.0888 - accuracy: 0.9706 - val_loss: 0.0553 - val_accuracy: 0.9811\n",
            "Epoch 4/20\n",
            "2500/2500 [==============================] - 24s 10ms/step - loss: 0.0781 - accuracy: 0.9743 - val_loss: 0.0547 - val_accuracy: 0.9809\n",
            "Epoch 5/20\n",
            "2500/2500 [==============================] - 24s 10ms/step - loss: 0.0715 - accuracy: 0.9764 - val_loss: 0.0671 - val_accuracy: 0.9778\n",
            "Epoch 6/20\n",
            "2500/2500 [==============================] - 24s 10ms/step - loss: 0.0680 - accuracy: 0.9770 - val_loss: 0.0434 - val_accuracy: 0.9853\n",
            "Epoch 7/20\n",
            "2500/2500 [==============================] - 24s 10ms/step - loss: 0.0632 - accuracy: 0.9797 - val_loss: 0.0431 - val_accuracy: 0.9851\n",
            "Epoch 8/20\n",
            "2500/2500 [==============================] - 23s 9ms/step - loss: 0.0625 - accuracy: 0.9799 - val_loss: 0.0468 - val_accuracy: 0.9839\n",
            "Epoch 9/20\n",
            "2500/2500 [==============================] - 24s 10ms/step - loss: 0.0604 - accuracy: 0.9793 - val_loss: 0.0452 - val_accuracy: 0.9844\n",
            "Epoch 10/20\n",
            "2500/2500 [==============================] - 24s 10ms/step - loss: 0.0577 - accuracy: 0.9804 - val_loss: 0.0418 - val_accuracy: 0.9858\n",
            "Epoch 11/20\n",
            "2500/2500 [==============================] - 24s 10ms/step - loss: 0.0566 - accuracy: 0.9811 - val_loss: 0.0381 - val_accuracy: 0.9873\n",
            "Epoch 12/20\n",
            "2500/2500 [==============================] - 24s 9ms/step - loss: 0.0568 - accuracy: 0.9815 - val_loss: 0.0445 - val_accuracy: 0.9840\n",
            "Epoch 13/20\n",
            "2500/2500 [==============================] - 25s 10ms/step - loss: 0.0544 - accuracy: 0.9823 - val_loss: 0.0445 - val_accuracy: 0.9851\n",
            "Epoch 14/20\n",
            "2500/2500 [==============================] - 24s 10ms/step - loss: 0.0540 - accuracy: 0.9825 - val_loss: 0.0360 - val_accuracy: 0.9873\n",
            "Epoch 15/20\n",
            "2500/2500 [==============================] - 24s 10ms/step - loss: 0.0525 - accuracy: 0.9826 - val_loss: 0.0349 - val_accuracy: 0.9879\n",
            "Epoch 16/20\n",
            "2500/2500 [==============================] - 24s 10ms/step - loss: 0.0516 - accuracy: 0.9827 - val_loss: 0.0389 - val_accuracy: 0.9866\n",
            "Epoch 17/20\n",
            "2500/2500 [==============================] - 24s 10ms/step - loss: 0.0498 - accuracy: 0.9833 - val_loss: 0.0420 - val_accuracy: 0.9856\n",
            "Epoch 18/20\n",
            "2500/2500 [==============================] - 23s 9ms/step - loss: 0.0488 - accuracy: 0.9839 - val_loss: 0.0407 - val_accuracy: 0.9863\n",
            "Epoch 19/20\n",
            "2500/2500 [==============================] - 24s 10ms/step - loss: 0.0510 - accuracy: 0.9833 - val_loss: 0.0355 - val_accuracy: 0.9880\n",
            "Epoch 20/20\n",
            "2500/2500 [==============================] - 24s 10ms/step - loss: 0.0481 - accuracy: 0.9837 - val_loss: 0.0339 - val_accuracy: 0.9886\n"
          ]
        },
        {
          "output_type": "execute_result",
          "data": {
            "text/plain": [
              "<keras.src.callbacks.History at 0x7df5d020cdc0>"
            ]
          },
          "metadata": {},
          "execution_count": 47
        }
      ]
    },
    {
      "cell_type": "code",
      "source": [
        "# Evaluate the model\n",
        "loss, accuracy = model.evaluate(X_test, y_test)\n",
        "print(f'Test Loss: {loss:.4f}, Test Accuracy: {accuracy * 100:.2f}%')"
      ],
      "metadata": {
        "colab": {
          "base_uri": "https://localhost:8080/"
        },
        "id": "PiIcumgIJSV2",
        "outputId": "9cce6477-b80b-4f7d-e595-3b4883a23d2a"
      },
      "execution_count": null,
      "outputs": [
        {
          "output_type": "stream",
          "name": "stdout",
          "text": [
            "625/625 [==============================] - 2s 4ms/step - loss: 0.0339 - accuracy: 0.9886\n",
            "Test Loss: 0.0339, Test Accuracy: 98.86%\n"
          ]
        }
      ]
    },
    {
      "cell_type": "code",
      "source": [
        "from sklearn.metrics import classification_report"
      ],
      "metadata": {
        "id": "5qm31u9yMETW"
      },
      "execution_count": null,
      "outputs": []
    },
    {
      "cell_type": "code",
      "source": [
        "# Evaluate the model\n",
        "y_pred = model.predict(X_test)\n",
        "y_pred_binary = (y_pred > 0.5).astype(int)\n",
        "\n",
        "# Print accuracy, F1 score, precision, and recall\n",
        "print(\"Classification Report:\\n\", classification_report(y_test, y_pred_binary))"
      ],
      "metadata": {
        "colab": {
          "base_uri": "https://localhost:8080/"
        },
        "id": "_03F2t_pMIqP",
        "outputId": "759b7b90-5ee8-4166-f878-1a76b0f222c6"
      },
      "execution_count": null,
      "outputs": [
        {
          "output_type": "stream",
          "name": "stdout",
          "text": [
            "625/625 [==============================] - 3s 3ms/step\n",
            "Classification Report:\n",
            "               precision    recall  f1-score   support\n",
            "\n",
            "           0       0.98      0.99      0.99      9921\n",
            "           1       0.99      0.98      0.99     10078\n",
            "\n",
            "    accuracy                           0.99     19999\n",
            "   macro avg       0.99      0.99      0.99     19999\n",
            "weighted avg       0.99      0.99      0.99     19999\n",
            "\n"
          ]
        }
      ]
    },
    {
      "cell_type": "code",
      "source": [
        "from sklearn.metrics import accuracy_score\n",
        "\n",
        "accuracy = accuracy_score(y_test, y_pred_binary)\n",
        "print(f'Accuracy: {accuracy * 100:.2f}%')"
      ],
      "metadata": {
        "colab": {
          "base_uri": "https://localhost:8080/"
        },
        "id": "Aixn_PIPMKk5",
        "outputId": "9dd67f36-1ee2-4f9d-d51e-216527259657"
      },
      "execution_count": null,
      "outputs": [
        {
          "output_type": "stream",
          "name": "stdout",
          "text": [
            "Accuracy: 98.86%\n"
          ]
        }
      ]
    },
    {
      "cell_type": "code",
      "source": [
        "from sklearn.metrics import f1_score\n",
        "f1 = f1_score(y_test, y_pred_binary)\n",
        "print(f'F1 Score: {f1:.4f}')"
      ],
      "metadata": {
        "colab": {
          "base_uri": "https://localhost:8080/"
        },
        "id": "gEZ-OWx6MOTE",
        "outputId": "f0205891-4931-4b31-8bc1-c1611728124a"
      },
      "execution_count": null,
      "outputs": [
        {
          "output_type": "stream",
          "name": "stdout",
          "text": [
            "F1 Score: 0.9886\n"
          ]
        }
      ]
    },
    {
      "cell_type": "code",
      "source": [
        "from sklearn.metrics import precision_score\n",
        "\n",
        "precision = precision_score(y_test, y_pred_binary)\n",
        "print(f'Precision: {precision:.4f}')"
      ],
      "metadata": {
        "colab": {
          "base_uri": "https://localhost:8080/"
        },
        "id": "bIWiTyPsMQtz",
        "outputId": "92e57947-b6a2-4b23-afbd-4f9867de0e64"
      },
      "execution_count": null,
      "outputs": [
        {
          "output_type": "stream",
          "name": "stdout",
          "text": [
            "Precision: 0.9948\n"
          ]
        }
      ]
    },
    {
      "cell_type": "code",
      "source": [
        "from sklearn.metrics import recall_score\n",
        "\n",
        "recall = recall_score(y_test, y_pred_binary)\n",
        "print(f'Recall: {recall:.4f}')"
      ],
      "metadata": {
        "colab": {
          "base_uri": "https://localhost:8080/"
        },
        "id": "4mMLMr1QMTVf",
        "outputId": "0ea97acf-2b51-4c42-a8ab-8eedab117d14"
      },
      "execution_count": null,
      "outputs": [
        {
          "output_type": "stream",
          "name": "stdout",
          "text": [
            "Recall: 0.9825\n"
          ]
        }
      ]
    },
    {
      "cell_type": "code",
      "source": [
        "import matplotlib.pyplot as plt\n",
        "\n",
        "# Data\n",
        "x_values = ['EMD_LSTM', 'FD_LSTM', 'WPD_LSTM']\n",
        "y_values = [93.73, 98.86, 99.95]\n",
        "\n",
        "# Create bar chart\n",
        "plt.bar(x_values, y_values, color=['red', 'green', 'blue'])\n",
        "\n",
        "# Add labels and title\n",
        "plt.xlabel('Models')\n",
        "plt.ylabel('Accuracy (%)')\n",
        "plt.title('Accuracy of Different Models')\n",
        "\n",
        "# Show the plot\n",
        "plt.show()"
      ],
      "metadata": {
        "colab": {
          "base_uri": "https://localhost:8080/",
          "height": 472
        },
        "id": "YVtfbYpDPYc8",
        "outputId": "dd3e9c2b-0c9c-4c54-87db-6297bf2a160a"
      },
      "execution_count": null,
      "outputs": [
        {
          "output_type": "display_data",
          "data": {
            "text/plain": [
              "<Figure size 640x480 with 1 Axes>"
            ],
            "image/png": "[encoded data removed]"
          },
          "metadata": {}
        }
      ]
    },
    {
      "cell_type": "markdown",
      "source": [
        "# **Simple CNN**"
      ],
      "metadata": {
        "id": "qzQtn2okdn1Q"
      }
    },
    {
      "cell_type": "code",
      "source": [
        "import numpy as np\n",
        "import pandas as pd\n",
        "from sklearn.model_selection import train_test_split\n",
        "from sklearn.preprocessing import StandardScaler\n",
        "from tensorflow.keras.models import Sequential\n",
        "from tensorflow.keras.layers import Dense, Conv1D, Flatten"
      ],
      "metadata": {
        "id": "gNdBzwIaPmU6"
      },
      "execution_count": null,
      "outputs": []
    },
    {
      "cell_type": "code",
      "source": [
        "# Assuming your dataset is stored in a pandas DataFrame called 'df'\n",
        "X = df.iloc[:, :-1].values  # Features\n",
        "y = df.iloc[:, -1].values"
      ],
      "metadata": {
        "id": "hWotPajadvTx"
      },
      "execution_count": null,
      "outputs": []
    },
    {
      "cell_type": "code",
      "source": [
        "# Split the dataset into training and testing sets\n",
        "X_train, X_test, y_train, y_test = train_test_split(X, y, test_size=0.2, random_state=42)"
      ],
      "metadata": {
        "id": "6sEb1FX1dyzQ"
      },
      "execution_count": null,
      "outputs": []
    },
    {
      "cell_type": "code",
      "source": [
        "# Standardize the features\n",
        "scaler = StandardScaler()\n",
        "X_train = scaler.fit_transform(X_train)\n",
        "X_test = scaler.transform(X_test)"
      ],
      "metadata": {
        "id": "-WwAi324d0-3"
      },
      "execution_count": null,
      "outputs": []
    },
    {
      "cell_type": "code",
      "source": [
        "# Reshape the data for the CNN (assuming 14 features)\n",
        "X_train = X_train.reshape(X_train.shape[0], X_train.shape[1], 1)\n",
        "X_test = X_test.reshape(X_test.shape[0], X_test.shape[1], 1)"
      ],
      "metadata": {
        "id": "4YI8EMpEd3Iy"
      },
      "execution_count": null,
      "outputs": []
    },
    {
      "cell_type": "code",
      "source": [
        "# Define the CNN model\n",
        "model = Sequential()\n",
        "model.add(Conv1D(filters=32, kernel_size=3, activation='relu', input_shape=(X_train.shape[1], 1)))\n",
        "model.add(Flatten())\n",
        "model.add(Dense(1, activation='sigmoid'))"
      ],
      "metadata": {
        "id": "ol9x7tlld5jS"
      },
      "execution_count": null,
      "outputs": []
    },
    {
      "cell_type": "code",
      "source": [
        "# Compile the model\n",
        "model.compile(optimizer='adam', loss='binary_crossentropy', metrics=['accuracy'])"
      ],
      "metadata": {
        "id": "rlLqePNud9Cf"
      },
      "execution_count": null,
      "outputs": []
    },
    {
      "cell_type": "code",
      "source": [
        "# Train the model\n",
        "model.fit(X_train, y_train, epochs=10, batch_size=32, validation_data=(X_test, y_test))"
      ],
      "metadata": {
        "colab": {
          "base_uri": "https://localhost:8080/"
        },
        "id": "T60zrq7jeBgl",
        "outputId": "fab4d3b5-c9ab-4628-b635-eacb1fc5d81b"
      },
      "execution_count": null,
      "outputs": [
        {
          "output_type": "stream",
          "name": "stdout",
          "text": [
            "Epoch 1/10\n",
            "2500/2500 [==============================] - 8s 3ms/step - loss: 0.2956 - accuracy: 0.9026 - val_loss: 0.1301 - val_accuracy: 0.9601\n",
            "Epoch 2/10\n",
            "2500/2500 [==============================] - 6s 2ms/step - loss: 0.1061 - accuracy: 0.9664 - val_loss: 0.0882 - val_accuracy: 0.9713\n",
            "Epoch 3/10\n",
            "2500/2500 [==============================] - 7s 3ms/step - loss: 0.0846 - accuracy: 0.9709 - val_loss: 0.0772 - val_accuracy: 0.9710\n",
            "Epoch 4/10\n",
            "2500/2500 [==============================] - 5s 2ms/step - loss: 0.0781 - accuracy: 0.9722 - val_loss: 0.0732 - val_accuracy: 0.9724\n",
            "Epoch 5/10\n",
            "2500/2500 [==============================] - 7s 3ms/step - loss: 0.0753 - accuracy: 0.9729 - val_loss: 0.0711 - val_accuracy: 0.9729\n",
            "Epoch 6/10\n",
            "2500/2500 [==============================] - 6s 2ms/step - loss: 0.0737 - accuracy: 0.9732 - val_loss: 0.0697 - val_accuracy: 0.9731\n",
            "Epoch 7/10\n",
            "2500/2500 [==============================] - 7s 3ms/step - loss: 0.0723 - accuracy: 0.9736 - val_loss: 0.0695 - val_accuracy: 0.9734\n",
            "Epoch 8/10\n",
            "2500/2500 [==============================] - 6s 2ms/step - loss: 0.0710 - accuracy: 0.9743 - val_loss: 0.0697 - val_accuracy: 0.9732\n",
            "Epoch 9/10\n",
            "2500/2500 [==============================] - 7s 3ms/step - loss: 0.0704 - accuracy: 0.9742 - val_loss: 0.0679 - val_accuracy: 0.9738\n",
            "Epoch 10/10\n",
            "2500/2500 [==============================] - 7s 3ms/step - loss: 0.0690 - accuracy: 0.9748 - val_loss: 0.0655 - val_accuracy: 0.9756\n"
          ]
        },
        {
          "output_type": "execute_result",
          "data": {
            "text/plain": [
              "<keras.src.callbacks.History at 0x7efc8c4ba020>"
            ]
          },
          "metadata": {},
          "execution_count": 12
        }
      ]
    },
    {
      "cell_type": "code",
      "source": [
        "from sklearn.metrics import accuracy_score\n",
        "\n",
        "accuracy = accuracy_score(y_test, y_pred_binary)\n",
        "print(f'Accuracy: {accuracy * 100:.2f}%')"
      ],
      "metadata": {
        "colab": {
          "base_uri": "https://localhost:8080/"
        },
        "id": "tm2rHna1si7e",
        "outputId": "38c6a2a0-5428-434f-f581-f3ce38674cd1"
      },
      "execution_count": null,
      "outputs": [
        {
          "output_type": "stream",
          "name": "stdout",
          "text": [
            "Accuracy: 97.56%\n"
          ]
        }
      ]
    },
    {
      "cell_type": "code",
      "source": [
        "from sklearn.metrics import f1_score\n",
        "f1 = f1_score(y_test, y_pred_binary)\n",
        "print(f'F1 Score: {f1:.4f}')"
      ],
      "metadata": {
        "colab": {
          "base_uri": "https://localhost:8080/"
        },
        "id": "NRP6knylsmkW",
        "outputId": "3463cc99-5540-4dc1-d0b4-763effba2bc9"
      },
      "execution_count": null,
      "outputs": [
        {
          "output_type": "stream",
          "name": "stdout",
          "text": [
            "F1 Score: 0.9755\n"
          ]
        }
      ]
    },
    {
      "cell_type": "code",
      "source": [
        "from sklearn.metrics import precision_score\n",
        "\n",
        "precision = precision_score(y_test, y_pred_binary)\n",
        "print(f'Precision: {precision:.4f}')"
      ],
      "metadata": {
        "colab": {
          "base_uri": "https://localhost:8080/"
        },
        "id": "OKY5KSC5sout",
        "outputId": "6e7a266f-283e-4b74-a1d5-01653458ba82"
      },
      "execution_count": null,
      "outputs": [
        {
          "output_type": "stream",
          "name": "stdout",
          "text": [
            "Precision: 0.9880\n"
          ]
        }
      ]
    },
    {
      "cell_type": "code",
      "source": [
        "from sklearn.metrics import recall_score\n",
        "\n",
        "recall = recall_score(y_test, y_pred_binary)\n",
        "print(f'Recall: {recall:.4f}')"
      ],
      "metadata": {
        "colab": {
          "base_uri": "https://localhost:8080/"
        },
        "id": "LwWOmENQsrHG",
        "outputId": "d0a2e8ed-2f38-4951-c2aa-a516de24d00f"
      },
      "execution_count": null,
      "outputs": [
        {
          "output_type": "stream",
          "name": "stdout",
          "text": [
            "Recall: 0.9633\n"
          ]
        }
      ]
    },
    {
      "cell_type": "markdown",
      "source": [
        "# **Simple RNN**"
      ],
      "metadata": {
        "id": "yHkhkVwSefOQ"
      }
    },
    {
      "cell_type": "code",
      "source": [
        "import numpy as np\n",
        "import pandas as pd\n",
        "from sklearn.model_selection import train_test_split\n",
        "from sklearn.preprocessing import StandardScaler\n",
        "from tensorflow.keras.models import Sequential\n",
        "from tensorflow.keras.layers import SimpleRNN, Dense"
      ],
      "metadata": {
        "id": "eG868v6eeZFu"
      },
      "execution_count": null,
      "outputs": []
    },
    {
      "cell_type": "code",
      "source": [
        "# Assuming your dataset is stored in a pandas DataFrame called 'df'\n",
        "X = df.iloc[:, :-1].values  # Features\n",
        "y = df.iloc[:, -1].values   # Target variable"
      ],
      "metadata": {
        "id": "WYcds3ZTej6T"
      },
      "execution_count": null,
      "outputs": []
    },
    {
      "cell_type": "code",
      "source": [
        "# Split the dataset into training and testing sets\n",
        "X_train, X_test, y_train, y_test = train_test_split(X, y, test_size=0.2, random_state=42)"
      ],
      "metadata": {
        "id": "ediVkIzmemD4"
      },
      "execution_count": null,
      "outputs": []
    },
    {
      "cell_type": "code",
      "source": [
        "# Standardize the features\n",
        "scaler = StandardScaler()\n",
        "X_train = scaler.fit_transform(X_train)\n",
        "X_test = scaler.transform(X_test)"
      ],
      "metadata": {
        "id": "-kRRuDrseoCA"
      },
      "execution_count": null,
      "outputs": []
    },
    {
      "cell_type": "code",
      "source": [
        "# Reshape the data for the RNN (assuming 14 features)\n",
        "X_train = X_train.reshape(X_train.shape[0], 1, X_train.shape[1])\n",
        "X_test = X_test.reshape(X_test.shape[0], 1, X_test.shape[1])"
      ],
      "metadata": {
        "id": "BjAnLZz7eqIM"
      },
      "execution_count": null,
      "outputs": []
    },
    {
      "cell_type": "code",
      "source": [
        "# Define the RNN model\n",
        "rnn_model = Sequential()\n",
        "rnn_model.add(SimpleRNN(32, input_shape=(X_train.shape[1], X_train.shape[2])))\n",
        "rnn_model.add(Dense(1, activation='sigmoid'))"
      ],
      "metadata": {
        "id": "ephcHEzIesQP"
      },
      "execution_count": null,
      "outputs": []
    },
    {
      "cell_type": "code",
      "source": [
        "# Compile the model\n",
        "rnn_model.compile(optimizer='adam', loss='binary_crossentropy', metrics=['accuracy'])"
      ],
      "metadata": {
        "id": "PIeOy8_CeuBB"
      },
      "execution_count": null,
      "outputs": []
    },
    {
      "cell_type": "code",
      "source": [
        "# Train the model\n",
        "rnn_model.fit(X_train, y_train, epochs=10, batch_size=32, validation_data=(X_test, y_test))"
      ],
      "metadata": {
        "colab": {
          "base_uri": "https://localhost:8080/"
        },
        "id": "tzqPpWFIevmq",
        "outputId": "2dcbb66c-14bb-40f5-c4d6-374d0cd73fda"
      },
      "execution_count": null,
      "outputs": [
        {
          "output_type": "stream",
          "name": "stdout",
          "text": [
            "Epoch 1/10\n",
            "2500/2500 [==============================] - 9s 3ms/step - loss: 0.5339 - accuracy: 0.7381 - val_loss: 0.3603 - val_accuracy: 0.8316\n",
            "Epoch 2/10\n",
            "2500/2500 [==============================] - 7s 3ms/step - loss: 0.2881 - accuracy: 0.8783 - val_loss: 0.2200 - val_accuracy: 0.9314\n",
            "Epoch 3/10\n",
            "2500/2500 [==============================] - 8s 3ms/step - loss: 0.1894 - accuracy: 0.9434 - val_loss: 0.1607 - val_accuracy: 0.9530\n",
            "Epoch 4/10\n",
            "2500/2500 [==============================] - 6s 3ms/step - loss: 0.1486 - accuracy: 0.9555 - val_loss: 0.1343 - val_accuracy: 0.9532\n",
            "Epoch 5/10\n",
            "2500/2500 [==============================] - 9s 3ms/step - loss: 0.1274 - accuracy: 0.9602 - val_loss: 0.1176 - val_accuracy: 0.9596\n",
            "Epoch 6/10\n",
            "2500/2500 [==============================] - 7s 3ms/step - loss: 0.1147 - accuracy: 0.9633 - val_loss: 0.1073 - val_accuracy: 0.9674\n",
            "Epoch 7/10\n",
            "2500/2500 [==============================] - 8s 3ms/step - loss: 0.1057 - accuracy: 0.9652 - val_loss: 0.0996 - val_accuracy: 0.9652\n",
            "Epoch 8/10\n",
            "2500/2500 [==============================] - 8s 3ms/step - loss: 0.0986 - accuracy: 0.9676 - val_loss: 0.0931 - val_accuracy: 0.9702\n",
            "Epoch 9/10\n",
            "2500/2500 [==============================] - 8s 3ms/step - loss: 0.0929 - accuracy: 0.9691 - val_loss: 0.0889 - val_accuracy: 0.9685\n",
            "Epoch 10/10\n",
            "2500/2500 [==============================] - 7s 3ms/step - loss: 0.0887 - accuracy: 0.9700 - val_loss: 0.0850 - val_accuracy: 0.9697\n"
          ]
        },
        {
          "output_type": "execute_result",
          "data": {
            "text/plain": [
              "<keras.src.callbacks.History at 0x7efc8c1cb430>"
            ]
          },
          "metadata": {},
          "execution_count": 26
        }
      ]
    },
    {
      "cell_type": "code",
      "source": [
        "from sklearn.metrics import accuracy_score\n",
        "\n",
        "accuracy = accuracy_score(y_test, y_pred_binary)\n",
        "print(f'Accuracy: {accuracy * 100:.2f}%')"
      ],
      "metadata": {
        "colab": {
          "base_uri": "https://localhost:8080/"
        },
        "outputId": "9c05e090-6329-49ab-e388-b858cbae4978",
        "id": "FpuVsX82v1b6"
      },
      "execution_count": null,
      "outputs": [
        {
          "output_type": "stream",
          "name": "stdout",
          "text": [
            "Accuracy: 96.97%\n"
          ]
        }
      ]
    },
    {
      "cell_type": "code",
      "source": [
        "from sklearn.metrics import f1_score\n",
        "f1 = f1_score(y_test, y_pred_binary)\n",
        "print(f'F1 Score: {f1:.4f}')"
      ],
      "metadata": {
        "colab": {
          "base_uri": "https://localhost:8080/"
        },
        "outputId": "d7293317-7bd8-44bb-d763-e6a0385e25cb",
        "id": "1i0bd3kYv1b7"
      },
      "execution_count": null,
      "outputs": [
        {
          "output_type": "stream",
          "name": "stdout",
          "text": [
            "F1 Score: 0.9691\n"
          ]
        }
      ]
    },
    {
      "cell_type": "code",
      "source": [
        "from sklearn.metrics import precision_score\n",
        "\n",
        "precision = precision_score(y_test, y_pred_binary)\n",
        "print(f'Precision: {precision:.4f}')"
      ],
      "metadata": {
        "colab": {
          "base_uri": "https://localhost:8080/"
        },
        "outputId": "7a740d1c-1e12-4aa5-adba-85762e7e2b27",
        "id": "8ATC_kSev1b8"
      },
      "execution_count": null,
      "outputs": [
        {
          "output_type": "stream",
          "name": "stdout",
          "text": [
            "Precision: 0.9965\n"
          ]
        }
      ]
    },
    {
      "cell_type": "code",
      "source": [
        "from sklearn.metrics import recall_score\n",
        "\n",
        "recall = recall_score(y_test, y_pred_binary)\n",
        "print(f'Recall: {recall:.4f}')"
      ],
      "metadata": {
        "colab": {
          "base_uri": "https://localhost:8080/"
        },
        "outputId": "268456ce-44cb-469a-f765-115682d27ec6",
        "id": "ETD-sqMNv1b9"
      },
      "execution_count": null,
      "outputs": [
        {
          "output_type": "stream",
          "name": "stdout",
          "text": [
            "Recall: 0.9431\n"
          ]
        }
      ]
    }
  ]
}